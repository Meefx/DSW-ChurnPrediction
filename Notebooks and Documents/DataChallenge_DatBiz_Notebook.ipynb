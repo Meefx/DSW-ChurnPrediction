{
  "cells": [
    {
      "cell_type": "markdown",
      "metadata": {
        "id": "A1kBH50D9pZw"
      },
      "source": [
        "# **I. Introduction**"
      ]
    },
    {
      "cell_type": "markdown",
      "metadata": {
        "id": "wHe-Bei-9wao"
      },
      "source": [
        "The dataset shows the usage of telecommunication services in Q3 of a particular year. There are several columns provided in the dataset:\n",
        "- **Customer ID** (A unique customer identifier)\n",
        "- **Tenure Months** (How long the customer has been with the company by the end of the quarter specified above)\n",
        "- **Location** (Customer's residence - City)\n",
        "- **Device Class** (Device classification)\n",
        "- **Games Product** (Whether the customer uses the internet service for games product)\n",
        "- **Music Product** (Whether the customer uses the internet service for music product)\n",
        "- **Education Product** (Whether the customer uses the internet service for education product)\n",
        "- **Call Center** (Whether the customer uses the call center service)\n",
        "- **Video Product** (Whether the customer uses video product service)\n",
        "- **Use MyApp** (Whether the customer uses MyApp service)\n",
        "- **Payment Method** (The method used for paying the bill)\n",
        "- **Monthly Purchase** (Total customer’s monthly spent for all services with the unit of thousands of IDR)\n",
        "- **Churn Label** (Whether the customer left the company in this quarter)\n",
        "- **Longitude** (Customer’s residence - Longitude)\n",
        "- **Latitude** (Customer’s residence - Latitude)\n",
        "- **CLTV** (Customer Lifetime Value with the unit of thousands of IDR - Calculated using company's formulas)"
      ]
    },
    {
      "cell_type": "markdown",
      "metadata": {
        "id": "T_BZOedX9jeA"
      },
      "source": [
        "# **II. Project Setup**"
      ]
    },
    {
      "cell_type": "code",
      "execution_count": null,
      "metadata": {
        "id": "U06OyBvqLT7M",
        "colab": {
          "base_uri": "https://localhost:8080/"
        },
        "outputId": "3c915bc5-24b6-4fc9-a4b9-8cd085b04ad1"
      },
      "outputs": [
        {
          "output_type": "stream",
          "name": "stdout",
          "text": [
            "\u001b[2K     \u001b[90m━━━━━━━━━━━━━━━━━━━━━━━━━━━━━━━━━━━━━━━━\u001b[0m \u001b[32m98.7/98.7 MB\u001b[0m \u001b[31m10.1 MB/s\u001b[0m eta \u001b[36m0:00:00\u001b[0m\n",
            "\u001b[2K     \u001b[90m━━━━━━━━━━━━━━━━━━━━━━━━━━━━━━━━━━━━━━━━\u001b[0m \u001b[32m409.6/409.6 kB\u001b[0m \u001b[31m4.8 MB/s\u001b[0m eta \u001b[36m0:00:00\u001b[0m\n",
            "\u001b[2K     \u001b[90m━━━━━━━━━━━━━━━━━━━━━━━━━━━━━━━━━━━━━━━━\u001b[0m \u001b[32m226.8/226.8 kB\u001b[0m \u001b[31m10.3 MB/s\u001b[0m eta \u001b[36m0:00:00\u001b[0m\n",
            "\u001b[2K     \u001b[90m━━━━━━━━━━━━━━━━━━━━━━━━━━━━━━━━━━━━━━━━\u001b[0m \u001b[32m78.6/78.6 kB\u001b[0m \u001b[31m5.2 MB/s\u001b[0m eta \u001b[36m0:00:00\u001b[0m\n",
            "\u001b[2K     \u001b[90m━━━━━━━━━━━━━━━━━━━━━━━━━━━━━━━━━━━━━━━━\u001b[0m \u001b[32m532.9/532.9 kB\u001b[0m \u001b[31m5.4 MB/s\u001b[0m eta \u001b[36m0:00:00\u001b[0m\n",
            "\u001b[?25h"
          ]
        }
      ],
      "source": [
        "!pip install --q catboost\n",
        "!pip install --q optuna\n",
        "!pip install --q shap"
      ]
    },
    {
      "cell_type": "code",
      "execution_count": null,
      "metadata": {
        "id": "2hM3VOcw8oli"
      },
      "outputs": [],
      "source": [
        "# Basic packages\n",
        "import pandas as pd\n",
        "import numpy as np\n",
        "import datetime\n",
        "import json\n",
        "\n",
        "# Viz\n",
        "import matplotlib.pyplot as plt\n",
        "import seaborn as sns\n",
        "from matplotlib.dates import DateFormatter, DayLocator\n",
        "\n",
        "# Time series\n",
        "from statsmodels.tsa.stattools import adfuller, acf, pacf, arma_order_select_ic\n",
        "from sklearn.model_selection import TimeSeriesSplit\n",
        "import scipy.stats as scs\n",
        "\n",
        "# Metrics\n",
        "from sklearn.metrics import roc_auc_score as ras\n",
        "from sklearn.metrics import confusion_matrix\n",
        "from sklearn.metrics import accuracy_score, precision_score, recall_score, f1_score\n",
        "\n",
        "# Modeling\n",
        "from sklearn.model_selection import KFold\n",
        "from sklearn.linear_model import LogisticRegression\n",
        "from sklearn.tree import DecisionTreeClassifier\n",
        "from sklearn.ensemble import RandomForestClassifier\n",
        "from sklearn.neighbors import KNeighborsClassifier\n",
        "from sklearn.naive_bayes import GaussianNB\n",
        "from sklearn.svm import SVC\n",
        "from sklearn.neural_network import MLPClassifier\n",
        "import xgboost as xgb\n",
        "import lightgbm as lgbm\n",
        "import catboost as cb\n",
        "from sklearn.cluster import KMeans\n",
        "import optuna\n",
        "import shap\n",
        "from sklearn.model_selection import train_test_split\n",
        "\n",
        "# Settings\n",
        "import gdown\n",
        "import warnings\n",
        "warnings.filterwarnings(\"ignore\")\n",
        "pd.set_option('display.max_columns', None)\n",
        "np.random.seed(42)"
      ]
    },
    {
      "cell_type": "code",
      "execution_count": null,
      "metadata": {
        "colab": {
          "base_uri": "https://localhost:8080/",
          "height": 345
        },
        "id": "ExFE3MjA-Kr4",
        "outputId": "31b60b98-9e39-4e69-ab82-5ad64a3aea4b"
      },
      "outputs": [
        {
          "output_type": "execute_result",
          "data": {
            "text/plain": [
              "   Customer ID  Tenure Months Location Device Class Games Product  \\\n",
              "0            0              2  Jakarta      Mid End           Yes   \n",
              "1            1              2  Jakarta     High End            No   \n",
              "2            2              8  Jakarta     High End            No   \n",
              "3            3             28  Jakarta     High End            No   \n",
              "4            4             49  Jakarta     High End            No   \n",
              "\n",
              "  Music Product Education Product Call Center Video Product Use MyApp  \\\n",
              "0           Yes                No          No            No        No   \n",
              "1            No                No          No            No        No   \n",
              "2            No               Yes          No           Yes       Yes   \n",
              "3            No               Yes         Yes           Yes       Yes   \n",
              "4           Yes               Yes          No           Yes       Yes   \n",
              "\n",
              "   Payment Method  Monthly Purchase (Thou. IDR) Churn Label   Longitude  \\\n",
              "0  Digital Wallet                        70.005         Yes  106.816666   \n",
              "1           Pulsa                        91.910         Yes  106.816666   \n",
              "2           Pulsa                       129.545         Yes  106.816666   \n",
              "3           Pulsa                       136.240         Yes  106.816666   \n",
              "4           Debit                       134.810         Yes  106.816666   \n",
              "\n",
              "   Latitude  CLTV (Predicted Thou. IDR)  \n",
              "0      -6.2                      4210.7  \n",
              "1      -6.2                      3511.3  \n",
              "2      -6.2                      6983.6  \n",
              "3      -6.2                      6503.9  \n",
              "4      -6.2                      6942.0  "
            ],
            "text/html": [
              "\n",
              "  <div id=\"df-4bf586e0-789c-4f4d-ae67-014bcdb75e9e\" class=\"colab-df-container\">\n",
              "    <div>\n",
              "<style scoped>\n",
              "    .dataframe tbody tr th:only-of-type {\n",
              "        vertical-align: middle;\n",
              "    }\n",
              "\n",
              "    .dataframe tbody tr th {\n",
              "        vertical-align: top;\n",
              "    }\n",
              "\n",
              "    .dataframe thead th {\n",
              "        text-align: right;\n",
              "    }\n",
              "</style>\n",
              "<table border=\"1\" class=\"dataframe\">\n",
              "  <thead>\n",
              "    <tr style=\"text-align: right;\">\n",
              "      <th></th>\n",
              "      <th>Customer ID</th>\n",
              "      <th>Tenure Months</th>\n",
              "      <th>Location</th>\n",
              "      <th>Device Class</th>\n",
              "      <th>Games Product</th>\n",
              "      <th>Music Product</th>\n",
              "      <th>Education Product</th>\n",
              "      <th>Call Center</th>\n",
              "      <th>Video Product</th>\n",
              "      <th>Use MyApp</th>\n",
              "      <th>Payment Method</th>\n",
              "      <th>Monthly Purchase (Thou. IDR)</th>\n",
              "      <th>Churn Label</th>\n",
              "      <th>Longitude</th>\n",
              "      <th>Latitude</th>\n",
              "      <th>CLTV (Predicted Thou. IDR)</th>\n",
              "    </tr>\n",
              "  </thead>\n",
              "  <tbody>\n",
              "    <tr>\n",
              "      <th>0</th>\n",
              "      <td>0</td>\n",
              "      <td>2</td>\n",
              "      <td>Jakarta</td>\n",
              "      <td>Mid End</td>\n",
              "      <td>Yes</td>\n",
              "      <td>Yes</td>\n",
              "      <td>No</td>\n",
              "      <td>No</td>\n",
              "      <td>No</td>\n",
              "      <td>No</td>\n",
              "      <td>Digital Wallet</td>\n",
              "      <td>70.005</td>\n",
              "      <td>Yes</td>\n",
              "      <td>106.816666</td>\n",
              "      <td>-6.2</td>\n",
              "      <td>4210.7</td>\n",
              "    </tr>\n",
              "    <tr>\n",
              "      <th>1</th>\n",
              "      <td>1</td>\n",
              "      <td>2</td>\n",
              "      <td>Jakarta</td>\n",
              "      <td>High End</td>\n",
              "      <td>No</td>\n",
              "      <td>No</td>\n",
              "      <td>No</td>\n",
              "      <td>No</td>\n",
              "      <td>No</td>\n",
              "      <td>No</td>\n",
              "      <td>Pulsa</td>\n",
              "      <td>91.910</td>\n",
              "      <td>Yes</td>\n",
              "      <td>106.816666</td>\n",
              "      <td>-6.2</td>\n",
              "      <td>3511.3</td>\n",
              "    </tr>\n",
              "    <tr>\n",
              "      <th>2</th>\n",
              "      <td>2</td>\n",
              "      <td>8</td>\n",
              "      <td>Jakarta</td>\n",
              "      <td>High End</td>\n",
              "      <td>No</td>\n",
              "      <td>No</td>\n",
              "      <td>Yes</td>\n",
              "      <td>No</td>\n",
              "      <td>Yes</td>\n",
              "      <td>Yes</td>\n",
              "      <td>Pulsa</td>\n",
              "      <td>129.545</td>\n",
              "      <td>Yes</td>\n",
              "      <td>106.816666</td>\n",
              "      <td>-6.2</td>\n",
              "      <td>6983.6</td>\n",
              "    </tr>\n",
              "    <tr>\n",
              "      <th>3</th>\n",
              "      <td>3</td>\n",
              "      <td>28</td>\n",
              "      <td>Jakarta</td>\n",
              "      <td>High End</td>\n",
              "      <td>No</td>\n",
              "      <td>No</td>\n",
              "      <td>Yes</td>\n",
              "      <td>Yes</td>\n",
              "      <td>Yes</td>\n",
              "      <td>Yes</td>\n",
              "      <td>Pulsa</td>\n",
              "      <td>136.240</td>\n",
              "      <td>Yes</td>\n",
              "      <td>106.816666</td>\n",
              "      <td>-6.2</td>\n",
              "      <td>6503.9</td>\n",
              "    </tr>\n",
              "    <tr>\n",
              "      <th>4</th>\n",
              "      <td>4</td>\n",
              "      <td>49</td>\n",
              "      <td>Jakarta</td>\n",
              "      <td>High End</td>\n",
              "      <td>No</td>\n",
              "      <td>Yes</td>\n",
              "      <td>Yes</td>\n",
              "      <td>No</td>\n",
              "      <td>Yes</td>\n",
              "      <td>Yes</td>\n",
              "      <td>Debit</td>\n",
              "      <td>134.810</td>\n",
              "      <td>Yes</td>\n",
              "      <td>106.816666</td>\n",
              "      <td>-6.2</td>\n",
              "      <td>6942.0</td>\n",
              "    </tr>\n",
              "  </tbody>\n",
              "</table>\n",
              "</div>\n",
              "    <div class=\"colab-df-buttons\">\n",
              "\n",
              "  <div class=\"colab-df-container\">\n",
              "    <button class=\"colab-df-convert\" onclick=\"convertToInteractive('df-4bf586e0-789c-4f4d-ae67-014bcdb75e9e')\"\n",
              "            title=\"Convert this dataframe to an interactive table.\"\n",
              "            style=\"display:none;\">\n",
              "\n",
              "  <svg xmlns=\"http://www.w3.org/2000/svg\" height=\"24px\" viewBox=\"0 -960 960 960\">\n",
              "    <path d=\"M120-120v-720h720v720H120Zm60-500h600v-160H180v160Zm220 220h160v-160H400v160Zm0 220h160v-160H400v160ZM180-400h160v-160H180v160Zm440 0h160v-160H620v160ZM180-180h160v-160H180v160Zm440 0h160v-160H620v160Z\"/>\n",
              "  </svg>\n",
              "    </button>\n",
              "\n",
              "  <style>\n",
              "    .colab-df-container {\n",
              "      display:flex;\n",
              "      gap: 12px;\n",
              "    }\n",
              "\n",
              "    .colab-df-convert {\n",
              "      background-color: #E8F0FE;\n",
              "      border: none;\n",
              "      border-radius: 50%;\n",
              "      cursor: pointer;\n",
              "      display: none;\n",
              "      fill: #1967D2;\n",
              "      height: 32px;\n",
              "      padding: 0 0 0 0;\n",
              "      width: 32px;\n",
              "    }\n",
              "\n",
              "    .colab-df-convert:hover {\n",
              "      background-color: #E2EBFA;\n",
              "      box-shadow: 0px 1px 2px rgba(60, 64, 67, 0.3), 0px 1px 3px 1px rgba(60, 64, 67, 0.15);\n",
              "      fill: #174EA6;\n",
              "    }\n",
              "\n",
              "    .colab-df-buttons div {\n",
              "      margin-bottom: 4px;\n",
              "    }\n",
              "\n",
              "    [theme=dark] .colab-df-convert {\n",
              "      background-color: #3B4455;\n",
              "      fill: #D2E3FC;\n",
              "    }\n",
              "\n",
              "    [theme=dark] .colab-df-convert:hover {\n",
              "      background-color: #434B5C;\n",
              "      box-shadow: 0px 1px 3px 1px rgba(0, 0, 0, 0.15);\n",
              "      filter: drop-shadow(0px 1px 2px rgba(0, 0, 0, 0.3));\n",
              "      fill: #FFFFFF;\n",
              "    }\n",
              "  </style>\n",
              "\n",
              "    <script>\n",
              "      const buttonEl =\n",
              "        document.querySelector('#df-4bf586e0-789c-4f4d-ae67-014bcdb75e9e button.colab-df-convert');\n",
              "      buttonEl.style.display =\n",
              "        google.colab.kernel.accessAllowed ? 'block' : 'none';\n",
              "\n",
              "      async function convertToInteractive(key) {\n",
              "        const element = document.querySelector('#df-4bf586e0-789c-4f4d-ae67-014bcdb75e9e');\n",
              "        const dataTable =\n",
              "          await google.colab.kernel.invokeFunction('convertToInteractive',\n",
              "                                                    [key], {});\n",
              "        if (!dataTable) return;\n",
              "\n",
              "        const docLinkHtml = 'Like what you see? Visit the ' +\n",
              "          '<a target=\"_blank\" href=https://colab.research.google.com/notebooks/data_table.ipynb>data table notebook</a>'\n",
              "          + ' to learn more about interactive tables.';\n",
              "        element.innerHTML = '';\n",
              "        dataTable['output_type'] = 'display_data';\n",
              "        await google.colab.output.renderOutput(dataTable, element);\n",
              "        const docLink = document.createElement('div');\n",
              "        docLink.innerHTML = docLinkHtml;\n",
              "        element.appendChild(docLink);\n",
              "      }\n",
              "    </script>\n",
              "  </div>\n",
              "\n",
              "\n",
              "<div id=\"df-d5977049-d834-40db-8b3d-ab54f0d1b055\">\n",
              "  <button class=\"colab-df-quickchart\" onclick=\"quickchart('df-d5977049-d834-40db-8b3d-ab54f0d1b055')\"\n",
              "            title=\"Suggest charts\"\n",
              "            style=\"display:none;\">\n",
              "\n",
              "<svg xmlns=\"http://www.w3.org/2000/svg\" height=\"24px\"viewBox=\"0 0 24 24\"\n",
              "     width=\"24px\">\n",
              "    <g>\n",
              "        <path d=\"M19 3H5c-1.1 0-2 .9-2 2v14c0 1.1.9 2 2 2h14c1.1 0 2-.9 2-2V5c0-1.1-.9-2-2-2zM9 17H7v-7h2v7zm4 0h-2V7h2v10zm4 0h-2v-4h2v4z\"/>\n",
              "    </g>\n",
              "</svg>\n",
              "  </button>\n",
              "\n",
              "<style>\n",
              "  .colab-df-quickchart {\n",
              "      --bg-color: #E8F0FE;\n",
              "      --fill-color: #1967D2;\n",
              "      --hover-bg-color: #E2EBFA;\n",
              "      --hover-fill-color: #174EA6;\n",
              "      --disabled-fill-color: #AAA;\n",
              "      --disabled-bg-color: #DDD;\n",
              "  }\n",
              "\n",
              "  [theme=dark] .colab-df-quickchart {\n",
              "      --bg-color: #3B4455;\n",
              "      --fill-color: #D2E3FC;\n",
              "      --hover-bg-color: #434B5C;\n",
              "      --hover-fill-color: #FFFFFF;\n",
              "      --disabled-bg-color: #3B4455;\n",
              "      --disabled-fill-color: #666;\n",
              "  }\n",
              "\n",
              "  .colab-df-quickchart {\n",
              "    background-color: var(--bg-color);\n",
              "    border: none;\n",
              "    border-radius: 50%;\n",
              "    cursor: pointer;\n",
              "    display: none;\n",
              "    fill: var(--fill-color);\n",
              "    height: 32px;\n",
              "    padding: 0;\n",
              "    width: 32px;\n",
              "  }\n",
              "\n",
              "  .colab-df-quickchart:hover {\n",
              "    background-color: var(--hover-bg-color);\n",
              "    box-shadow: 0 1px 2px rgba(60, 64, 67, 0.3), 0 1px 3px 1px rgba(60, 64, 67, 0.15);\n",
              "    fill: var(--button-hover-fill-color);\n",
              "  }\n",
              "\n",
              "  .colab-df-quickchart-complete:disabled,\n",
              "  .colab-df-quickchart-complete:disabled:hover {\n",
              "    background-color: var(--disabled-bg-color);\n",
              "    fill: var(--disabled-fill-color);\n",
              "    box-shadow: none;\n",
              "  }\n",
              "\n",
              "  .colab-df-spinner {\n",
              "    border: 2px solid var(--fill-color);\n",
              "    border-color: transparent;\n",
              "    border-bottom-color: var(--fill-color);\n",
              "    animation:\n",
              "      spin 1s steps(1) infinite;\n",
              "  }\n",
              "\n",
              "  @keyframes spin {\n",
              "    0% {\n",
              "      border-color: transparent;\n",
              "      border-bottom-color: var(--fill-color);\n",
              "      border-left-color: var(--fill-color);\n",
              "    }\n",
              "    20% {\n",
              "      border-color: transparent;\n",
              "      border-left-color: var(--fill-color);\n",
              "      border-top-color: var(--fill-color);\n",
              "    }\n",
              "    30% {\n",
              "      border-color: transparent;\n",
              "      border-left-color: var(--fill-color);\n",
              "      border-top-color: var(--fill-color);\n",
              "      border-right-color: var(--fill-color);\n",
              "    }\n",
              "    40% {\n",
              "      border-color: transparent;\n",
              "      border-right-color: var(--fill-color);\n",
              "      border-top-color: var(--fill-color);\n",
              "    }\n",
              "    60% {\n",
              "      border-color: transparent;\n",
              "      border-right-color: var(--fill-color);\n",
              "    }\n",
              "    80% {\n",
              "      border-color: transparent;\n",
              "      border-right-color: var(--fill-color);\n",
              "      border-bottom-color: var(--fill-color);\n",
              "    }\n",
              "    90% {\n",
              "      border-color: transparent;\n",
              "      border-bottom-color: var(--fill-color);\n",
              "    }\n",
              "  }\n",
              "</style>\n",
              "\n",
              "  <script>\n",
              "    async function quickchart(key) {\n",
              "      const quickchartButtonEl =\n",
              "        document.querySelector('#' + key + ' button');\n",
              "      quickchartButtonEl.disabled = true;  // To prevent multiple clicks.\n",
              "      quickchartButtonEl.classList.add('colab-df-spinner');\n",
              "      try {\n",
              "        const charts = await google.colab.kernel.invokeFunction(\n",
              "            'suggestCharts', [key], {});\n",
              "      } catch (error) {\n",
              "        console.error('Error during call to suggestCharts:', error);\n",
              "      }\n",
              "      quickchartButtonEl.classList.remove('colab-df-spinner');\n",
              "      quickchartButtonEl.classList.add('colab-df-quickchart-complete');\n",
              "    }\n",
              "    (() => {\n",
              "      let quickchartButtonEl =\n",
              "        document.querySelector('#df-d5977049-d834-40db-8b3d-ab54f0d1b055 button');\n",
              "      quickchartButtonEl.style.display =\n",
              "        google.colab.kernel.accessAllowed ? 'block' : 'none';\n",
              "    })();\n",
              "  </script>\n",
              "</div>\n",
              "    </div>\n",
              "  </div>\n"
            ]
          },
          "metadata": {},
          "execution_count": 3
        }
      ],
      "source": [
        "data_url = 'https://drive.google.com/uc?id=1lis1DfAdjjNvqBrWI4WKPoIe6Q1k1dFd'\n",
        "data_file = '/content/Telco_customer_churn_adapted_v2.xlsx'\n",
        "gdown.download(data_url, data_file, quiet=True)\n",
        "\n",
        "data = pd.read_excel(data_file)\n",
        "data.head()"
      ]
    },
    {
      "cell_type": "markdown",
      "metadata": {
        "id": "Kvv0-Grw_oBQ"
      },
      "source": [
        "# **III. Data Inspection**"
      ]
    },
    {
      "cell_type": "code",
      "execution_count": null,
      "metadata": {
        "colab": {
          "base_uri": "https://localhost:8080/"
        },
        "id": "7I1vUTOZ_UKQ",
        "outputId": "03ae0c73-db59-4c46-900c-480b17437e25"
      },
      "outputs": [
        {
          "output_type": "stream",
          "name": "stdout",
          "text": [
            "<class 'pandas.core.frame.DataFrame'>\n",
            "RangeIndex: 7043 entries, 0 to 7042\n",
            "Data columns (total 16 columns):\n",
            " #   Column                        Non-Null Count  Dtype  \n",
            "---  ------                        --------------  -----  \n",
            " 0   Customer ID                   7043 non-null   int64  \n",
            " 1   Tenure Months                 7043 non-null   int64  \n",
            " 2   Location                      7043 non-null   object \n",
            " 3   Device Class                  7043 non-null   object \n",
            " 4   Games Product                 7043 non-null   object \n",
            " 5   Music Product                 7043 non-null   object \n",
            " 6   Education Product             7043 non-null   object \n",
            " 7   Call Center                   7043 non-null   object \n",
            " 8   Video Product                 7043 non-null   object \n",
            " 9   Use MyApp                     7043 non-null   object \n",
            " 10  Payment Method                7043 non-null   object \n",
            " 11  Monthly Purchase (Thou. IDR)  7043 non-null   float64\n",
            " 12  Churn Label                   7043 non-null   object \n",
            " 13  Longitude                     7043 non-null   float64\n",
            " 14  Latitude                      7043 non-null   float64\n",
            " 15  CLTV (Predicted Thou. IDR)    7043 non-null   float64\n",
            "dtypes: float64(4), int64(2), object(10)\n",
            "memory usage: 880.5+ KB\n"
          ]
        }
      ],
      "source": [
        "data.info()"
      ]
    },
    {
      "cell_type": "code",
      "execution_count": null,
      "metadata": {
        "colab": {
          "base_uri": "https://localhost:8080/"
        },
        "id": "f-lLf6AC_Qgg",
        "outputId": "7d7528bb-5e2a-450e-e738-11d3870b9545"
      },
      "outputs": [
        {
          "output_type": "stream",
          "name": "stdout",
          "text": [
            "Data shape: (7043, 16)\n"
          ]
        }
      ],
      "source": [
        "print(f'Data shape: {data.shape}')"
      ]
    },
    {
      "cell_type": "code",
      "execution_count": null,
      "metadata": {
        "colab": {
          "base_uri": "https://localhost:8080/",
          "height": 490
        },
        "id": "w7QljnzZBY-Y",
        "outputId": "e8406c09-2c95-4974-fe2b-784c15416cb5"
      },
      "outputs": [
        {
          "output_type": "display_data",
          "data": {
            "text/plain": [
              "<Figure size 1500x300 with 1 Axes>"
            ],
            "image/png": "[encoded data removed]"
          },
          "metadata": {}
        }
      ],
      "source": [
        "# Heatmap of missing values\n",
        "plt.figure(figsize=(15, 3))\n",
        "sns.heatmap(data.isnull(), cbar=False, cmap='viridis')\n",
        "\n",
        "plt.show()"
      ]
    },
    {
      "cell_type": "markdown",
      "metadata": {
        "id": "JvtX8Ur1BmNA"
      },
      "source": [
        "**Note: No Missing Data**"
      ]
    },
    {
      "cell_type": "code",
      "execution_count": null,
      "metadata": {
        "colab": {
          "base_uri": "https://localhost:8080/"
        },
        "id": "v_h4IREO_aGf",
        "outputId": "a63ce49a-b6c8-4c36-e87c-6f154a40741e"
      },
      "outputs": [
        {
          "output_type": "stream",
          "name": "stdout",
          "text": [
            "Data duplicates: 0\n"
          ]
        }
      ],
      "source": [
        "print(\"Data duplicates:\", data.duplicated().sum())"
      ]
    },
    {
      "cell_type": "code",
      "execution_count": null,
      "metadata": {
        "colab": {
          "base_uri": "https://localhost:8080/"
        },
        "id": "MN2JHpJJ_qK2",
        "outputId": "3c0306a8-7bcf-473b-c6f9-a9ea45835385"
      },
      "outputs": [
        {
          "output_type": "stream",
          "name": "stdout",
          "text": [
            "Customer ID: [   0    1    2 ... 7040 7041 7042]\n",
            "\n",
            "Tenure Months: [ 2  8 28 49 10  1 47 17  5 34 11 15 18  9  7 12 25 68 55 37  3 27 20  4\n",
            " 58 53 13  6 19 59 16 52 24 32 38 54 43 63 21 69 22 61 60 48 40 23 39 35\n",
            " 56 65 33 30 45 46 62 70 50 44 71 26 14 41 66 64 29 42 67 51 31 57 36 72\n",
            "  0]\n",
            "\n",
            "Location: ['Jakarta' 'Bandung']\n",
            "\n",
            "Device Class: ['Mid End' 'High End' 'Low End']\n",
            "\n",
            "Games Product: ['Yes' 'No' 'No internet service']\n",
            "\n",
            "Music Product: ['Yes' 'No' 'No internet service']\n",
            "\n",
            "Education Product: ['No' 'Yes' 'No internet service']\n",
            "\n",
            "Call Center: ['No' 'Yes']\n",
            "\n",
            "Video Product: ['No' 'Yes' 'No internet service']\n",
            "\n",
            "Use MyApp: ['No' 'Yes' 'No internet service']\n",
            "\n",
            "Payment Method: ['Digital Wallet' 'Pulsa' 'Debit' 'Credit']\n",
            "\n",
            "Monthly Purchase (Thou. IDR): [ 70.005  91.91  129.545 ... 140.855  82.03  102.31 ]\n",
            "\n",
            "Churn Label: ['Yes' 'No']\n",
            "\n",
            "Longitude: [106.816666 107.60981 ]\n",
            "\n",
            "Latitude: [-6.2      -6.914744]\n",
            "\n",
            "CLTV (Predicted Thou. IDR): [4210.7 3511.3 6983.6 ... 3601.  6038.5 7218.9]\n",
            "\n"
          ]
        }
      ],
      "source": [
        "# Check inconsistencies\n",
        "for col in data.columns:\n",
        "    print(col + \":\", data[col].unique())\n",
        "    print()"
      ]
    },
    {
      "cell_type": "markdown",
      "metadata": {
        "id": "6ke9RSbWA5r-"
      },
      "source": [
        "**Longitude, Latitude:**\n",
        "- Jakarta = (106.816666, -6.2)\n",
        "- Bandung = (107.60981, -6.914744)"
      ]
    },
    {
      "cell_type": "markdown",
      "metadata": {
        "id": "GFwJAh9CCM_S"
      },
      "source": [
        "# **IV. Tableau EDA**\n",
        "Lansung aja pake **raw data**"
      ]
    },
    {
      "cell_type": "markdown",
      "metadata": {
        "id": "H_UIVb9eCKmU"
      },
      "source": [
        "<hr><hr>"
      ]
    },
    {
      "cell_type": "markdown",
      "metadata": {
        "id": "68S6f-QWCbiV"
      },
      "source": [
        "# **V. Data Preprocessing**"
      ]
    },
    {
      "cell_type": "code",
      "execution_count": null,
      "metadata": {
        "colab": {
          "base_uri": "https://localhost:8080/",
          "height": 376
        },
        "id": "cmtAOERlCgBF",
        "outputId": "53209164-702a-46b3-f70d-5b672fddb435"
      },
      "outputs": [
        {
          "output_type": "execute_result",
          "data": {
            "text/plain": [
              "             Tenure Months Location Device Class Games Product Music Product  \\\n",
              "Customer ID                                                                    \n",
              "0                        2  Jakarta      Mid End           Yes           Yes   \n",
              "1                        2  Jakarta     High End            No            No   \n",
              "2                        8  Jakarta     High End            No            No   \n",
              "3                       28  Jakarta     High End            No            No   \n",
              "4                       49  Jakarta     High End            No           Yes   \n",
              "\n",
              "            Education Product Call Center Video Product Use MyApp  \\\n",
              "Customer ID                                                         \n",
              "0                          No          No            No        No   \n",
              "1                          No          No            No        No   \n",
              "2                         Yes          No           Yes       Yes   \n",
              "3                         Yes         Yes           Yes       Yes   \n",
              "4                         Yes          No           Yes       Yes   \n",
              "\n",
              "             Payment Method  Monthly Purchase (Thou. IDR) Churn Label  \\\n",
              "Customer ID                                                             \n",
              "0            Digital Wallet                        70.005         Yes   \n",
              "1                     Pulsa                        91.910         Yes   \n",
              "2                     Pulsa                       129.545         Yes   \n",
              "3                     Pulsa                       136.240         Yes   \n",
              "4                     Debit                       134.810         Yes   \n",
              "\n",
              "              Longitude  Latitude  CLTV (Predicted Thou. IDR)  \n",
              "Customer ID                                                    \n",
              "0            106.816666      -6.2                      4210.7  \n",
              "1            106.816666      -6.2                      3511.3  \n",
              "2            106.816666      -6.2                      6983.6  \n",
              "3            106.816666      -6.2                      6503.9  \n",
              "4            106.816666      -6.2                      6942.0  "
            ],
            "text/html": [
              "\n",
              "  <div id=\"df-2d32a5d7-e59d-4c09-bed3-408144fff2c0\" class=\"colab-df-container\">\n",
              "    <div>\n",
              "<style scoped>\n",
              "    .dataframe tbody tr th:only-of-type {\n",
              "        vertical-align: middle;\n",
              "    }\n",
              "\n",
              "    .dataframe tbody tr th {\n",
              "        vertical-align: top;\n",
              "    }\n",
              "\n",
              "    .dataframe thead th {\n",
              "        text-align: right;\n",
              "    }\n",
              "</style>\n",
              "<table border=\"1\" class=\"dataframe\">\n",
              "  <thead>\n",
              "    <tr style=\"text-align: right;\">\n",
              "      <th></th>\n",
              "      <th>Tenure Months</th>\n",
              "      <th>Location</th>\n",
              "      <th>Device Class</th>\n",
              "      <th>Games Product</th>\n",
              "      <th>Music Product</th>\n",
              "      <th>Education Product</th>\n",
              "      <th>Call Center</th>\n",
              "      <th>Video Product</th>\n",
              "      <th>Use MyApp</th>\n",
              "      <th>Payment Method</th>\n",
              "      <th>Monthly Purchase (Thou. IDR)</th>\n",
              "      <th>Churn Label</th>\n",
              "      <th>Longitude</th>\n",
              "      <th>Latitude</th>\n",
              "      <th>CLTV (Predicted Thou. IDR)</th>\n",
              "    </tr>\n",
              "    <tr>\n",
              "      <th>Customer ID</th>\n",
              "      <th></th>\n",
              "      <th></th>\n",
              "      <th></th>\n",
              "      <th></th>\n",
              "      <th></th>\n",
              "      <th></th>\n",
              "      <th></th>\n",
              "      <th></th>\n",
              "      <th></th>\n",
              "      <th></th>\n",
              "      <th></th>\n",
              "      <th></th>\n",
              "      <th></th>\n",
              "      <th></th>\n",
              "      <th></th>\n",
              "    </tr>\n",
              "  </thead>\n",
              "  <tbody>\n",
              "    <tr>\n",
              "      <th>0</th>\n",
              "      <td>2</td>\n",
              "      <td>Jakarta</td>\n",
              "      <td>Mid End</td>\n",
              "      <td>Yes</td>\n",
              "      <td>Yes</td>\n",
              "      <td>No</td>\n",
              "      <td>No</td>\n",
              "      <td>No</td>\n",
              "      <td>No</td>\n",
              "      <td>Digital Wallet</td>\n",
              "      <td>70.005</td>\n",
              "      <td>Yes</td>\n",
              "      <td>106.816666</td>\n",
              "      <td>-6.2</td>\n",
              "      <td>4210.7</td>\n",
              "    </tr>\n",
              "    <tr>\n",
              "      <th>1</th>\n",
              "      <td>2</td>\n",
              "      <td>Jakarta</td>\n",
              "      <td>High End</td>\n",
              "      <td>No</td>\n",
              "      <td>No</td>\n",
              "      <td>No</td>\n",
              "      <td>No</td>\n",
              "      <td>No</td>\n",
              "      <td>No</td>\n",
              "      <td>Pulsa</td>\n",
              "      <td>91.910</td>\n",
              "      <td>Yes</td>\n",
              "      <td>106.816666</td>\n",
              "      <td>-6.2</td>\n",
              "      <td>3511.3</td>\n",
              "    </tr>\n",
              "    <tr>\n",
              "      <th>2</th>\n",
              "      <td>8</td>\n",
              "      <td>Jakarta</td>\n",
              "      <td>High End</td>\n",
              "      <td>No</td>\n",
              "      <td>No</td>\n",
              "      <td>Yes</td>\n",
              "      <td>No</td>\n",
              "      <td>Yes</td>\n",
              "      <td>Yes</td>\n",
              "      <td>Pulsa</td>\n",
              "      <td>129.545</td>\n",
              "      <td>Yes</td>\n",
              "      <td>106.816666</td>\n",
              "      <td>-6.2</td>\n",
              "      <td>6983.6</td>\n",
              "    </tr>\n",
              "    <tr>\n",
              "      <th>3</th>\n",
              "      <td>28</td>\n",
              "      <td>Jakarta</td>\n",
              "      <td>High End</td>\n",
              "      <td>No</td>\n",
              "      <td>No</td>\n",
              "      <td>Yes</td>\n",
              "      <td>Yes</td>\n",
              "      <td>Yes</td>\n",
              "      <td>Yes</td>\n",
              "      <td>Pulsa</td>\n",
              "      <td>136.240</td>\n",
              "      <td>Yes</td>\n",
              "      <td>106.816666</td>\n",
              "      <td>-6.2</td>\n",
              "      <td>6503.9</td>\n",
              "    </tr>\n",
              "    <tr>\n",
              "      <th>4</th>\n",
              "      <td>49</td>\n",
              "      <td>Jakarta</td>\n",
              "      <td>High End</td>\n",
              "      <td>No</td>\n",
              "      <td>Yes</td>\n",
              "      <td>Yes</td>\n",
              "      <td>No</td>\n",
              "      <td>Yes</td>\n",
              "      <td>Yes</td>\n",
              "      <td>Debit</td>\n",
              "      <td>134.810</td>\n",
              "      <td>Yes</td>\n",
              "      <td>106.816666</td>\n",
              "      <td>-6.2</td>\n",
              "      <td>6942.0</td>\n",
              "    </tr>\n",
              "  </tbody>\n",
              "</table>\n",
              "</div>\n",
              "    <div class=\"colab-df-buttons\">\n",
              "\n",
              "  <div class=\"colab-df-container\">\n",
              "    <button class=\"colab-df-convert\" onclick=\"convertToInteractive('df-2d32a5d7-e59d-4c09-bed3-408144fff2c0')\"\n",
              "            title=\"Convert this dataframe to an interactive table.\"\n",
              "            style=\"display:none;\">\n",
              "\n",
              "  <svg xmlns=\"http://www.w3.org/2000/svg\" height=\"24px\" viewBox=\"0 -960 960 960\">\n",
              "    <path d=\"M120-120v-720h720v720H120Zm60-500h600v-160H180v160Zm220 220h160v-160H400v160Zm0 220h160v-160H400v160ZM180-400h160v-160H180v160Zm440 0h160v-160H620v160ZM180-180h160v-160H180v160Zm440 0h160v-160H620v160Z\"/>\n",
              "  </svg>\n",
              "    </button>\n",
              "\n",
              "  <style>\n",
              "    .colab-df-container {\n",
              "      display:flex;\n",
              "      gap: 12px;\n",
              "    }\n",
              "\n",
              "    .colab-df-convert {\n",
              "      background-color: #E8F0FE;\n",
              "      border: none;\n",
              "      border-radius: 50%;\n",
              "      cursor: pointer;\n",
              "      display: none;\n",
              "      fill: #1967D2;\n",
              "      height: 32px;\n",
              "      padding: 0 0 0 0;\n",
              "      width: 32px;\n",
              "    }\n",
              "\n",
              "    .colab-df-convert:hover {\n",
              "      background-color: #E2EBFA;\n",
              "      box-shadow: 0px 1px 2px rgba(60, 64, 67, 0.3), 0px 1px 3px 1px rgba(60, 64, 67, 0.15);\n",
              "      fill: #174EA6;\n",
              "    }\n",
              "\n",
              "    .colab-df-buttons div {\n",
              "      margin-bottom: 4px;\n",
              "    }\n",
              "\n",
              "    [theme=dark] .colab-df-convert {\n",
              "      background-color: #3B4455;\n",
              "      fill: #D2E3FC;\n",
              "    }\n",
              "\n",
              "    [theme=dark] .colab-df-convert:hover {\n",
              "      background-color: #434B5C;\n",
              "      box-shadow: 0px 1px 3px 1px rgba(0, 0, 0, 0.15);\n",
              "      filter: drop-shadow(0px 1px 2px rgba(0, 0, 0, 0.3));\n",
              "      fill: #FFFFFF;\n",
              "    }\n",
              "  </style>\n",
              "\n",
              "    <script>\n",
              "      const buttonEl =\n",
              "        document.querySelector('#df-2d32a5d7-e59d-4c09-bed3-408144fff2c0 button.colab-df-convert');\n",
              "      buttonEl.style.display =\n",
              "        google.colab.kernel.accessAllowed ? 'block' : 'none';\n",
              "\n",
              "      async function convertToInteractive(key) {\n",
              "        const element = document.querySelector('#df-2d32a5d7-e59d-4c09-bed3-408144fff2c0');\n",
              "        const dataTable =\n",
              "          await google.colab.kernel.invokeFunction('convertToInteractive',\n",
              "                                                    [key], {});\n",
              "        if (!dataTable) return;\n",
              "\n",
              "        const docLinkHtml = 'Like what you see? Visit the ' +\n",
              "          '<a target=\"_blank\" href=https://colab.research.google.com/notebooks/data_table.ipynb>data table notebook</a>'\n",
              "          + ' to learn more about interactive tables.';\n",
              "        element.innerHTML = '';\n",
              "        dataTable['output_type'] = 'display_data';\n",
              "        await google.colab.output.renderOutput(dataTable, element);\n",
              "        const docLink = document.createElement('div');\n",
              "        docLink.innerHTML = docLinkHtml;\n",
              "        element.appendChild(docLink);\n",
              "      }\n",
              "    </script>\n",
              "  </div>\n",
              "\n",
              "\n",
              "<div id=\"df-c930b523-f170-4f54-93c5-53181501001e\">\n",
              "  <button class=\"colab-df-quickchart\" onclick=\"quickchart('df-c930b523-f170-4f54-93c5-53181501001e')\"\n",
              "            title=\"Suggest charts\"\n",
              "            style=\"display:none;\">\n",
              "\n",
              "<svg xmlns=\"http://www.w3.org/2000/svg\" height=\"24px\"viewBox=\"0 0 24 24\"\n",
              "     width=\"24px\">\n",
              "    <g>\n",
              "        <path d=\"M19 3H5c-1.1 0-2 .9-2 2v14c0 1.1.9 2 2 2h14c1.1 0 2-.9 2-2V5c0-1.1-.9-2-2-2zM9 17H7v-7h2v7zm4 0h-2V7h2v10zm4 0h-2v-4h2v4z\"/>\n",
              "    </g>\n",
              "</svg>\n",
              "  </button>\n",
              "\n",
              "<style>\n",
              "  .colab-df-quickchart {\n",
              "      --bg-color: #E8F0FE;\n",
              "      --fill-color: #1967D2;\n",
              "      --hover-bg-color: #E2EBFA;\n",
              "      --hover-fill-color: #174EA6;\n",
              "      --disabled-fill-color: #AAA;\n",
              "      --disabled-bg-color: #DDD;\n",
              "  }\n",
              "\n",
              "  [theme=dark] .colab-df-quickchart {\n",
              "      --bg-color: #3B4455;\n",
              "      --fill-color: #D2E3FC;\n",
              "      --hover-bg-color: #434B5C;\n",
              "      --hover-fill-color: #FFFFFF;\n",
              "      --disabled-bg-color: #3B4455;\n",
              "      --disabled-fill-color: #666;\n",
              "  }\n",
              "\n",
              "  .colab-df-quickchart {\n",
              "    background-color: var(--bg-color);\n",
              "    border: none;\n",
              "    border-radius: 50%;\n",
              "    cursor: pointer;\n",
              "    display: none;\n",
              "    fill: var(--fill-color);\n",
              "    height: 32px;\n",
              "    padding: 0;\n",
              "    width: 32px;\n",
              "  }\n",
              "\n",
              "  .colab-df-quickchart:hover {\n",
              "    background-color: var(--hover-bg-color);\n",
              "    box-shadow: 0 1px 2px rgba(60, 64, 67, 0.3), 0 1px 3px 1px rgba(60, 64, 67, 0.15);\n",
              "    fill: var(--button-hover-fill-color);\n",
              "  }\n",
              "\n",
              "  .colab-df-quickchart-complete:disabled,\n",
              "  .colab-df-quickchart-complete:disabled:hover {\n",
              "    background-color: var(--disabled-bg-color);\n",
              "    fill: var(--disabled-fill-color);\n",
              "    box-shadow: none;\n",
              "  }\n",
              "\n",
              "  .colab-df-spinner {\n",
              "    border: 2px solid var(--fill-color);\n",
              "    border-color: transparent;\n",
              "    border-bottom-color: var(--fill-color);\n",
              "    animation:\n",
              "      spin 1s steps(1) infinite;\n",
              "  }\n",
              "\n",
              "  @keyframes spin {\n",
              "    0% {\n",
              "      border-color: transparent;\n",
              "      border-bottom-color: var(--fill-color);\n",
              "      border-left-color: var(--fill-color);\n",
              "    }\n",
              "    20% {\n",
              "      border-color: transparent;\n",
              "      border-left-color: var(--fill-color);\n",
              "      border-top-color: var(--fill-color);\n",
              "    }\n",
              "    30% {\n",
              "      border-color: transparent;\n",
              "      border-left-color: var(--fill-color);\n",
              "      border-top-color: var(--fill-color);\n",
              "      border-right-color: var(--fill-color);\n",
              "    }\n",
              "    40% {\n",
              "      border-color: transparent;\n",
              "      border-right-color: var(--fill-color);\n",
              "      border-top-color: var(--fill-color);\n",
              "    }\n",
              "    60% {\n",
              "      border-color: transparent;\n",
              "      border-right-color: var(--fill-color);\n",
              "    }\n",
              "    80% {\n",
              "      border-color: transparent;\n",
              "      border-right-color: var(--fill-color);\n",
              "      border-bottom-color: var(--fill-color);\n",
              "    }\n",
              "    90% {\n",
              "      border-color: transparent;\n",
              "      border-bottom-color: var(--fill-color);\n",
              "    }\n",
              "  }\n",
              "</style>\n",
              "\n",
              "  <script>\n",
              "    async function quickchart(key) {\n",
              "      const quickchartButtonEl =\n",
              "        document.querySelector('#' + key + ' button');\n",
              "      quickchartButtonEl.disabled = true;  // To prevent multiple clicks.\n",
              "      quickchartButtonEl.classList.add('colab-df-spinner');\n",
              "      try {\n",
              "        const charts = await google.colab.kernel.invokeFunction(\n",
              "            'suggestCharts', [key], {});\n",
              "      } catch (error) {\n",
              "        console.error('Error during call to suggestCharts:', error);\n",
              "      }\n",
              "      quickchartButtonEl.classList.remove('colab-df-spinner');\n",
              "      quickchartButtonEl.classList.add('colab-df-quickchart-complete');\n",
              "    }\n",
              "    (() => {\n",
              "      let quickchartButtonEl =\n",
              "        document.querySelector('#df-c930b523-f170-4f54-93c5-53181501001e button');\n",
              "      quickchartButtonEl.style.display =\n",
              "        google.colab.kernel.accessAllowed ? 'block' : 'none';\n",
              "    })();\n",
              "  </script>\n",
              "</div>\n",
              "    </div>\n",
              "  </div>\n"
            ]
          },
          "metadata": {},
          "execution_count": 10
        }
      ],
      "source": [
        "# Set index to Customer ID\n",
        "data.set_index(\"Customer ID\", inplace=True)\n",
        "data.head()"
      ]
    },
    {
      "cell_type": "markdown",
      "metadata": {
        "id": "ioFgrgLREPvj"
      },
      "source": [
        "# **VI. Feature Engineering**"
      ]
    },
    {
      "cell_type": "markdown",
      "metadata": {
        "id": "sqn5XOlsEj1V"
      },
      "source": [
        "### **1. Encoding**"
      ]
    },
    {
      "cell_type": "code",
      "source": [
        "export = data.drop(\"Churn Label\",axis=1)\n",
        "export.to_csv(\"dataframe.csv\")"
      ],
      "metadata": {
        "id": "GPaNaNCl9VXb"
      },
      "execution_count": null,
      "outputs": []
    },
    {
      "cell_type": "code",
      "execution_count": null,
      "metadata": {
        "colab": {
          "base_uri": "https://localhost:8080/",
          "height": 376
        },
        "id": "Q5fmyru1DXNN",
        "outputId": "d8088787-af88-41b4-dedd-2ef2dbed576c"
      },
      "outputs": [
        {
          "output_type": "execute_result",
          "data": {
            "text/plain": [
              "             Tenure Months Location Device Class  Games Product  \\\n",
              "Customer ID                                                       \n",
              "0                        2  Jakarta      Mid End              1   \n",
              "1                        2  Jakarta     High End              0   \n",
              "2                        8  Jakarta     High End              0   \n",
              "3                       28  Jakarta     High End              0   \n",
              "4                       49  Jakarta     High End              0   \n",
              "\n",
              "             Music Product  Education Product  Call Center  Video Product  \\\n",
              "Customer ID                                                                 \n",
              "0                        1                  0            0              0   \n",
              "1                        0                  0            0              0   \n",
              "2                        0                  1            0              1   \n",
              "3                        0                  1            1              1   \n",
              "4                        1                  1            0              1   \n",
              "\n",
              "             Use MyApp  Payment Method  Monthly Purchase (Thou. IDR)  \\\n",
              "Customer ID                                                            \n",
              "0                    0  Digital Wallet                        70.005   \n",
              "1                    0           Pulsa                        91.910   \n",
              "2                    1           Pulsa                       129.545   \n",
              "3                    1           Pulsa                       136.240   \n",
              "4                    1           Debit                       134.810   \n",
              "\n",
              "             Churn Label   Longitude  Latitude  CLTV (Predicted Thou. IDR)  \n",
              "Customer ID                                                                 \n",
              "0                      1  106.816666      -6.2                      4210.7  \n",
              "1                      1  106.816666      -6.2                      3511.3  \n",
              "2                      1  106.816666      -6.2                      6983.6  \n",
              "3                      1  106.816666      -6.2                      6503.9  \n",
              "4                      1  106.816666      -6.2                      6942.0  "
            ],
            "text/html": [
              "\n",
              "  <div id=\"df-acad6eda-291a-4962-8405-99464d82f1d1\" class=\"colab-df-container\">\n",
              "    <div>\n",
              "<style scoped>\n",
              "    .dataframe tbody tr th:only-of-type {\n",
              "        vertical-align: middle;\n",
              "    }\n",
              "\n",
              "    .dataframe tbody tr th {\n",
              "        vertical-align: top;\n",
              "    }\n",
              "\n",
              "    .dataframe thead th {\n",
              "        text-align: right;\n",
              "    }\n",
              "</style>\n",
              "<table border=\"1\" class=\"dataframe\">\n",
              "  <thead>\n",
              "    <tr style=\"text-align: right;\">\n",
              "      <th></th>\n",
              "      <th>Tenure Months</th>\n",
              "      <th>Location</th>\n",
              "      <th>Device Class</th>\n",
              "      <th>Games Product</th>\n",
              "      <th>Music Product</th>\n",
              "      <th>Education Product</th>\n",
              "      <th>Call Center</th>\n",
              "      <th>Video Product</th>\n",
              "      <th>Use MyApp</th>\n",
              "      <th>Payment Method</th>\n",
              "      <th>Monthly Purchase (Thou. IDR)</th>\n",
              "      <th>Churn Label</th>\n",
              "      <th>Longitude</th>\n",
              "      <th>Latitude</th>\n",
              "      <th>CLTV (Predicted Thou. IDR)</th>\n",
              "    </tr>\n",
              "    <tr>\n",
              "      <th>Customer ID</th>\n",
              "      <th></th>\n",
              "      <th></th>\n",
              "      <th></th>\n",
              "      <th></th>\n",
              "      <th></th>\n",
              "      <th></th>\n",
              "      <th></th>\n",
              "      <th></th>\n",
              "      <th></th>\n",
              "      <th></th>\n",
              "      <th></th>\n",
              "      <th></th>\n",
              "      <th></th>\n",
              "      <th></th>\n",
              "      <th></th>\n",
              "    </tr>\n",
              "  </thead>\n",
              "  <tbody>\n",
              "    <tr>\n",
              "      <th>0</th>\n",
              "      <td>2</td>\n",
              "      <td>Jakarta</td>\n",
              "      <td>Mid End</td>\n",
              "      <td>1</td>\n",
              "      <td>1</td>\n",
              "      <td>0</td>\n",
              "      <td>0</td>\n",
              "      <td>0</td>\n",
              "      <td>0</td>\n",
              "      <td>Digital Wallet</td>\n",
              "      <td>70.005</td>\n",
              "      <td>1</td>\n",
              "      <td>106.816666</td>\n",
              "      <td>-6.2</td>\n",
              "      <td>4210.7</td>\n",
              "    </tr>\n",
              "    <tr>\n",
              "      <th>1</th>\n",
              "      <td>2</td>\n",
              "      <td>Jakarta</td>\n",
              "      <td>High End</td>\n",
              "      <td>0</td>\n",
              "      <td>0</td>\n",
              "      <td>0</td>\n",
              "      <td>0</td>\n",
              "      <td>0</td>\n",
              "      <td>0</td>\n",
              "      <td>Pulsa</td>\n",
              "      <td>91.910</td>\n",
              "      <td>1</td>\n",
              "      <td>106.816666</td>\n",
              "      <td>-6.2</td>\n",
              "      <td>3511.3</td>\n",
              "    </tr>\n",
              "    <tr>\n",
              "      <th>2</th>\n",
              "      <td>8</td>\n",
              "      <td>Jakarta</td>\n",
              "      <td>High End</td>\n",
              "      <td>0</td>\n",
              "      <td>0</td>\n",
              "      <td>1</td>\n",
              "      <td>0</td>\n",
              "      <td>1</td>\n",
              "      <td>1</td>\n",
              "      <td>Pulsa</td>\n",
              "      <td>129.545</td>\n",
              "      <td>1</td>\n",
              "      <td>106.816666</td>\n",
              "      <td>-6.2</td>\n",
              "      <td>6983.6</td>\n",
              "    </tr>\n",
              "    <tr>\n",
              "      <th>3</th>\n",
              "      <td>28</td>\n",
              "      <td>Jakarta</td>\n",
              "      <td>High End</td>\n",
              "      <td>0</td>\n",
              "      <td>0</td>\n",
              "      <td>1</td>\n",
              "      <td>1</td>\n",
              "      <td>1</td>\n",
              "      <td>1</td>\n",
              "      <td>Pulsa</td>\n",
              "      <td>136.240</td>\n",
              "      <td>1</td>\n",
              "      <td>106.816666</td>\n",
              "      <td>-6.2</td>\n",
              "      <td>6503.9</td>\n",
              "    </tr>\n",
              "    <tr>\n",
              "      <th>4</th>\n",
              "      <td>49</td>\n",
              "      <td>Jakarta</td>\n",
              "      <td>High End</td>\n",
              "      <td>0</td>\n",
              "      <td>1</td>\n",
              "      <td>1</td>\n",
              "      <td>0</td>\n",
              "      <td>1</td>\n",
              "      <td>1</td>\n",
              "      <td>Debit</td>\n",
              "      <td>134.810</td>\n",
              "      <td>1</td>\n",
              "      <td>106.816666</td>\n",
              "      <td>-6.2</td>\n",
              "      <td>6942.0</td>\n",
              "    </tr>\n",
              "  </tbody>\n",
              "</table>\n",
              "</div>\n",
              "    <div class=\"colab-df-buttons\">\n",
              "\n",
              "  <div class=\"colab-df-container\">\n",
              "    <button class=\"colab-df-convert\" onclick=\"convertToInteractive('df-acad6eda-291a-4962-8405-99464d82f1d1')\"\n",
              "            title=\"Convert this dataframe to an interactive table.\"\n",
              "            style=\"display:none;\">\n",
              "\n",
              "  <svg xmlns=\"http://www.w3.org/2000/svg\" height=\"24px\" viewBox=\"0 -960 960 960\">\n",
              "    <path d=\"M120-120v-720h720v720H120Zm60-500h600v-160H180v160Zm220 220h160v-160H400v160Zm0 220h160v-160H400v160ZM180-400h160v-160H180v160Zm440 0h160v-160H620v160ZM180-180h160v-160H180v160Zm440 0h160v-160H620v160Z\"/>\n",
              "  </svg>\n",
              "    </button>\n",
              "\n",
              "  <style>\n",
              "    .colab-df-container {\n",
              "      display:flex;\n",
              "      gap: 12px;\n",
              "    }\n",
              "\n",
              "    .colab-df-convert {\n",
              "      background-color: #E8F0FE;\n",
              "      border: none;\n",
              "      border-radius: 50%;\n",
              "      cursor: pointer;\n",
              "      display: none;\n",
              "      fill: #1967D2;\n",
              "      height: 32px;\n",
              "      padding: 0 0 0 0;\n",
              "      width: 32px;\n",
              "    }\n",
              "\n",
              "    .colab-df-convert:hover {\n",
              "      background-color: #E2EBFA;\n",
              "      box-shadow: 0px 1px 2px rgba(60, 64, 67, 0.3), 0px 1px 3px 1px rgba(60, 64, 67, 0.15);\n",
              "      fill: #174EA6;\n",
              "    }\n",
              "\n",
              "    .colab-df-buttons div {\n",
              "      margin-bottom: 4px;\n",
              "    }\n",
              "\n",
              "    [theme=dark] .colab-df-convert {\n",
              "      background-color: #3B4455;\n",
              "      fill: #D2E3FC;\n",
              "    }\n",
              "\n",
              "    [theme=dark] .colab-df-convert:hover {\n",
              "      background-color: #434B5C;\n",
              "      box-shadow: 0px 1px 3px 1px rgba(0, 0, 0, 0.15);\n",
              "      filter: drop-shadow(0px 1px 2px rgba(0, 0, 0, 0.3));\n",
              "      fill: #FFFFFF;\n",
              "    }\n",
              "  </style>\n",
              "\n",
              "    <script>\n",
              "      const buttonEl =\n",
              "        document.querySelector('#df-acad6eda-291a-4962-8405-99464d82f1d1 button.colab-df-convert');\n",
              "      buttonEl.style.display =\n",
              "        google.colab.kernel.accessAllowed ? 'block' : 'none';\n",
              "\n",
              "      async function convertToInteractive(key) {\n",
              "        const element = document.querySelector('#df-acad6eda-291a-4962-8405-99464d82f1d1');\n",
              "        const dataTable =\n",
              "          await google.colab.kernel.invokeFunction('convertToInteractive',\n",
              "                                                    [key], {});\n",
              "        if (!dataTable) return;\n",
              "\n",
              "        const docLinkHtml = 'Like what you see? Visit the ' +\n",
              "          '<a target=\"_blank\" href=https://colab.research.google.com/notebooks/data_table.ipynb>data table notebook</a>'\n",
              "          + ' to learn more about interactive tables.';\n",
              "        element.innerHTML = '';\n",
              "        dataTable['output_type'] = 'display_data';\n",
              "        await google.colab.output.renderOutput(dataTable, element);\n",
              "        const docLink = document.createElement('div');\n",
              "        docLink.innerHTML = docLinkHtml;\n",
              "        element.appendChild(docLink);\n",
              "      }\n",
              "    </script>\n",
              "  </div>\n",
              "\n",
              "\n",
              "<div id=\"df-a7d945a1-2b7b-4850-bf04-01a0862fd292\">\n",
              "  <button class=\"colab-df-quickchart\" onclick=\"quickchart('df-a7d945a1-2b7b-4850-bf04-01a0862fd292')\"\n",
              "            title=\"Suggest charts\"\n",
              "            style=\"display:none;\">\n",
              "\n",
              "<svg xmlns=\"http://www.w3.org/2000/svg\" height=\"24px\"viewBox=\"0 0 24 24\"\n",
              "     width=\"24px\">\n",
              "    <g>\n",
              "        <path d=\"M19 3H5c-1.1 0-2 .9-2 2v14c0 1.1.9 2 2 2h14c1.1 0 2-.9 2-2V5c0-1.1-.9-2-2-2zM9 17H7v-7h2v7zm4 0h-2V7h2v10zm4 0h-2v-4h2v4z\"/>\n",
              "    </g>\n",
              "</svg>\n",
              "  </button>\n",
              "\n",
              "<style>\n",
              "  .colab-df-quickchart {\n",
              "      --bg-color: #E8F0FE;\n",
              "      --fill-color: #1967D2;\n",
              "      --hover-bg-color: #E2EBFA;\n",
              "      --hover-fill-color: #174EA6;\n",
              "      --disabled-fill-color: #AAA;\n",
              "      --disabled-bg-color: #DDD;\n",
              "  }\n",
              "\n",
              "  [theme=dark] .colab-df-quickchart {\n",
              "      --bg-color: #3B4455;\n",
              "      --fill-color: #D2E3FC;\n",
              "      --hover-bg-color: #434B5C;\n",
              "      --hover-fill-color: #FFFFFF;\n",
              "      --disabled-bg-color: #3B4455;\n",
              "      --disabled-fill-color: #666;\n",
              "  }\n",
              "\n",
              "  .colab-df-quickchart {\n",
              "    background-color: var(--bg-color);\n",
              "    border: none;\n",
              "    border-radius: 50%;\n",
              "    cursor: pointer;\n",
              "    display: none;\n",
              "    fill: var(--fill-color);\n",
              "    height: 32px;\n",
              "    padding: 0;\n",
              "    width: 32px;\n",
              "  }\n",
              "\n",
              "  .colab-df-quickchart:hover {\n",
              "    background-color: var(--hover-bg-color);\n",
              "    box-shadow: 0 1px 2px rgba(60, 64, 67, 0.3), 0 1px 3px 1px rgba(60, 64, 67, 0.15);\n",
              "    fill: var(--button-hover-fill-color);\n",
              "  }\n",
              "\n",
              "  .colab-df-quickchart-complete:disabled,\n",
              "  .colab-df-quickchart-complete:disabled:hover {\n",
              "    background-color: var(--disabled-bg-color);\n",
              "    fill: var(--disabled-fill-color);\n",
              "    box-shadow: none;\n",
              "  }\n",
              "\n",
              "  .colab-df-spinner {\n",
              "    border: 2px solid var(--fill-color);\n",
              "    border-color: transparent;\n",
              "    border-bottom-color: var(--fill-color);\n",
              "    animation:\n",
              "      spin 1s steps(1) infinite;\n",
              "  }\n",
              "\n",
              "  @keyframes spin {\n",
              "    0% {\n",
              "      border-color: transparent;\n",
              "      border-bottom-color: var(--fill-color);\n",
              "      border-left-color: var(--fill-color);\n",
              "    }\n",
              "    20% {\n",
              "      border-color: transparent;\n",
              "      border-left-color: var(--fill-color);\n",
              "      border-top-color: var(--fill-color);\n",
              "    }\n",
              "    30% {\n",
              "      border-color: transparent;\n",
              "      border-left-color: var(--fill-color);\n",
              "      border-top-color: var(--fill-color);\n",
              "      border-right-color: var(--fill-color);\n",
              "    }\n",
              "    40% {\n",
              "      border-color: transparent;\n",
              "      border-right-color: var(--fill-color);\n",
              "      border-top-color: var(--fill-color);\n",
              "    }\n",
              "    60% {\n",
              "      border-color: transparent;\n",
              "      border-right-color: var(--fill-color);\n",
              "    }\n",
              "    80% {\n",
              "      border-color: transparent;\n",
              "      border-right-color: var(--fill-color);\n",
              "      border-bottom-color: var(--fill-color);\n",
              "    }\n",
              "    90% {\n",
              "      border-color: transparent;\n",
              "      border-bottom-color: var(--fill-color);\n",
              "    }\n",
              "  }\n",
              "</style>\n",
              "\n",
              "  <script>\n",
              "    async function quickchart(key) {\n",
              "      const quickchartButtonEl =\n",
              "        document.querySelector('#' + key + ' button');\n",
              "      quickchartButtonEl.disabled = true;  // To prevent multiple clicks.\n",
              "      quickchartButtonEl.classList.add('colab-df-spinner');\n",
              "      try {\n",
              "        const charts = await google.colab.kernel.invokeFunction(\n",
              "            'suggestCharts', [key], {});\n",
              "      } catch (error) {\n",
              "        console.error('Error during call to suggestCharts:', error);\n",
              "      }\n",
              "      quickchartButtonEl.classList.remove('colab-df-spinner');\n",
              "      quickchartButtonEl.classList.add('colab-df-quickchart-complete');\n",
              "    }\n",
              "    (() => {\n",
              "      let quickchartButtonEl =\n",
              "        document.querySelector('#df-a7d945a1-2b7b-4850-bf04-01a0862fd292 button');\n",
              "      quickchartButtonEl.style.display =\n",
              "        google.colab.kernel.accessAllowed ? 'block' : 'none';\n",
              "    })();\n",
              "  </script>\n",
              "</div>\n",
              "    </div>\n",
              "  </div>\n"
            ]
          },
          "metadata": {},
          "execution_count": 14
        }
      ],
      "source": [
        "# Replacing values to numeric\n",
        "replace_map = {\n",
        "    'Yes': 1,\n",
        "    'No': 0,\n",
        "    'No internet service': 0\n",
        "}\n",
        "\n",
        "for col in [\"Games Product\", \"Music Product\", \"Education Product\", \"Call Center\", \"Video Product\", \"Use MyApp\", \"Churn Label\"]:\n",
        "    data[col] = data[col].replace(replace_map)\n",
        "\n",
        "# Dtypes changed too\n",
        "data.head()"
      ]
    },
    {
      "cell_type": "code",
      "execution_count": null,
      "metadata": {
        "colab": {
          "base_uri": "https://localhost:8080/",
          "height": 327
        },
        "id": "_2u9VSNcE8T9",
        "outputId": "e8765f4b-6452-4a98-ac3d-dae44ac55d52"
      },
      "outputs": [
        {
          "output_type": "execute_result",
          "data": {
            "text/plain": [
              "             Tenure Months  Device Class  Games Product  Music Product  \\\n",
              "Customer ID                                                              \n",
              "0                        2             1              1              1   \n",
              "1                        2             2              0              0   \n",
              "2                        8             2              0              0   \n",
              "3                       28             2              0              0   \n",
              "4                       49             2              0              1   \n",
              "\n",
              "             Education Product  Call Center  Video Product  Use MyApp  \\\n",
              "Customer ID                                                             \n",
              "0                            0            0              0          0   \n",
              "1                            0            0              0          0   \n",
              "2                            1            0              1          1   \n",
              "3                            1            1              1          1   \n",
              "4                            1            0              1          1   \n",
              "\n",
              "             Monthly Purchase (Thou. IDR)  Churn Label   Longitude  Latitude  \\\n",
              "Customer ID                                                                    \n",
              "0                                  70.005            1  106.816666      -6.2   \n",
              "1                                  91.910            1  106.816666      -6.2   \n",
              "2                                 129.545            1  106.816666      -6.2   \n",
              "3                                 136.240            1  106.816666      -6.2   \n",
              "4                                 134.810            1  106.816666      -6.2   \n",
              "\n",
              "             CLTV (Predicted Thou. IDR)  Location_Bandung  Location_Jakarta  \\\n",
              "Customer ID                                                                   \n",
              "0                                4210.7                 0                 1   \n",
              "1                                3511.3                 0                 1   \n",
              "2                                6983.6                 0                 1   \n",
              "3                                6503.9                 0                 1   \n",
              "4                                6942.0                 0                 1   \n",
              "\n",
              "             Payment Method_Credit  Payment Method_Debit  \\\n",
              "Customer ID                                                \n",
              "0                                0                     0   \n",
              "1                                0                     0   \n",
              "2                                0                     0   \n",
              "3                                0                     0   \n",
              "4                                0                     1   \n",
              "\n",
              "             Payment Method_Digital Wallet  Payment Method_Pulsa  \n",
              "Customer ID                                                       \n",
              "0                                        1                     0  \n",
              "1                                        0                     1  \n",
              "2                                        0                     1  \n",
              "3                                        0                     1  \n",
              "4                                        0                     0  "
            ],
            "text/html": [
              "\n",
              "  <div id=\"df-f072e67c-22b2-4023-b0b1-bcd0fcf30d16\" class=\"colab-df-container\">\n",
              "    <div>\n",
              "<style scoped>\n",
              "    .dataframe tbody tr th:only-of-type {\n",
              "        vertical-align: middle;\n",
              "    }\n",
              "\n",
              "    .dataframe tbody tr th {\n",
              "        vertical-align: top;\n",
              "    }\n",
              "\n",
              "    .dataframe thead th {\n",
              "        text-align: right;\n",
              "    }\n",
              "</style>\n",
              "<table border=\"1\" class=\"dataframe\">\n",
              "  <thead>\n",
              "    <tr style=\"text-align: right;\">\n",
              "      <th></th>\n",
              "      <th>Tenure Months</th>\n",
              "      <th>Device Class</th>\n",
              "      <th>Games Product</th>\n",
              "      <th>Music Product</th>\n",
              "      <th>Education Product</th>\n",
              "      <th>Call Center</th>\n",
              "      <th>Video Product</th>\n",
              "      <th>Use MyApp</th>\n",
              "      <th>Monthly Purchase (Thou. IDR)</th>\n",
              "      <th>Churn Label</th>\n",
              "      <th>Longitude</th>\n",
              "      <th>Latitude</th>\n",
              "      <th>CLTV (Predicted Thou. IDR)</th>\n",
              "      <th>Location_Bandung</th>\n",
              "      <th>Location_Jakarta</th>\n",
              "      <th>Payment Method_Credit</th>\n",
              "      <th>Payment Method_Debit</th>\n",
              "      <th>Payment Method_Digital Wallet</th>\n",
              "      <th>Payment Method_Pulsa</th>\n",
              "    </tr>\n",
              "    <tr>\n",
              "      <th>Customer ID</th>\n",
              "      <th></th>\n",
              "      <th></th>\n",
              "      <th></th>\n",
              "      <th></th>\n",
              "      <th></th>\n",
              "      <th></th>\n",
              "      <th></th>\n",
              "      <th></th>\n",
              "      <th></th>\n",
              "      <th></th>\n",
              "      <th></th>\n",
              "      <th></th>\n",
              "      <th></th>\n",
              "      <th></th>\n",
              "      <th></th>\n",
              "      <th></th>\n",
              "      <th></th>\n",
              "      <th></th>\n",
              "      <th></th>\n",
              "    </tr>\n",
              "  </thead>\n",
              "  <tbody>\n",
              "    <tr>\n",
              "      <th>0</th>\n",
              "      <td>2</td>\n",
              "      <td>1</td>\n",
              "      <td>1</td>\n",
              "      <td>1</td>\n",
              "      <td>0</td>\n",
              "      <td>0</td>\n",
              "      <td>0</td>\n",
              "      <td>0</td>\n",
              "      <td>70.005</td>\n",
              "      <td>1</td>\n",
              "      <td>106.816666</td>\n",
              "      <td>-6.2</td>\n",
              "      <td>4210.7</td>\n",
              "      <td>0</td>\n",
              "      <td>1</td>\n",
              "      <td>0</td>\n",
              "      <td>0</td>\n",
              "      <td>1</td>\n",
              "      <td>0</td>\n",
              "    </tr>\n",
              "    <tr>\n",
              "      <th>1</th>\n",
              "      <td>2</td>\n",
              "      <td>2</td>\n",
              "      <td>0</td>\n",
              "      <td>0</td>\n",
              "      <td>0</td>\n",
              "      <td>0</td>\n",
              "      <td>0</td>\n",
              "      <td>0</td>\n",
              "      <td>91.910</td>\n",
              "      <td>1</td>\n",
              "      <td>106.816666</td>\n",
              "      <td>-6.2</td>\n",
              "      <td>3511.3</td>\n",
              "      <td>0</td>\n",
              "      <td>1</td>\n",
              "      <td>0</td>\n",
              "      <td>0</td>\n",
              "      <td>0</td>\n",
              "      <td>1</td>\n",
              "    </tr>\n",
              "    <tr>\n",
              "      <th>2</th>\n",
              "      <td>8</td>\n",
              "      <td>2</td>\n",
              "      <td>0</td>\n",
              "      <td>0</td>\n",
              "      <td>1</td>\n",
              "      <td>0</td>\n",
              "      <td>1</td>\n",
              "      <td>1</td>\n",
              "      <td>129.545</td>\n",
              "      <td>1</td>\n",
              "      <td>106.816666</td>\n",
              "      <td>-6.2</td>\n",
              "      <td>6983.6</td>\n",
              "      <td>0</td>\n",
              "      <td>1</td>\n",
              "      <td>0</td>\n",
              "      <td>0</td>\n",
              "      <td>0</td>\n",
              "      <td>1</td>\n",
              "    </tr>\n",
              "    <tr>\n",
              "      <th>3</th>\n",
              "      <td>28</td>\n",
              "      <td>2</td>\n",
              "      <td>0</td>\n",
              "      <td>0</td>\n",
              "      <td>1</td>\n",
              "      <td>1</td>\n",
              "      <td>1</td>\n",
              "      <td>1</td>\n",
              "      <td>136.240</td>\n",
              "      <td>1</td>\n",
              "      <td>106.816666</td>\n",
              "      <td>-6.2</td>\n",
              "      <td>6503.9</td>\n",
              "      <td>0</td>\n",
              "      <td>1</td>\n",
              "      <td>0</td>\n",
              "      <td>0</td>\n",
              "      <td>0</td>\n",
              "      <td>1</td>\n",
              "    </tr>\n",
              "    <tr>\n",
              "      <th>4</th>\n",
              "      <td>49</td>\n",
              "      <td>2</td>\n",
              "      <td>0</td>\n",
              "      <td>1</td>\n",
              "      <td>1</td>\n",
              "      <td>0</td>\n",
              "      <td>1</td>\n",
              "      <td>1</td>\n",
              "      <td>134.810</td>\n",
              "      <td>1</td>\n",
              "      <td>106.816666</td>\n",
              "      <td>-6.2</td>\n",
              "      <td>6942.0</td>\n",
              "      <td>0</td>\n",
              "      <td>1</td>\n",
              "      <td>0</td>\n",
              "      <td>1</td>\n",
              "      <td>0</td>\n",
              "      <td>0</td>\n",
              "    </tr>\n",
              "  </tbody>\n",
              "</table>\n",
              "</div>\n",
              "    <div class=\"colab-df-buttons\">\n",
              "\n",
              "  <div class=\"colab-df-container\">\n",
              "    <button class=\"colab-df-convert\" onclick=\"convertToInteractive('df-f072e67c-22b2-4023-b0b1-bcd0fcf30d16')\"\n",
              "            title=\"Convert this dataframe to an interactive table.\"\n",
              "            style=\"display:none;\">\n",
              "\n",
              "  <svg xmlns=\"http://www.w3.org/2000/svg\" height=\"24px\" viewBox=\"0 -960 960 960\">\n",
              "    <path d=\"M120-120v-720h720v720H120Zm60-500h600v-160H180v160Zm220 220h160v-160H400v160Zm0 220h160v-160H400v160ZM180-400h160v-160H180v160Zm440 0h160v-160H620v160ZM180-180h160v-160H180v160Zm440 0h160v-160H620v160Z\"/>\n",
              "  </svg>\n",
              "    </button>\n",
              "\n",
              "  <style>\n",
              "    .colab-df-container {\n",
              "      display:flex;\n",
              "      gap: 12px;\n",
              "    }\n",
              "\n",
              "    .colab-df-convert {\n",
              "      background-color: #E8F0FE;\n",
              "      border: none;\n",
              "      border-radius: 50%;\n",
              "      cursor: pointer;\n",
              "      display: none;\n",
              "      fill: #1967D2;\n",
              "      height: 32px;\n",
              "      padding: 0 0 0 0;\n",
              "      width: 32px;\n",
              "    }\n",
              "\n",
              "    .colab-df-convert:hover {\n",
              "      background-color: #E2EBFA;\n",
              "      box-shadow: 0px 1px 2px rgba(60, 64, 67, 0.3), 0px 1px 3px 1px rgba(60, 64, 67, 0.15);\n",
              "      fill: #174EA6;\n",
              "    }\n",
              "\n",
              "    .colab-df-buttons div {\n",
              "      margin-bottom: 4px;\n",
              "    }\n",
              "\n",
              "    [theme=dark] .colab-df-convert {\n",
              "      background-color: #3B4455;\n",
              "      fill: #D2E3FC;\n",
              "    }\n",
              "\n",
              "    [theme=dark] .colab-df-convert:hover {\n",
              "      background-color: #434B5C;\n",
              "      box-shadow: 0px 1px 3px 1px rgba(0, 0, 0, 0.15);\n",
              "      filter: drop-shadow(0px 1px 2px rgba(0, 0, 0, 0.3));\n",
              "      fill: #FFFFFF;\n",
              "    }\n",
              "  </style>\n",
              "\n",
              "    <script>\n",
              "      const buttonEl =\n",
              "        document.querySelector('#df-f072e67c-22b2-4023-b0b1-bcd0fcf30d16 button.colab-df-convert');\n",
              "      buttonEl.style.display =\n",
              "        google.colab.kernel.accessAllowed ? 'block' : 'none';\n",
              "\n",
              "      async function convertToInteractive(key) {\n",
              "        const element = document.querySelector('#df-f072e67c-22b2-4023-b0b1-bcd0fcf30d16');\n",
              "        const dataTable =\n",
              "          await google.colab.kernel.invokeFunction('convertToInteractive',\n",
              "                                                    [key], {});\n",
              "        if (!dataTable) return;\n",
              "\n",
              "        const docLinkHtml = 'Like what you see? Visit the ' +\n",
              "          '<a target=\"_blank\" href=https://colab.research.google.com/notebooks/data_table.ipynb>data table notebook</a>'\n",
              "          + ' to learn more about interactive tables.';\n",
              "        element.innerHTML = '';\n",
              "        dataTable['output_type'] = 'display_data';\n",
              "        await google.colab.output.renderOutput(dataTable, element);\n",
              "        const docLink = document.createElement('div');\n",
              "        docLink.innerHTML = docLinkHtml;\n",
              "        element.appendChild(docLink);\n",
              "      }\n",
              "    </script>\n",
              "  </div>\n",
              "\n",
              "\n",
              "<div id=\"df-8ecca618-931e-4dfb-aff7-0b119cf6a08c\">\n",
              "  <button class=\"colab-df-quickchart\" onclick=\"quickchart('df-8ecca618-931e-4dfb-aff7-0b119cf6a08c')\"\n",
              "            title=\"Suggest charts\"\n",
              "            style=\"display:none;\">\n",
              "\n",
              "<svg xmlns=\"http://www.w3.org/2000/svg\" height=\"24px\"viewBox=\"0 0 24 24\"\n",
              "     width=\"24px\">\n",
              "    <g>\n",
              "        <path d=\"M19 3H5c-1.1 0-2 .9-2 2v14c0 1.1.9 2 2 2h14c1.1 0 2-.9 2-2V5c0-1.1-.9-2-2-2zM9 17H7v-7h2v7zm4 0h-2V7h2v10zm4 0h-2v-4h2v4z\"/>\n",
              "    </g>\n",
              "</svg>\n",
              "  </button>\n",
              "\n",
              "<style>\n",
              "  .colab-df-quickchart {\n",
              "      --bg-color: #E8F0FE;\n",
              "      --fill-color: #1967D2;\n",
              "      --hover-bg-color: #E2EBFA;\n",
              "      --hover-fill-color: #174EA6;\n",
              "      --disabled-fill-color: #AAA;\n",
              "      --disabled-bg-color: #DDD;\n",
              "  }\n",
              "\n",
              "  [theme=dark] .colab-df-quickchart {\n",
              "      --bg-color: #3B4455;\n",
              "      --fill-color: #D2E3FC;\n",
              "      --hover-bg-color: #434B5C;\n",
              "      --hover-fill-color: #FFFFFF;\n",
              "      --disabled-bg-color: #3B4455;\n",
              "      --disabled-fill-color: #666;\n",
              "  }\n",
              "\n",
              "  .colab-df-quickchart {\n",
              "    background-color: var(--bg-color);\n",
              "    border: none;\n",
              "    border-radius: 50%;\n",
              "    cursor: pointer;\n",
              "    display: none;\n",
              "    fill: var(--fill-color);\n",
              "    height: 32px;\n",
              "    padding: 0;\n",
              "    width: 32px;\n",
              "  }\n",
              "\n",
              "  .colab-df-quickchart:hover {\n",
              "    background-color: var(--hover-bg-color);\n",
              "    box-shadow: 0 1px 2px rgba(60, 64, 67, 0.3), 0 1px 3px 1px rgba(60, 64, 67, 0.15);\n",
              "    fill: var(--button-hover-fill-color);\n",
              "  }\n",
              "\n",
              "  .colab-df-quickchart-complete:disabled,\n",
              "  .colab-df-quickchart-complete:disabled:hover {\n",
              "    background-color: var(--disabled-bg-color);\n",
              "    fill: var(--disabled-fill-color);\n",
              "    box-shadow: none;\n",
              "  }\n",
              "\n",
              "  .colab-df-spinner {\n",
              "    border: 2px solid var(--fill-color);\n",
              "    border-color: transparent;\n",
              "    border-bottom-color: var(--fill-color);\n",
              "    animation:\n",
              "      spin 1s steps(1) infinite;\n",
              "  }\n",
              "\n",
              "  @keyframes spin {\n",
              "    0% {\n",
              "      border-color: transparent;\n",
              "      border-bottom-color: var(--fill-color);\n",
              "      border-left-color: var(--fill-color);\n",
              "    }\n",
              "    20% {\n",
              "      border-color: transparent;\n",
              "      border-left-color: var(--fill-color);\n",
              "      border-top-color: var(--fill-color);\n",
              "    }\n",
              "    30% {\n",
              "      border-color: transparent;\n",
              "      border-left-color: var(--fill-color);\n",
              "      border-top-color: var(--fill-color);\n",
              "      border-right-color: var(--fill-color);\n",
              "    }\n",
              "    40% {\n",
              "      border-color: transparent;\n",
              "      border-right-color: var(--fill-color);\n",
              "      border-top-color: var(--fill-color);\n",
              "    }\n",
              "    60% {\n",
              "      border-color: transparent;\n",
              "      border-right-color: var(--fill-color);\n",
              "    }\n",
              "    80% {\n",
              "      border-color: transparent;\n",
              "      border-right-color: var(--fill-color);\n",
              "      border-bottom-color: var(--fill-color);\n",
              "    }\n",
              "    90% {\n",
              "      border-color: transparent;\n",
              "      border-bottom-color: var(--fill-color);\n",
              "    }\n",
              "  }\n",
              "</style>\n",
              "\n",
              "  <script>\n",
              "    async function quickchart(key) {\n",
              "      const quickchartButtonEl =\n",
              "        document.querySelector('#' + key + ' button');\n",
              "      quickchartButtonEl.disabled = true;  // To prevent multiple clicks.\n",
              "      quickchartButtonEl.classList.add('colab-df-spinner');\n",
              "      try {\n",
              "        const charts = await google.colab.kernel.invokeFunction(\n",
              "            'suggestCharts', [key], {});\n",
              "      } catch (error) {\n",
              "        console.error('Error during call to suggestCharts:', error);\n",
              "      }\n",
              "      quickchartButtonEl.classList.remove('colab-df-spinner');\n",
              "      quickchartButtonEl.classList.add('colab-df-quickchart-complete');\n",
              "    }\n",
              "    (() => {\n",
              "      let quickchartButtonEl =\n",
              "        document.querySelector('#df-8ecca618-931e-4dfb-aff7-0b119cf6a08c button');\n",
              "      quickchartButtonEl.style.display =\n",
              "        google.colab.kernel.accessAllowed ? 'block' : 'none';\n",
              "    })();\n",
              "  </script>\n",
              "</div>\n",
              "    </div>\n",
              "  </div>\n"
            ]
          },
          "metadata": {},
          "execution_count": 15
        }
      ],
      "source": [
        "# Ordinal encoding\n",
        "device_class_map = {\n",
        "    'High End': 2,\n",
        "    'Mid End': 1,\n",
        "    'Low End': 0\n",
        "}\n",
        "data['Device Class'] = data['Device Class'].replace(device_class_map)\n",
        "\n",
        "# One-Hot Encoding\n",
        "data = pd.get_dummies(data, columns=[\"Location\", \"Payment Method\"])\n",
        "data.head()"
      ]
    },
    {
      "cell_type": "markdown",
      "metadata": {
        "id": "aRbrv-y5EdRN"
      },
      "source": [
        "### **2. New Features**"
      ]
    },
    {
      "cell_type": "code",
      "source": [
        "data['number_of_products'] = data[ [\"Games Product\", \"Music Product\", \"Education Product\", \"Call Center\", \"Video Product\", \"Use MyApp\"]].sum(axis=1)"
      ],
      "metadata": {
        "id": "AwSn6jsPCTmV"
      },
      "execution_count": null,
      "outputs": []
    },
    {
      "cell_type": "code",
      "source": [
        "data.head()"
      ],
      "metadata": {
        "colab": {
          "base_uri": "https://localhost:8080/",
          "height": 327
        },
        "id": "hk39FgkI402a",
        "outputId": "f4abe601-a06d-4d3b-ac95-036ac7c4856c"
      },
      "execution_count": null,
      "outputs": [
        {
          "output_type": "execute_result",
          "data": {
            "text/plain": [
              "             Tenure Months  Device Class  Games Product  Music Product  \\\n",
              "Customer ID                                                              \n",
              "0                        2             1              1              1   \n",
              "1                        2             2              0              0   \n",
              "2                        8             2              0              0   \n",
              "3                       28             2              0              0   \n",
              "4                       49             2              0              1   \n",
              "\n",
              "             Education Product  Call Center  Video Product  Use MyApp  \\\n",
              "Customer ID                                                             \n",
              "0                            0            0              0          0   \n",
              "1                            0            0              0          0   \n",
              "2                            1            0              1          1   \n",
              "3                            1            1              1          1   \n",
              "4                            1            0              1          1   \n",
              "\n",
              "             Monthly Purchase (Thou. IDR)  Churn Label   Longitude  Latitude  \\\n",
              "Customer ID                                                                    \n",
              "0                                  70.005            1  106.816666      -6.2   \n",
              "1                                  91.910            1  106.816666      -6.2   \n",
              "2                                 129.545            1  106.816666      -6.2   \n",
              "3                                 136.240            1  106.816666      -6.2   \n",
              "4                                 134.810            1  106.816666      -6.2   \n",
              "\n",
              "             CLTV (Predicted Thou. IDR)  Location_Bandung  Location_Jakarta  \\\n",
              "Customer ID                                                                   \n",
              "0                                4210.7                 0                 1   \n",
              "1                                3511.3                 0                 1   \n",
              "2                                6983.6                 0                 1   \n",
              "3                                6503.9                 0                 1   \n",
              "4                                6942.0                 0                 1   \n",
              "\n",
              "             Payment Method_Credit  Payment Method_Debit  \\\n",
              "Customer ID                                                \n",
              "0                                0                     0   \n",
              "1                                0                     0   \n",
              "2                                0                     0   \n",
              "3                                0                     0   \n",
              "4                                0                     1   \n",
              "\n",
              "             Payment Method_Digital Wallet  Payment Method_Pulsa  \\\n",
              "Customer ID                                                        \n",
              "0                                        1                     0   \n",
              "1                                        0                     1   \n",
              "2                                        0                     1   \n",
              "3                                        0                     1   \n",
              "4                                        0                     0   \n",
              "\n",
              "             number_of_products  cost_per_product  \n",
              "Customer ID                                        \n",
              "0                             2          23.33500  \n",
              "1                             0          91.91000  \n",
              "2                             3          32.38625  \n",
              "3                             4          27.24800  \n",
              "4                             4          26.96200  "
            ],
            "text/html": [
              "\n",
              "  <div id=\"df-924d7594-c1dd-41df-a03d-ee20f2ca7971\" class=\"colab-df-container\">\n",
              "    <div>\n",
              "<style scoped>\n",
              "    .dataframe tbody tr th:only-of-type {\n",
              "        vertical-align: middle;\n",
              "    }\n",
              "\n",
              "    .dataframe tbody tr th {\n",
              "        vertical-align: top;\n",
              "    }\n",
              "\n",
              "    .dataframe thead th {\n",
              "        text-align: right;\n",
              "    }\n",
              "</style>\n",
              "<table border=\"1\" class=\"dataframe\">\n",
              "  <thead>\n",
              "    <tr style=\"text-align: right;\">\n",
              "      <th></th>\n",
              "      <th>Tenure Months</th>\n",
              "      <th>Device Class</th>\n",
              "      <th>Games Product</th>\n",
              "      <th>Music Product</th>\n",
              "      <th>Education Product</th>\n",
              "      <th>Call Center</th>\n",
              "      <th>Video Product</th>\n",
              "      <th>Use MyApp</th>\n",
              "      <th>Monthly Purchase (Thou. IDR)</th>\n",
              "      <th>Churn Label</th>\n",
              "      <th>Longitude</th>\n",
              "      <th>Latitude</th>\n",
              "      <th>CLTV (Predicted Thou. IDR)</th>\n",
              "      <th>Location_Bandung</th>\n",
              "      <th>Location_Jakarta</th>\n",
              "      <th>Payment Method_Credit</th>\n",
              "      <th>Payment Method_Debit</th>\n",
              "      <th>Payment Method_Digital Wallet</th>\n",
              "      <th>Payment Method_Pulsa</th>\n",
              "      <th>number_of_products</th>\n",
              "      <th>cost_per_product</th>\n",
              "    </tr>\n",
              "    <tr>\n",
              "      <th>Customer ID</th>\n",
              "      <th></th>\n",
              "      <th></th>\n",
              "      <th></th>\n",
              "      <th></th>\n",
              "      <th></th>\n",
              "      <th></th>\n",
              "      <th></th>\n",
              "      <th></th>\n",
              "      <th></th>\n",
              "      <th></th>\n",
              "      <th></th>\n",
              "      <th></th>\n",
              "      <th></th>\n",
              "      <th></th>\n",
              "      <th></th>\n",
              "      <th></th>\n",
              "      <th></th>\n",
              "      <th></th>\n",
              "      <th></th>\n",
              "      <th></th>\n",
              "      <th></th>\n",
              "    </tr>\n",
              "  </thead>\n",
              "  <tbody>\n",
              "    <tr>\n",
              "      <th>0</th>\n",
              "      <td>2</td>\n",
              "      <td>1</td>\n",
              "      <td>1</td>\n",
              "      <td>1</td>\n",
              "      <td>0</td>\n",
              "      <td>0</td>\n",
              "      <td>0</td>\n",
              "      <td>0</td>\n",
              "      <td>70.005</td>\n",
              "      <td>1</td>\n",
              "      <td>106.816666</td>\n",
              "      <td>-6.2</td>\n",
              "      <td>4210.7</td>\n",
              "      <td>0</td>\n",
              "      <td>1</td>\n",
              "      <td>0</td>\n",
              "      <td>0</td>\n",
              "      <td>1</td>\n",
              "      <td>0</td>\n",
              "      <td>2</td>\n",
              "      <td>23.33500</td>\n",
              "    </tr>\n",
              "    <tr>\n",
              "      <th>1</th>\n",
              "      <td>2</td>\n",
              "      <td>2</td>\n",
              "      <td>0</td>\n",
              "      <td>0</td>\n",
              "      <td>0</td>\n",
              "      <td>0</td>\n",
              "      <td>0</td>\n",
              "      <td>0</td>\n",
              "      <td>91.910</td>\n",
              "      <td>1</td>\n",
              "      <td>106.816666</td>\n",
              "      <td>-6.2</td>\n",
              "      <td>3511.3</td>\n",
              "      <td>0</td>\n",
              "      <td>1</td>\n",
              "      <td>0</td>\n",
              "      <td>0</td>\n",
              "      <td>0</td>\n",
              "      <td>1</td>\n",
              "      <td>0</td>\n",
              "      <td>91.91000</td>\n",
              "    </tr>\n",
              "    <tr>\n",
              "      <th>2</th>\n",
              "      <td>8</td>\n",
              "      <td>2</td>\n",
              "      <td>0</td>\n",
              "      <td>0</td>\n",
              "      <td>1</td>\n",
              "      <td>0</td>\n",
              "      <td>1</td>\n",
              "      <td>1</td>\n",
              "      <td>129.545</td>\n",
              "      <td>1</td>\n",
              "      <td>106.816666</td>\n",
              "      <td>-6.2</td>\n",
              "      <td>6983.6</td>\n",
              "      <td>0</td>\n",
              "      <td>1</td>\n",
              "      <td>0</td>\n",
              "      <td>0</td>\n",
              "      <td>0</td>\n",
              "      <td>1</td>\n",
              "      <td>3</td>\n",
              "      <td>32.38625</td>\n",
              "    </tr>\n",
              "    <tr>\n",
              "      <th>3</th>\n",
              "      <td>28</td>\n",
              "      <td>2</td>\n",
              "      <td>0</td>\n",
              "      <td>0</td>\n",
              "      <td>1</td>\n",
              "      <td>1</td>\n",
              "      <td>1</td>\n",
              "      <td>1</td>\n",
              "      <td>136.240</td>\n",
              "      <td>1</td>\n",
              "      <td>106.816666</td>\n",
              "      <td>-6.2</td>\n",
              "      <td>6503.9</td>\n",
              "      <td>0</td>\n",
              "      <td>1</td>\n",
              "      <td>0</td>\n",
              "      <td>0</td>\n",
              "      <td>0</td>\n",
              "      <td>1</td>\n",
              "      <td>4</td>\n",
              "      <td>27.24800</td>\n",
              "    </tr>\n",
              "    <tr>\n",
              "      <th>4</th>\n",
              "      <td>49</td>\n",
              "      <td>2</td>\n",
              "      <td>0</td>\n",
              "      <td>1</td>\n",
              "      <td>1</td>\n",
              "      <td>0</td>\n",
              "      <td>1</td>\n",
              "      <td>1</td>\n",
              "      <td>134.810</td>\n",
              "      <td>1</td>\n",
              "      <td>106.816666</td>\n",
              "      <td>-6.2</td>\n",
              "      <td>6942.0</td>\n",
              "      <td>0</td>\n",
              "      <td>1</td>\n",
              "      <td>0</td>\n",
              "      <td>1</td>\n",
              "      <td>0</td>\n",
              "      <td>0</td>\n",
              "      <td>4</td>\n",
              "      <td>26.96200</td>\n",
              "    </tr>\n",
              "  </tbody>\n",
              "</table>\n",
              "</div>\n",
              "    <div class=\"colab-df-buttons\">\n",
              "\n",
              "  <div class=\"colab-df-container\">\n",
              "    <button class=\"colab-df-convert\" onclick=\"convertToInteractive('df-924d7594-c1dd-41df-a03d-ee20f2ca7971')\"\n",
              "            title=\"Convert this dataframe to an interactive table.\"\n",
              "            style=\"display:none;\">\n",
              "\n",
              "  <svg xmlns=\"http://www.w3.org/2000/svg\" height=\"24px\" viewBox=\"0 -960 960 960\">\n",
              "    <path d=\"M120-120v-720h720v720H120Zm60-500h600v-160H180v160Zm220 220h160v-160H400v160Zm0 220h160v-160H400v160ZM180-400h160v-160H180v160Zm440 0h160v-160H620v160ZM180-180h160v-160H180v160Zm440 0h160v-160H620v160Z\"/>\n",
              "  </svg>\n",
              "    </button>\n",
              "\n",
              "  <style>\n",
              "    .colab-df-container {\n",
              "      display:flex;\n",
              "      gap: 12px;\n",
              "    }\n",
              "\n",
              "    .colab-df-convert {\n",
              "      background-color: #E8F0FE;\n",
              "      border: none;\n",
              "      border-radius: 50%;\n",
              "      cursor: pointer;\n",
              "      display: none;\n",
              "      fill: #1967D2;\n",
              "      height: 32px;\n",
              "      padding: 0 0 0 0;\n",
              "      width: 32px;\n",
              "    }\n",
              "\n",
              "    .colab-df-convert:hover {\n",
              "      background-color: #E2EBFA;\n",
              "      box-shadow: 0px 1px 2px rgba(60, 64, 67, 0.3), 0px 1px 3px 1px rgba(60, 64, 67, 0.15);\n",
              "      fill: #174EA6;\n",
              "    }\n",
              "\n",
              "    .colab-df-buttons div {\n",
              "      margin-bottom: 4px;\n",
              "    }\n",
              "\n",
              "    [theme=dark] .colab-df-convert {\n",
              "      background-color: #3B4455;\n",
              "      fill: #D2E3FC;\n",
              "    }\n",
              "\n",
              "    [theme=dark] .colab-df-convert:hover {\n",
              "      background-color: #434B5C;\n",
              "      box-shadow: 0px 1px 3px 1px rgba(0, 0, 0, 0.15);\n",
              "      filter: drop-shadow(0px 1px 2px rgba(0, 0, 0, 0.3));\n",
              "      fill: #FFFFFF;\n",
              "    }\n",
              "  </style>\n",
              "\n",
              "    <script>\n",
              "      const buttonEl =\n",
              "        document.querySelector('#df-924d7594-c1dd-41df-a03d-ee20f2ca7971 button.colab-df-convert');\n",
              "      buttonEl.style.display =\n",
              "        google.colab.kernel.accessAllowed ? 'block' : 'none';\n",
              "\n",
              "      async function convertToInteractive(key) {\n",
              "        const element = document.querySelector('#df-924d7594-c1dd-41df-a03d-ee20f2ca7971');\n",
              "        const dataTable =\n",
              "          await google.colab.kernel.invokeFunction('convertToInteractive',\n",
              "                                                    [key], {});\n",
              "        if (!dataTable) return;\n",
              "\n",
              "        const docLinkHtml = 'Like what you see? Visit the ' +\n",
              "          '<a target=\"_blank\" href=https://colab.research.google.com/notebooks/data_table.ipynb>data table notebook</a>'\n",
              "          + ' to learn more about interactive tables.';\n",
              "        element.innerHTML = '';\n",
              "        dataTable['output_type'] = 'display_data';\n",
              "        await google.colab.output.renderOutput(dataTable, element);\n",
              "        const docLink = document.createElement('div');\n",
              "        docLink.innerHTML = docLinkHtml;\n",
              "        element.appendChild(docLink);\n",
              "      }\n",
              "    </script>\n",
              "  </div>\n",
              "\n",
              "\n",
              "<div id=\"df-c25d32d9-d800-4ebf-a8ac-836e68715ace\">\n",
              "  <button class=\"colab-df-quickchart\" onclick=\"quickchart('df-c25d32d9-d800-4ebf-a8ac-836e68715ace')\"\n",
              "            title=\"Suggest charts\"\n",
              "            style=\"display:none;\">\n",
              "\n",
              "<svg xmlns=\"http://www.w3.org/2000/svg\" height=\"24px\"viewBox=\"0 0 24 24\"\n",
              "     width=\"24px\">\n",
              "    <g>\n",
              "        <path d=\"M19 3H5c-1.1 0-2 .9-2 2v14c0 1.1.9 2 2 2h14c1.1 0 2-.9 2-2V5c0-1.1-.9-2-2-2zM9 17H7v-7h2v7zm4 0h-2V7h2v10zm4 0h-2v-4h2v4z\"/>\n",
              "    </g>\n",
              "</svg>\n",
              "  </button>\n",
              "\n",
              "<style>\n",
              "  .colab-df-quickchart {\n",
              "      --bg-color: #E8F0FE;\n",
              "      --fill-color: #1967D2;\n",
              "      --hover-bg-color: #E2EBFA;\n",
              "      --hover-fill-color: #174EA6;\n",
              "      --disabled-fill-color: #AAA;\n",
              "      --disabled-bg-color: #DDD;\n",
              "  }\n",
              "\n",
              "  [theme=dark] .colab-df-quickchart {\n",
              "      --bg-color: #3B4455;\n",
              "      --fill-color: #D2E3FC;\n",
              "      --hover-bg-color: #434B5C;\n",
              "      --hover-fill-color: #FFFFFF;\n",
              "      --disabled-bg-color: #3B4455;\n",
              "      --disabled-fill-color: #666;\n",
              "  }\n",
              "\n",
              "  .colab-df-quickchart {\n",
              "    background-color: var(--bg-color);\n",
              "    border: none;\n",
              "    border-radius: 50%;\n",
              "    cursor: pointer;\n",
              "    display: none;\n",
              "    fill: var(--fill-color);\n",
              "    height: 32px;\n",
              "    padding: 0;\n",
              "    width: 32px;\n",
              "  }\n",
              "\n",
              "  .colab-df-quickchart:hover {\n",
              "    background-color: var(--hover-bg-color);\n",
              "    box-shadow: 0 1px 2px rgba(60, 64, 67, 0.3), 0 1px 3px 1px rgba(60, 64, 67, 0.15);\n",
              "    fill: var(--button-hover-fill-color);\n",
              "  }\n",
              "\n",
              "  .colab-df-quickchart-complete:disabled,\n",
              "  .colab-df-quickchart-complete:disabled:hover {\n",
              "    background-color: var(--disabled-bg-color);\n",
              "    fill: var(--disabled-fill-color);\n",
              "    box-shadow: none;\n",
              "  }\n",
              "\n",
              "  .colab-df-spinner {\n",
              "    border: 2px solid var(--fill-color);\n",
              "    border-color: transparent;\n",
              "    border-bottom-color: var(--fill-color);\n",
              "    animation:\n",
              "      spin 1s steps(1) infinite;\n",
              "  }\n",
              "\n",
              "  @keyframes spin {\n",
              "    0% {\n",
              "      border-color: transparent;\n",
              "      border-bottom-color: var(--fill-color);\n",
              "      border-left-color: var(--fill-color);\n",
              "    }\n",
              "    20% {\n",
              "      border-color: transparent;\n",
              "      border-left-color: var(--fill-color);\n",
              "      border-top-color: var(--fill-color);\n",
              "    }\n",
              "    30% {\n",
              "      border-color: transparent;\n",
              "      border-left-color: var(--fill-color);\n",
              "      border-top-color: var(--fill-color);\n",
              "      border-right-color: var(--fill-color);\n",
              "    }\n",
              "    40% {\n",
              "      border-color: transparent;\n",
              "      border-right-color: var(--fill-color);\n",
              "      border-top-color: var(--fill-color);\n",
              "    }\n",
              "    60% {\n",
              "      border-color: transparent;\n",
              "      border-right-color: var(--fill-color);\n",
              "    }\n",
              "    80% {\n",
              "      border-color: transparent;\n",
              "      border-right-color: var(--fill-color);\n",
              "      border-bottom-color: var(--fill-color);\n",
              "    }\n",
              "    90% {\n",
              "      border-color: transparent;\n",
              "      border-bottom-color: var(--fill-color);\n",
              "    }\n",
              "  }\n",
              "</style>\n",
              "\n",
              "  <script>\n",
              "    async function quickchart(key) {\n",
              "      const quickchartButtonEl =\n",
              "        document.querySelector('#' + key + ' button');\n",
              "      quickchartButtonEl.disabled = true;  // To prevent multiple clicks.\n",
              "      quickchartButtonEl.classList.add('colab-df-spinner');\n",
              "      try {\n",
              "        const charts = await google.colab.kernel.invokeFunction(\n",
              "            'suggestCharts', [key], {});\n",
              "      } catch (error) {\n",
              "        console.error('Error during call to suggestCharts:', error);\n",
              "      }\n",
              "      quickchartButtonEl.classList.remove('colab-df-spinner');\n",
              "      quickchartButtonEl.classList.add('colab-df-quickchart-complete');\n",
              "    }\n",
              "    (() => {\n",
              "      let quickchartButtonEl =\n",
              "        document.querySelector('#df-c25d32d9-d800-4ebf-a8ac-836e68715ace button');\n",
              "      quickchartButtonEl.style.display =\n",
              "        google.colab.kernel.accessAllowed ? 'block' : 'none';\n",
              "    })();\n",
              "  </script>\n",
              "</div>\n",
              "    </div>\n",
              "  </div>\n"
            ]
          },
          "metadata": {},
          "execution_count": 17
        }
      ]
    },
    {
      "cell_type": "markdown",
      "metadata": {
        "id": "zuYN5zZ3E0rj"
      },
      "source": [
        "### **3. Normalization (?)**"
      ]
    },
    {
      "cell_type": "markdown",
      "metadata": {
        "id": "U6d9JcDwH_-N"
      },
      "source": [
        "## 4. Splitting Dataset (75 : 25)"
      ]
    },
    {
      "cell_type": "code",
      "source": [
        "num_cols = [\"Monthly Purchase (Thou. IDR)\", 'CLTV (Predicted Thou. IDR)', 'cost_per_product']"
      ],
      "metadata": {
        "id": "zZkEM7wHe0jl"
      },
      "execution_count": null,
      "outputs": []
    },
    {
      "cell_type": "code",
      "execution_count": null,
      "metadata": {
        "id": "dDK9PsVRIwGY"
      },
      "outputs": [],
      "source": [
        "X = data.copy()\n",
        "y = X.pop(\"Churn Label\")"
      ]
    },
    {
      "cell_type": "code",
      "source": [
        "X.drop(\"number_of_products\",axis=1,inplace=True)"
      ],
      "metadata": {
        "id": "7fdgc9NmzGB4"
      },
      "execution_count": null,
      "outputs": []
    },
    {
      "cell_type": "code",
      "execution_count": null,
      "metadata": {
        "id": "pZc9zK_xIIIE"
      },
      "outputs": [],
      "source": [
        "X_train, X_test, y_train, y_test = train_test_split(X,y ,\n",
        "                                   random_state=104,\n",
        "                                   test_size=0.20,\n",
        "                                   shuffle=True)"
      ]
    },
    {
      "cell_type": "code",
      "source": [
        "X_train.columns"
      ],
      "metadata": {
        "id": "IZcf50QY0air"
      },
      "execution_count": null,
      "outputs": []
    },
    {
      "cell_type": "markdown",
      "metadata": {
        "id": "gZCq7dCzF8GF"
      },
      "source": [
        "# **VII. Modeling**"
      ]
    },
    {
      "cell_type": "markdown",
      "metadata": {
        "id": "VOmmNi6ePeyC"
      },
      "source": [
        "### 1. KFold (Validation)"
      ]
    },
    {
      "cell_type": "code",
      "execution_count": null,
      "metadata": {
        "id": "kqLLtqr2KJDa"
      },
      "outputs": [],
      "source": [
        "models = {\n",
        "    \"lr\": LogisticRegression(random_state=42, solver='newton-cg'), # Error\n",
        "    \"dtc\": DecisionTreeClassifier(random_state=42),\n",
        "    \"rfc\": RandomForestClassifier(random_state=42),\n",
        "    \"knn\": KNeighborsClassifier(),\n",
        "    \"gnb\": GaussianNB(),\n",
        "    \"svc\": SVC(random_state=42),\n",
        "    'xgboost': xgb.XGBClassifier(random_state=42), # Error\n",
        "    # 'lightgbm': lgbm.LGBMClassifier(random_state=42), # Error\n",
        "    'catboost': cb.CatBoostClassifier(verbose=0, random_state=42),\n",
        "    # 'nn': MLPClassifier(random_state=42, hidden_layer_sizes=(10, 10), max_iter=500)\n",
        "}"
      ]
    },
    {
      "cell_type": "code",
      "execution_count": null,
      "metadata": {
        "id": "HVdbDebAKNOl"
      },
      "outputs": [],
      "source": [
        "# Function for performing k-fold cross-validation\n",
        "def kfold_cv(model, X, y):\n",
        "    # Define KFold cross-validation with 5 splits, random state of 42, and shuffling of data\n",
        "    kf = KFold(n_splits=5, random_state=42, shuffle=True)\n",
        "    scores = []  # List to store the evaluation scores\n",
        "\n",
        "    # Iterate over the train and validation splits\n",
        "    for train_idx, test_idx in kf.split(X, y):\n",
        "        # Split the data into training and validation sets based on the indices\n",
        "        X_train, X_val = X.iloc[train_idx], X.iloc[test_idx]\n",
        "        y_train, y_val = y.iloc[train_idx], y.iloc[test_idx]\n",
        "\n",
        "        # Fit the model on the training data\n",
        "        model.fit(X_train, y_train)\n",
        "\n",
        "        # Make predictions on the validation data\n",
        "        predictions = model.predict(X_val)\n",
        "\n",
        "        # Calculate the evaluation score (here, using RAS macro-average)\n",
        "        ras_score = accuracy_score(y_val, predictions)\n",
        "\n",
        "        # Append the score to the list of scores\n",
        "        scores.append(ras_score)\n",
        "    return np.mean(scores) # Return the mean of the scores as the overall evaluation score"
      ]
    },
    {
      "cell_type": "code",
      "execution_count": null,
      "metadata": {
        "colab": {
          "base_uri": "https://localhost:8080/",
          "height": 424
        },
        "id": "ke1aALTsLjul",
        "outputId": "0504c84a-728a-49d5-a3e5-cdddaffa1bf7"
      },
      "outputs": [
        {
          "output_type": "stream",
          "name": "stdout",
          "text": [
            "lr: 0.7919779480252986\n"
          ]
        },
        {
          "output_type": "error",
          "ename": "KeyboardInterrupt",
          "evalue": "ignored",
          "traceback": [
            "\u001b[0;31m---------------------------------------------------------------------------\u001b[0m",
            "\u001b[0;31mKeyboardInterrupt\u001b[0m                         Traceback (most recent call last)",
            "\u001b[0;32m<ipython-input-47-bcbea2cfd2f3>\u001b[0m in \u001b[0;36m<cell line: 2>\u001b[0;34m()\u001b[0m\n\u001b[1;32m      2\u001b[0m \u001b[0;32mfor\u001b[0m \u001b[0mname\u001b[0m\u001b[0;34m,\u001b[0m \u001b[0mmodel\u001b[0m \u001b[0;32min\u001b[0m \u001b[0mmodels\u001b[0m\u001b[0;34m.\u001b[0m\u001b[0mitems\u001b[0m\u001b[0;34m(\u001b[0m\u001b[0;34m)\u001b[0m\u001b[0;34m:\u001b[0m\u001b[0;34m\u001b[0m\u001b[0;34m\u001b[0m\u001b[0m\n\u001b[1;32m      3\u001b[0m     \u001b[0;31m# Perform k-fold cross-validation and obtain the evaluation score\u001b[0m\u001b[0;34m\u001b[0m\u001b[0;34m\u001b[0m\u001b[0m\n\u001b[0;32m----> 4\u001b[0;31m     \u001b[0mscore\u001b[0m \u001b[0;34m=\u001b[0m \u001b[0mkfold_cv\u001b[0m\u001b[0;34m(\u001b[0m\u001b[0mmodel\u001b[0m\u001b[0;34m,\u001b[0m \u001b[0mX_train\u001b[0m\u001b[0;34m,\u001b[0m \u001b[0my_train\u001b[0m\u001b[0;34m)\u001b[0m\u001b[0;34m\u001b[0m\u001b[0;34m\u001b[0m\u001b[0m\n\u001b[0m\u001b[1;32m      5\u001b[0m     \u001b[0;31m# Print the model name and its corresponding score\u001b[0m\u001b[0;34m\u001b[0m\u001b[0;34m\u001b[0m\u001b[0m\n\u001b[1;32m      6\u001b[0m     \u001b[0mprint\u001b[0m\u001b[0;34m(\u001b[0m\u001b[0;34mf\"{name}: {score}\"\u001b[0m\u001b[0;34m)\u001b[0m\u001b[0;34m\u001b[0m\u001b[0;34m\u001b[0m\u001b[0m\n",
            "\u001b[0;32m<ipython-input-46-4fd4bcca1838>\u001b[0m in \u001b[0;36mkfold_cv\u001b[0;34m(model, X, y)\u001b[0m\n\u001b[1;32m     12\u001b[0m \u001b[0;34m\u001b[0m\u001b[0m\n\u001b[1;32m     13\u001b[0m         \u001b[0;31m# Fit the model on the training data\u001b[0m\u001b[0;34m\u001b[0m\u001b[0;34m\u001b[0m\u001b[0m\n\u001b[0;32m---> 14\u001b[0;31m         \u001b[0mmodel\u001b[0m\u001b[0;34m.\u001b[0m\u001b[0mfit\u001b[0m\u001b[0;34m(\u001b[0m\u001b[0mX_train\u001b[0m\u001b[0;34m,\u001b[0m \u001b[0my_train\u001b[0m\u001b[0;34m)\u001b[0m\u001b[0;34m\u001b[0m\u001b[0;34m\u001b[0m\u001b[0m\n\u001b[0m\u001b[1;32m     15\u001b[0m \u001b[0;34m\u001b[0m\u001b[0m\n\u001b[1;32m     16\u001b[0m         \u001b[0;31m# Make predictions on the validation data\u001b[0m\u001b[0;34m\u001b[0m\u001b[0;34m\u001b[0m\u001b[0m\n",
            "\u001b[0;32m/usr/local/lib/python3.10/dist-packages/sklearn/tree/_classes.py\u001b[0m in \u001b[0;36mfit\u001b[0;34m(self, X, y, sample_weight, check_input)\u001b[0m\n\u001b[1;32m    887\u001b[0m         \"\"\"\n\u001b[1;32m    888\u001b[0m \u001b[0;34m\u001b[0m\u001b[0m\n\u001b[0;32m--> 889\u001b[0;31m         super().fit(\n\u001b[0m\u001b[1;32m    890\u001b[0m             \u001b[0mX\u001b[0m\u001b[0;34m,\u001b[0m\u001b[0;34m\u001b[0m\u001b[0;34m\u001b[0m\u001b[0m\n\u001b[1;32m    891\u001b[0m             \u001b[0my\u001b[0m\u001b[0;34m,\u001b[0m\u001b[0;34m\u001b[0m\u001b[0;34m\u001b[0m\u001b[0m\n",
            "\u001b[0;32m/usr/local/lib/python3.10/dist-packages/sklearn/tree/_classes.py\u001b[0m in \u001b[0;36mfit\u001b[0;34m(self, X, y, sample_weight, check_input)\u001b[0m\n\u001b[1;32m    377\u001b[0m             )\n\u001b[1;32m    378\u001b[0m \u001b[0;34m\u001b[0m\u001b[0m\n\u001b[0;32m--> 379\u001b[0;31m         \u001b[0mbuilder\u001b[0m\u001b[0;34m.\u001b[0m\u001b[0mbuild\u001b[0m\u001b[0;34m(\u001b[0m\u001b[0mself\u001b[0m\u001b[0;34m.\u001b[0m\u001b[0mtree_\u001b[0m\u001b[0;34m,\u001b[0m \u001b[0mX\u001b[0m\u001b[0;34m,\u001b[0m \u001b[0my\u001b[0m\u001b[0;34m,\u001b[0m \u001b[0msample_weight\u001b[0m\u001b[0;34m)\u001b[0m\u001b[0;34m\u001b[0m\u001b[0;34m\u001b[0m\u001b[0m\n\u001b[0m\u001b[1;32m    380\u001b[0m \u001b[0;34m\u001b[0m\u001b[0m\n\u001b[1;32m    381\u001b[0m         \u001b[0;32mif\u001b[0m \u001b[0mself\u001b[0m\u001b[0;34m.\u001b[0m\u001b[0mn_outputs_\u001b[0m \u001b[0;34m==\u001b[0m \u001b[0;36m1\u001b[0m \u001b[0;32mand\u001b[0m \u001b[0mis_classifier\u001b[0m\u001b[0;34m(\u001b[0m\u001b[0mself\u001b[0m\u001b[0;34m)\u001b[0m\u001b[0;34m:\u001b[0m\u001b[0;34m\u001b[0m\u001b[0;34m\u001b[0m\u001b[0m\n",
            "\u001b[0;31mKeyboardInterrupt\u001b[0m: "
          ]
        }
      ],
      "source": [
        "# Iterate over the models dictionary\n",
        "for name, model in models.items():\n",
        "    # Perform k-fold cross-validation and obtain the evaluation score\n",
        "    score = kfold_cv(model, X_train, y_train)\n",
        "    # Print the model name and its corresponding score\n",
        "    print(f\"{name}: {score}\")"
      ]
    },
    {
      "cell_type": "code",
      "source": [
        "from sklearn.model_selection import GridSearchCV, StratifiedKFold\n",
        "lr = LogisticRegression(solver='newton-cg')\n",
        "cb_cl = cb.CatBoostClassifier(verbose=0)\n",
        "\n",
        "#Setting the range for class weights\n",
        "weights = np.linspace(0.0,0.99,200)\n",
        "\n",
        "#Creating a dictionary grid for grid search\n",
        "param_grid = {'class_weight': [{0:x, 1:1.0-x} for x in weights]}\n",
        "\n",
        "#Fitting grid search to the train data with 5 folds\n",
        "gridsearch_precision = GridSearchCV(estimator= lr,\n",
        "                          param_grid= param_grid,\n",
        "                          cv=StratifiedKFold(),\n",
        "                          n_jobs=-1,\n",
        "                          scoring='precision',\n",
        "                          verbose=2).fit(X_train, y_train)\n",
        "\n",
        "gridsearch_recall = GridSearchCV(estimator= lr,\n",
        "                          param_grid= param_grid,\n",
        "                          cv=StratifiedKFold(),\n",
        "                          n_jobs=-1,\n",
        "                          scoring='f1',\n",
        "                          verbose=2).fit(X_train, y_train)\n",
        "\n",
        "#Ploting the score for different values of weight\n",
        "sns.set_style('whitegrid')\n",
        "plt.figure(figsize=(12,8))\n",
        "weigh_data = pd.DataFrame({ 'score': gridsearch_precision.cv_results_['mean_test_score'], 'weight': (1- weights)})\n",
        "weigh_data1 = pd.DataFrame({ 'score': gridsearch_recall.cv_results_['mean_test_score'], 'weight': (1- weights)})\n",
        "sns.lineplot(x=weigh_data['weight'], y=weigh_data['score'])\n",
        "sns.lineplot(x=weigh_data1['weight'], y=weigh_data1['score'])\n",
        "plt.xlabel('Weight for class 1')\n",
        "plt.ylabel('F1 score')\n",
        "plt.xticks([round(i/10,1) for i in range(0,11,1)])\n",
        "plt.title('Scoring for different class weights', fontsize=24)"
      ],
      "metadata": {
        "id": "WkPLu2Jc4Mid"
      },
      "execution_count": null,
      "outputs": []
    },
    {
      "cell_type": "code",
      "source": [],
      "metadata": {
        "colab": {
          "base_uri": "https://localhost:8080/",
          "height": 423
        },
        "id": "hqv6qvIdFUNJ",
        "outputId": "5a107314-d184-45ec-d6a0-a3b89f07e37e"
      },
      "execution_count": null,
      "outputs": [
        {
          "output_type": "execute_result",
          "data": {
            "text/plain": [
              "        score    weight\n",
              "0    0.264466  1.000000\n",
              "1    0.266476  0.995025\n",
              "2    0.276515  0.990050\n",
              "3    0.282772  0.985075\n",
              "4    0.288761  0.980101\n",
              "..        ...       ...\n",
              "195  0.000000  0.029899\n",
              "196  0.000000  0.024925\n",
              "197  0.000000  0.019950\n",
              "198  0.000000  0.014975\n",
              "199  0.000000  0.010000\n",
              "\n",
              "[133 rows x 2 columns]"
            ],
            "text/html": [
              "\n",
              "  <div id=\"df-83e486f2-bb04-4465-9329-fe09948d3b5d\" class=\"colab-df-container\">\n",
              "    <div>\n",
              "<style scoped>\n",
              "    .dataframe tbody tr th:only-of-type {\n",
              "        vertical-align: middle;\n",
              "    }\n",
              "\n",
              "    .dataframe tbody tr th {\n",
              "        vertical-align: top;\n",
              "    }\n",
              "\n",
              "    .dataframe thead th {\n",
              "        text-align: right;\n",
              "    }\n",
              "</style>\n",
              "<table border=\"1\" class=\"dataframe\">\n",
              "  <thead>\n",
              "    <tr style=\"text-align: right;\">\n",
              "      <th></th>\n",
              "      <th>score</th>\n",
              "      <th>weight</th>\n",
              "    </tr>\n",
              "  </thead>\n",
              "  <tbody>\n",
              "    <tr>\n",
              "      <th>0</th>\n",
              "      <td>0.264466</td>\n",
              "      <td>1.000000</td>\n",
              "    </tr>\n",
              "    <tr>\n",
              "      <th>1</th>\n",
              "      <td>0.266476</td>\n",
              "      <td>0.995025</td>\n",
              "    </tr>\n",
              "    <tr>\n",
              "      <th>2</th>\n",
              "      <td>0.276515</td>\n",
              "      <td>0.990050</td>\n",
              "    </tr>\n",
              "    <tr>\n",
              "      <th>3</th>\n",
              "      <td>0.282772</td>\n",
              "      <td>0.985075</td>\n",
              "    </tr>\n",
              "    <tr>\n",
              "      <th>4</th>\n",
              "      <td>0.288761</td>\n",
              "      <td>0.980101</td>\n",
              "    </tr>\n",
              "    <tr>\n",
              "      <th>...</th>\n",
              "      <td>...</td>\n",
              "      <td>...</td>\n",
              "    </tr>\n",
              "    <tr>\n",
              "      <th>195</th>\n",
              "      <td>0.000000</td>\n",
              "      <td>0.029899</td>\n",
              "    </tr>\n",
              "    <tr>\n",
              "      <th>196</th>\n",
              "      <td>0.000000</td>\n",
              "      <td>0.024925</td>\n",
              "    </tr>\n",
              "    <tr>\n",
              "      <th>197</th>\n",
              "      <td>0.000000</td>\n",
              "      <td>0.019950</td>\n",
              "    </tr>\n",
              "    <tr>\n",
              "      <th>198</th>\n",
              "      <td>0.000000</td>\n",
              "      <td>0.014975</td>\n",
              "    </tr>\n",
              "    <tr>\n",
              "      <th>199</th>\n",
              "      <td>0.000000</td>\n",
              "      <td>0.010000</td>\n",
              "    </tr>\n",
              "  </tbody>\n",
              "</table>\n",
              "<p>133 rows × 2 columns</p>\n",
              "</div>\n",
              "    <div class=\"colab-df-buttons\">\n",
              "\n",
              "  <div class=\"colab-df-container\">\n",
              "    <button class=\"colab-df-convert\" onclick=\"convertToInteractive('df-83e486f2-bb04-4465-9329-fe09948d3b5d')\"\n",
              "            title=\"Convert this dataframe to an interactive table.\"\n",
              "            style=\"display:none;\">\n",
              "\n",
              "  <svg xmlns=\"http://www.w3.org/2000/svg\" height=\"24px\" viewBox=\"0 -960 960 960\">\n",
              "    <path d=\"M120-120v-720h720v720H120Zm60-500h600v-160H180v160Zm220 220h160v-160H400v160Zm0 220h160v-160H400v160ZM180-400h160v-160H180v160Zm440 0h160v-160H620v160ZM180-180h160v-160H180v160Zm440 0h160v-160H620v160Z\"/>\n",
              "  </svg>\n",
              "    </button>\n",
              "\n",
              "  <style>\n",
              "    .colab-df-container {\n",
              "      display:flex;\n",
              "      gap: 12px;\n",
              "    }\n",
              "\n",
              "    .colab-df-convert {\n",
              "      background-color: #E8F0FE;\n",
              "      border: none;\n",
              "      border-radius: 50%;\n",
              "      cursor: pointer;\n",
              "      display: none;\n",
              "      fill: #1967D2;\n",
              "      height: 32px;\n",
              "      padding: 0 0 0 0;\n",
              "      width: 32px;\n",
              "    }\n",
              "\n",
              "    .colab-df-convert:hover {\n",
              "      background-color: #E2EBFA;\n",
              "      box-shadow: 0px 1px 2px rgba(60, 64, 67, 0.3), 0px 1px 3px 1px rgba(60, 64, 67, 0.15);\n",
              "      fill: #174EA6;\n",
              "    }\n",
              "\n",
              "    .colab-df-buttons div {\n",
              "      margin-bottom: 4px;\n",
              "    }\n",
              "\n",
              "    [theme=dark] .colab-df-convert {\n",
              "      background-color: #3B4455;\n",
              "      fill: #D2E3FC;\n",
              "    }\n",
              "\n",
              "    [theme=dark] .colab-df-convert:hover {\n",
              "      background-color: #434B5C;\n",
              "      box-shadow: 0px 1px 3px 1px rgba(0, 0, 0, 0.15);\n",
              "      filter: drop-shadow(0px 1px 2px rgba(0, 0, 0, 0.3));\n",
              "      fill: #FFFFFF;\n",
              "    }\n",
              "  </style>\n",
              "\n",
              "    <script>\n",
              "      const buttonEl =\n",
              "        document.querySelector('#df-83e486f2-bb04-4465-9329-fe09948d3b5d button.colab-df-convert');\n",
              "      buttonEl.style.display =\n",
              "        google.colab.kernel.accessAllowed ? 'block' : 'none';\n",
              "\n",
              "      async function convertToInteractive(key) {\n",
              "        const element = document.querySelector('#df-83e486f2-bb04-4465-9329-fe09948d3b5d');\n",
              "        const dataTable =\n",
              "          await google.colab.kernel.invokeFunction('convertToInteractive',\n",
              "                                                    [key], {});\n",
              "        if (!dataTable) return;\n",
              "\n",
              "        const docLinkHtml = 'Like what you see? Visit the ' +\n",
              "          '<a target=\"_blank\" href=https://colab.research.google.com/notebooks/data_table.ipynb>data table notebook</a>'\n",
              "          + ' to learn more about interactive tables.';\n",
              "        element.innerHTML = '';\n",
              "        dataTable['output_type'] = 'display_data';\n",
              "        await google.colab.output.renderOutput(dataTable, element);\n",
              "        const docLink = document.createElement('div');\n",
              "        docLink.innerHTML = docLinkHtml;\n",
              "        element.appendChild(docLink);\n",
              "      }\n",
              "    </script>\n",
              "  </div>\n",
              "\n",
              "\n",
              "<div id=\"df-f97a3fe5-ef74-416a-897d-586734d9a7f4\">\n",
              "  <button class=\"colab-df-quickchart\" onclick=\"quickchart('df-f97a3fe5-ef74-416a-897d-586734d9a7f4')\"\n",
              "            title=\"Suggest charts.\"\n",
              "            style=\"display:none;\">\n",
              "\n",
              "<svg xmlns=\"http://www.w3.org/2000/svg\" height=\"24px\"viewBox=\"0 0 24 24\"\n",
              "     width=\"24px\">\n",
              "    <g>\n",
              "        <path d=\"M19 3H5c-1.1 0-2 .9-2 2v14c0 1.1.9 2 2 2h14c1.1 0 2-.9 2-2V5c0-1.1-.9-2-2-2zM9 17H7v-7h2v7zm4 0h-2V7h2v10zm4 0h-2v-4h2v4z\"/>\n",
              "    </g>\n",
              "</svg>\n",
              "  </button>\n",
              "\n",
              "<style>\n",
              "  .colab-df-quickchart {\n",
              "      --bg-color: #E8F0FE;\n",
              "      --fill-color: #1967D2;\n",
              "      --hover-bg-color: #E2EBFA;\n",
              "      --hover-fill-color: #174EA6;\n",
              "      --disabled-fill-color: #AAA;\n",
              "      --disabled-bg-color: #DDD;\n",
              "  }\n",
              "\n",
              "  [theme=dark] .colab-df-quickchart {\n",
              "      --bg-color: #3B4455;\n",
              "      --fill-color: #D2E3FC;\n",
              "      --hover-bg-color: #434B5C;\n",
              "      --hover-fill-color: #FFFFFF;\n",
              "      --disabled-bg-color: #3B4455;\n",
              "      --disabled-fill-color: #666;\n",
              "  }\n",
              "\n",
              "  .colab-df-quickchart {\n",
              "    background-color: var(--bg-color);\n",
              "    border: none;\n",
              "    border-radius: 50%;\n",
              "    cursor: pointer;\n",
              "    display: none;\n",
              "    fill: var(--fill-color);\n",
              "    height: 32px;\n",
              "    padding: 0;\n",
              "    width: 32px;\n",
              "  }\n",
              "\n",
              "  .colab-df-quickchart:hover {\n",
              "    background-color: var(--hover-bg-color);\n",
              "    box-shadow: 0 1px 2px rgba(60, 64, 67, 0.3), 0 1px 3px 1px rgba(60, 64, 67, 0.15);\n",
              "    fill: var(--button-hover-fill-color);\n",
              "  }\n",
              "\n",
              "  .colab-df-quickchart-complete:disabled,\n",
              "  .colab-df-quickchart-complete:disabled:hover {\n",
              "    background-color: var(--disabled-bg-color);\n",
              "    fill: var(--disabled-fill-color);\n",
              "    box-shadow: none;\n",
              "  }\n",
              "\n",
              "  .colab-df-spinner {\n",
              "    border: 2px solid var(--fill-color);\n",
              "    border-color: transparent;\n",
              "    border-bottom-color: var(--fill-color);\n",
              "    animation:\n",
              "      spin 1s steps(1) infinite;\n",
              "  }\n",
              "\n",
              "  @keyframes spin {\n",
              "    0% {\n",
              "      border-color: transparent;\n",
              "      border-bottom-color: var(--fill-color);\n",
              "      border-left-color: var(--fill-color);\n",
              "    }\n",
              "    20% {\n",
              "      border-color: transparent;\n",
              "      border-left-color: var(--fill-color);\n",
              "      border-top-color: var(--fill-color);\n",
              "    }\n",
              "    30% {\n",
              "      border-color: transparent;\n",
              "      border-left-color: var(--fill-color);\n",
              "      border-top-color: var(--fill-color);\n",
              "      border-right-color: var(--fill-color);\n",
              "    }\n",
              "    40% {\n",
              "      border-color: transparent;\n",
              "      border-right-color: var(--fill-color);\n",
              "      border-top-color: var(--fill-color);\n",
              "    }\n",
              "    60% {\n",
              "      border-color: transparent;\n",
              "      border-right-color: var(--fill-color);\n",
              "    }\n",
              "    80% {\n",
              "      border-color: transparent;\n",
              "      border-right-color: var(--fill-color);\n",
              "      border-bottom-color: var(--fill-color);\n",
              "    }\n",
              "    90% {\n",
              "      border-color: transparent;\n",
              "      border-bottom-color: var(--fill-color);\n",
              "    }\n",
              "  }\n",
              "</style>\n",
              "\n",
              "  <script>\n",
              "    async function quickchart(key) {\n",
              "      const quickchartButtonEl =\n",
              "        document.querySelector('#' + key + ' button');\n",
              "      quickchartButtonEl.disabled = true;  // To prevent multiple clicks.\n",
              "      quickchartButtonEl.classList.add('colab-df-spinner');\n",
              "      try {\n",
              "        const charts = await google.colab.kernel.invokeFunction(\n",
              "            'suggestCharts', [key], {});\n",
              "      } catch (error) {\n",
              "        console.error('Error during call to suggestCharts:', error);\n",
              "      }\n",
              "      quickchartButtonEl.classList.remove('colab-df-spinner');\n",
              "      quickchartButtonEl.classList.add('colab-df-quickchart-complete');\n",
              "    }\n",
              "    (() => {\n",
              "      let quickchartButtonEl =\n",
              "        document.querySelector('#df-f97a3fe5-ef74-416a-897d-586734d9a7f4 button');\n",
              "      quickchartButtonEl.style.display =\n",
              "        google.colab.kernel.accessAllowed ? 'block' : 'none';\n",
              "    })();\n",
              "  </script>\n",
              "</div>\n",
              "    </div>\n",
              "  </div>\n"
            ]
          },
          "metadata": {},
          "execution_count": 111
        }
      ]
    },
    {
      "cell_type": "code",
      "source": [
        "1-0.228894"
      ],
      "metadata": {
        "colab": {
          "base_uri": "https://localhost:8080/"
        },
        "id": "q-l17JcDFc37",
        "outputId": "b008b59b-7560-4f2e-fe37-dc45e06a9aab"
      },
      "execution_count": null,
      "outputs": [
        {
          "output_type": "execute_result",
          "data": {
            "text/plain": [
              "0.7711060000000001"
            ]
          },
          "metadata": {},
          "execution_count": 99
        }
      ]
    },
    {
      "cell_type": "code",
      "source": [
        "catboost_param =   {'iterations': 513, 'learning_rate': 0.02667564654663807, 'random_strength': 1, 'bagging_temperature': 1.1762981067497575, 'max_bin': 21, 'grow_policy': 'SymmetricTree', 'min_data_in_leaf': 11, 'max_depth': 3, 'l2_leaf_reg': 4.709401984486615, 'one_hot_max_size': 4, 'auto_class_weights': None}"
      ],
      "metadata": {
        "id": "eqoTY4ZqEhwg"
      },
      "execution_count": null,
      "outputs": []
    },
    {
      "cell_type": "code",
      "source": [
        "catboost_param = {'iterations': 248, 'learning_rate': 0.03690782449116514, 'random_strength': 5, 'bagging_temperature': 6.055059023394158, 'max_bin': 87, 'grow_policy': 'SymmetricTree', 'min_data_in_leaf': 6, 'max_depth': 4, 'l2_leaf_reg': 93.20888317568532, 'one_hot_max_size': 9}"
      ],
      "metadata": {
        "id": "IHklL1chfuUu"
      },
      "execution_count": null,
      "outputs": []
    },
    {
      "cell_type": "code",
      "source": [
        "model = LogisticRegression(random_state=42, solver='newton-cg', class_weight={0: 0.45, 1: 0.55})\n",
        "score = kfold_cv(model, X_train, y_train)\n",
        "print(score)"
      ],
      "metadata": {
        "colab": {
          "base_uri": "https://localhost:8080/"
        },
        "id": "F6ig0_ttE8cB",
        "outputId": "e9975637-5824-4d84-e8e2-3194280bf909"
      },
      "execution_count": null,
      "outputs": [
        {
          "output_type": "stream",
          "name": "stdout",
          "text": [
            "0.7969478377496647\n"
          ]
        }
      ]
    },
    {
      "cell_type": "code",
      "source": [
        "X_train.columns"
      ],
      "metadata": {
        "colab": {
          "base_uri": "https://localhost:8080/"
        },
        "id": "1XsEwvEWCkfo",
        "outputId": "52fa7c05-46d8-41ed-b76a-76b45de3a9fc"
      },
      "execution_count": null,
      "outputs": [
        {
          "output_type": "execute_result",
          "data": {
            "text/plain": [
              "Index(['Tenure Months', 'Device Class', 'Games Product', 'Music Product',\n",
              "       'Education Product', 'Call Center', 'Video Product', 'Use MyApp',\n",
              "       'Monthly Purchase (Thou. IDR)', 'Longitude', 'Latitude',\n",
              "       'CLTV (Predicted Thou. IDR)', 'Location_Bandung', 'Location_Jakarta',\n",
              "       'Payment Method_Credit', 'Payment Method_Debit',\n",
              "       'Payment Method_Digital Wallet', 'Payment Method_Pulsa'],\n",
              "      dtype='object')"
            ]
          },
          "metadata": {},
          "execution_count": 54
        }
      ]
    },
    {
      "cell_type": "code",
      "source": [
        "model = cb.CatBoostClassifier(verbose=0, random_state=42,**catboost_param, class_weights={0: 0.45, 1: 0.55})\n",
        "score = kfold_cv(model, X_train, y_train)\n",
        "model.fit(X_train, y_train)\n",
        "print(score)"
      ],
      "metadata": {
        "colab": {
          "base_uri": "https://localhost:8080/"
        },
        "id": "dWOQuYV8ftex",
        "outputId": "5a595cc5-2eb3-458d-e5f1-2a900b0af0e0"
      },
      "execution_count": null,
      "outputs": [
        {
          "output_type": "stream",
          "name": "stdout",
          "text": [
            "0.7980119810685877\n"
          ]
        }
      ]
    },
    {
      "cell_type": "code",
      "source": [
        "model = cb.CatBoostClassifier(verbose=0, random_state=42)\n",
        "score = kfold_cv(model, X_train, y_train)\n",
        "model.fit(X_train, y_train)\n",
        "print(score)"
      ],
      "metadata": {
        "colab": {
          "base_uri": "https://localhost:8080/"
        },
        "id": "swxYzM49gTgU",
        "outputId": "acb9b0f4-1fcc-4c28-9ba7-e146a858d84b"
      },
      "execution_count": null,
      "outputs": [
        {
          "output_type": "stream",
          "name": "stdout",
          "text": [
            "0.7841688192768805\n"
          ]
        }
      ]
    },
    {
      "cell_type": "code",
      "source": [
        "feature_importance = pd.DataFrame({'Feature': X.columns, 'Importance': model.feature_importances_}).sort_values('Importance',ascending=False)\n",
        "\n",
        "# fig, ax = plt.subplots(2, 1, figsize=(10, 8))\n",
        "\n",
        "sequential_colors = sns.color_palette(\"Blues\", 15)\n",
        "reversed_colors = list(reversed(sequential_colors))\n",
        "sns.barplot(data=feature_importance.head(15),x='Importance',y='Feature',palette=reversed_colors)"
      ],
      "metadata": {
        "colab": {
          "base_uri": "https://localhost:8080/",
          "height": 467
        },
        "id": "MKjKKghfgs_t",
        "outputId": "0e3a16bb-34b8-4bf0-842c-8fe7e9025796"
      },
      "execution_count": null,
      "outputs": [
        {
          "output_type": "execute_result",
          "data": {
            "text/plain": [
              "<Axes: xlabel='Importance', ylabel='Feature'>"
            ]
          },
          "metadata": {},
          "execution_count": 22
        },
        {
          "output_type": "display_data",
          "data": {
            "text/plain": [
              "<Figure size 640x480 with 1 Axes>"
            ],
            "image/png": "[encoded data removed]"
          },
          "metadata": {}
        }
      ]
    },
    {
      "cell_type": "code",
      "source": [
        "# SHAP values\n",
        "explainer = shap.TreeExplainer(model)\n",
        "\n",
        "shap_values = explainer.shap_values(X_train.to_numpy())\n",
        "shap.summary_plot(shap_values, X_train.to_numpy(), feature_names=X_train.columns)"
      ],
      "metadata": {
        "colab": {
          "base_uri": "https://localhost:8080/",
          "height": 917
        },
        "id": "TtnR3mf_XDoB",
        "outputId": "db3d85f2-c7ac-476a-b30c-99716908f691"
      },
      "execution_count": null,
      "outputs": [
        {
          "output_type": "display_data",
          "data": {
            "text/plain": [
              "<Figure size 800x910 with 2 Axes>"
            ],
            "image/png": "[encoded data removed]"
          },
          "metadata": {}
        }
      ]
    },
    {
      "cell_type": "markdown",
      "metadata": {
        "id": "gCNSjM2lPjs_"
      },
      "source": [
        "### 2. Testing\n",
        "\n"
      ]
    },
    {
      "cell_type": "code",
      "source": [
        "X_test.columns"
      ],
      "metadata": {
        "id": "sVz76DWR1n-f",
        "outputId": "d604660c-b5ce-472c-8f26-41d4aafe1c29",
        "colab": {
          "base_uri": "https://localhost:8080/"
        }
      },
      "execution_count": null,
      "outputs": [
        {
          "output_type": "execute_result",
          "data": {
            "text/plain": [
              "Index(['Tenure Months', 'Device Class', 'Games Product', 'Music Product',\n",
              "       'Education Product', 'Call Center', 'Video Product', 'Use MyApp',\n",
              "       'Monthly Purchase (Thou. IDR)', 'Longitude', 'Latitude',\n",
              "       'CLTV (Predicted Thou. IDR)', 'Location_Bandung', 'Location_Jakarta',\n",
              "       'Payment Method_Credit', 'Payment Method_Debit',\n",
              "       'Payment Method_Digital Wallet', 'Payment Method_Pulsa',\n",
              "       'number_of_products'],\n",
              "      dtype='object')"
            ]
          },
          "metadata": {},
          "execution_count": 65
        }
      ]
    },
    {
      "cell_type": "code",
      "execution_count": null,
      "metadata": {
        "colab": {
          "base_uri": "https://localhost:8080/",
          "height": 481
        },
        "id": "4pTBO9ZQM4jf",
        "outputId": "89b76eac-6543-4ae2-e562-f4d35de13221"
      },
      "outputs": [
        {
          "output_type": "display_data",
          "data": {
            "text/plain": [
              "<Figure size 640x480 with 2 Axes>"
            ],
            "image/png": "[encoded data removed]"
          },
          "metadata": {}
        }
      ],
      "source": [
        "# preduction\n",
        "y_pred = model.predict(X_test)\n",
        "\n",
        "# compute the confusion matrix\n",
        "cm = confusion_matrix(y_test,y_pred)\n",
        "\n",
        "#Plot the confusion matrix.\n",
        "sns.heatmap(cm,\n",
        "            annot=True,\n",
        "            fmt='g',\n",
        "            xticklabels=['No', 'Yes'],\n",
        "            yticklabels=['No', 'Yes'])\n",
        "plt.ylabel('Prediction',fontsize=13)\n",
        "plt.xlabel('Actual',fontsize=13)\n",
        "plt.title('Confusion Matrix',fontsize=17)\n",
        "plt.show()"
      ]
    },
    {
      "cell_type": "code",
      "execution_count": null,
      "metadata": {
        "colab": {
          "base_uri": "https://localhost:8080/"
        },
        "id": "FRUWp79AOk8h",
        "outputId": "0329814a-b52e-42cc-b256-9aee784e1a6d"
      },
      "outputs": [
        {
          "output_type": "stream",
          "name": "stdout",
          "text": [
            "Accuracy   : 0.808374733853797\n",
            "Precision : 0.670846394984326\n",
            "Recall    : 0.5646437994722955\n",
            "F1-score  : 0.6131805157593123\n"
          ]
        }
      ],
      "source": [
        "y_pred = model.predict(X_test)\n",
        "y_prob = model.predict_proba(X_test)\n",
        "\n",
        "# Finding precision and recall\n",
        "accuracy = accuracy_score(y_test, y_pred)\n",
        "print(\"Accuracy   :\", accuracy)\n",
        "precision = precision_score(y_test, y_pred)\n",
        "print(\"Precision :\", precision)\n",
        "recall = recall_score(y_test, y_pred)\n",
        "print(\"Recall    :\", recall)\n",
        "F1_score = f1_score(y_test, y_pred)\n",
        "print(\"F1-score  :\", F1_score)"
      ]
    },
    {
      "cell_type": "code",
      "source": [
        "compare_results = pd.DataFrame()\n",
        "compare_results['Actual'] = y_test\n",
        "compare_results['Predicted'] = y_pred\n",
        "compare_results['Churn_Probabilities']= y_prob[:, 1]\n",
        "compare_results"
      ],
      "metadata": {
        "colab": {
          "base_uri": "https://localhost:8080/",
          "height": 455
        },
        "id": "WJmi9aX72T6A",
        "outputId": "a4df538c-d8af-48ec-8dcf-165f45cc0fb0"
      },
      "execution_count": null,
      "outputs": [
        {
          "output_type": "execute_result",
          "data": {
            "text/plain": [
              "             Actual  Predicted  Churn_Probabilities\n",
              "Customer ID                                        \n",
              "1417              1          1             0.679757\n",
              "4718              0          0             0.466361\n",
              "2848              0          0             0.232181\n",
              "1230              1          0             0.337611\n",
              "6177              0          0             0.179008\n",
              "...             ...        ...                  ...\n",
              "2517              0          0             0.181852\n",
              "5484              0          0             0.084468\n",
              "956               1          0             0.315652\n",
              "5711              0          0             0.257176\n",
              "3345              0          0             0.067495\n",
              "\n",
              "[1409 rows x 3 columns]"
            ],
            "text/html": [
              "\n",
              "  <div id=\"df-734fc492-0015-4afa-93ca-df59589247d6\" class=\"colab-df-container\">\n",
              "    <div>\n",
              "<style scoped>\n",
              "    .dataframe tbody tr th:only-of-type {\n",
              "        vertical-align: middle;\n",
              "    }\n",
              "\n",
              "    .dataframe tbody tr th {\n",
              "        vertical-align: top;\n",
              "    }\n",
              "\n",
              "    .dataframe thead th {\n",
              "        text-align: right;\n",
              "    }\n",
              "</style>\n",
              "<table border=\"1\" class=\"dataframe\">\n",
              "  <thead>\n",
              "    <tr style=\"text-align: right;\">\n",
              "      <th></th>\n",
              "      <th>Actual</th>\n",
              "      <th>Predicted</th>\n",
              "      <th>Churn_Probabilities</th>\n",
              "    </tr>\n",
              "    <tr>\n",
              "      <th>Customer ID</th>\n",
              "      <th></th>\n",
              "      <th></th>\n",
              "      <th></th>\n",
              "    </tr>\n",
              "  </thead>\n",
              "  <tbody>\n",
              "    <tr>\n",
              "      <th>1417</th>\n",
              "      <td>1</td>\n",
              "      <td>1</td>\n",
              "      <td>0.679757</td>\n",
              "    </tr>\n",
              "    <tr>\n",
              "      <th>4718</th>\n",
              "      <td>0</td>\n",
              "      <td>0</td>\n",
              "      <td>0.466361</td>\n",
              "    </tr>\n",
              "    <tr>\n",
              "      <th>2848</th>\n",
              "      <td>0</td>\n",
              "      <td>0</td>\n",
              "      <td>0.232181</td>\n",
              "    </tr>\n",
              "    <tr>\n",
              "      <th>1230</th>\n",
              "      <td>1</td>\n",
              "      <td>0</td>\n",
              "      <td>0.337611</td>\n",
              "    </tr>\n",
              "    <tr>\n",
              "      <th>6177</th>\n",
              "      <td>0</td>\n",
              "      <td>0</td>\n",
              "      <td>0.179008</td>\n",
              "    </tr>\n",
              "    <tr>\n",
              "      <th>...</th>\n",
              "      <td>...</td>\n",
              "      <td>...</td>\n",
              "      <td>...</td>\n",
              "    </tr>\n",
              "    <tr>\n",
              "      <th>2517</th>\n",
              "      <td>0</td>\n",
              "      <td>0</td>\n",
              "      <td>0.181852</td>\n",
              "    </tr>\n",
              "    <tr>\n",
              "      <th>5484</th>\n",
              "      <td>0</td>\n",
              "      <td>0</td>\n",
              "      <td>0.084468</td>\n",
              "    </tr>\n",
              "    <tr>\n",
              "      <th>956</th>\n",
              "      <td>1</td>\n",
              "      <td>0</td>\n",
              "      <td>0.315652</td>\n",
              "    </tr>\n",
              "    <tr>\n",
              "      <th>5711</th>\n",
              "      <td>0</td>\n",
              "      <td>0</td>\n",
              "      <td>0.257176</td>\n",
              "    </tr>\n",
              "    <tr>\n",
              "      <th>3345</th>\n",
              "      <td>0</td>\n",
              "      <td>0</td>\n",
              "      <td>0.067495</td>\n",
              "    </tr>\n",
              "  </tbody>\n",
              "</table>\n",
              "<p>1409 rows × 3 columns</p>\n",
              "</div>\n",
              "    <div class=\"colab-df-buttons\">\n",
              "\n",
              "  <div class=\"colab-df-container\">\n",
              "    <button class=\"colab-df-convert\" onclick=\"convertToInteractive('df-734fc492-0015-4afa-93ca-df59589247d6')\"\n",
              "            title=\"Convert this dataframe to an interactive table.\"\n",
              "            style=\"display:none;\">\n",
              "\n",
              "  <svg xmlns=\"http://www.w3.org/2000/svg\" height=\"24px\" viewBox=\"0 -960 960 960\">\n",
              "    <path d=\"M120-120v-720h720v720H120Zm60-500h600v-160H180v160Zm220 220h160v-160H400v160Zm0 220h160v-160H400v160ZM180-400h160v-160H180v160Zm440 0h160v-160H620v160ZM180-180h160v-160H180v160Zm440 0h160v-160H620v160Z\"/>\n",
              "  </svg>\n",
              "    </button>\n",
              "\n",
              "  <style>\n",
              "    .colab-df-container {\n",
              "      display:flex;\n",
              "      gap: 12px;\n",
              "    }\n",
              "\n",
              "    .colab-df-convert {\n",
              "      background-color: #E8F0FE;\n",
              "      border: none;\n",
              "      border-radius: 50%;\n",
              "      cursor: pointer;\n",
              "      display: none;\n",
              "      fill: #1967D2;\n",
              "      height: 32px;\n",
              "      padding: 0 0 0 0;\n",
              "      width: 32px;\n",
              "    }\n",
              "\n",
              "    .colab-df-convert:hover {\n",
              "      background-color: #E2EBFA;\n",
              "      box-shadow: 0px 1px 2px rgba(60, 64, 67, 0.3), 0px 1px 3px 1px rgba(60, 64, 67, 0.15);\n",
              "      fill: #174EA6;\n",
              "    }\n",
              "\n",
              "    .colab-df-buttons div {\n",
              "      margin-bottom: 4px;\n",
              "    }\n",
              "\n",
              "    [theme=dark] .colab-df-convert {\n",
              "      background-color: #3B4455;\n",
              "      fill: #D2E3FC;\n",
              "    }\n",
              "\n",
              "    [theme=dark] .colab-df-convert:hover {\n",
              "      background-color: #434B5C;\n",
              "      box-shadow: 0px 1px 3px 1px rgba(0, 0, 0, 0.15);\n",
              "      filter: drop-shadow(0px 1px 2px rgba(0, 0, 0, 0.3));\n",
              "      fill: #FFFFFF;\n",
              "    }\n",
              "  </style>\n",
              "\n",
              "    <script>\n",
              "      const buttonEl =\n",
              "        document.querySelector('#df-734fc492-0015-4afa-93ca-df59589247d6 button.colab-df-convert');\n",
              "      buttonEl.style.display =\n",
              "        google.colab.kernel.accessAllowed ? 'block' : 'none';\n",
              "\n",
              "      async function convertToInteractive(key) {\n",
              "        const element = document.querySelector('#df-734fc492-0015-4afa-93ca-df59589247d6');\n",
              "        const dataTable =\n",
              "          await google.colab.kernel.invokeFunction('convertToInteractive',\n",
              "                                                    [key], {});\n",
              "        if (!dataTable) return;\n",
              "\n",
              "        const docLinkHtml = 'Like what you see? Visit the ' +\n",
              "          '<a target=\"_blank\" href=https://colab.research.google.com/notebooks/data_table.ipynb>data table notebook</a>'\n",
              "          + ' to learn more about interactive tables.';\n",
              "        element.innerHTML = '';\n",
              "        dataTable['output_type'] = 'display_data';\n",
              "        await google.colab.output.renderOutput(dataTable, element);\n",
              "        const docLink = document.createElement('div');\n",
              "        docLink.innerHTML = docLinkHtml;\n",
              "        element.appendChild(docLink);\n",
              "      }\n",
              "    </script>\n",
              "  </div>\n",
              "\n",
              "\n",
              "<div id=\"df-92c921cb-84d1-42e6-9466-cbabd71edf16\">\n",
              "  <button class=\"colab-df-quickchart\" onclick=\"quickchart('df-92c921cb-84d1-42e6-9466-cbabd71edf16')\"\n",
              "            title=\"Suggest charts.\"\n",
              "            style=\"display:none;\">\n",
              "\n",
              "<svg xmlns=\"http://www.w3.org/2000/svg\" height=\"24px\"viewBox=\"0 0 24 24\"\n",
              "     width=\"24px\">\n",
              "    <g>\n",
              "        <path d=\"M19 3H5c-1.1 0-2 .9-2 2v14c0 1.1.9 2 2 2h14c1.1 0 2-.9 2-2V5c0-1.1-.9-2-2-2zM9 17H7v-7h2v7zm4 0h-2V7h2v10zm4 0h-2v-4h2v4z\"/>\n",
              "    </g>\n",
              "</svg>\n",
              "  </button>\n",
              "\n",
              "<style>\n",
              "  .colab-df-quickchart {\n",
              "      --bg-color: #E8F0FE;\n",
              "      --fill-color: #1967D2;\n",
              "      --hover-bg-color: #E2EBFA;\n",
              "      --hover-fill-color: #174EA6;\n",
              "      --disabled-fill-color: #AAA;\n",
              "      --disabled-bg-color: #DDD;\n",
              "  }\n",
              "\n",
              "  [theme=dark] .colab-df-quickchart {\n",
              "      --bg-color: #3B4455;\n",
              "      --fill-color: #D2E3FC;\n",
              "      --hover-bg-color: #434B5C;\n",
              "      --hover-fill-color: #FFFFFF;\n",
              "      --disabled-bg-color: #3B4455;\n",
              "      --disabled-fill-color: #666;\n",
              "  }\n",
              "\n",
              "  .colab-df-quickchart {\n",
              "    background-color: var(--bg-color);\n",
              "    border: none;\n",
              "    border-radius: 50%;\n",
              "    cursor: pointer;\n",
              "    display: none;\n",
              "    fill: var(--fill-color);\n",
              "    height: 32px;\n",
              "    padding: 0;\n",
              "    width: 32px;\n",
              "  }\n",
              "\n",
              "  .colab-df-quickchart:hover {\n",
              "    background-color: var(--hover-bg-color);\n",
              "    box-shadow: 0 1px 2px rgba(60, 64, 67, 0.3), 0 1px 3px 1px rgba(60, 64, 67, 0.15);\n",
              "    fill: var(--button-hover-fill-color);\n",
              "  }\n",
              "\n",
              "  .colab-df-quickchart-complete:disabled,\n",
              "  .colab-df-quickchart-complete:disabled:hover {\n",
              "    background-color: var(--disabled-bg-color);\n",
              "    fill: var(--disabled-fill-color);\n",
              "    box-shadow: none;\n",
              "  }\n",
              "\n",
              "  .colab-df-spinner {\n",
              "    border: 2px solid var(--fill-color);\n",
              "    border-color: transparent;\n",
              "    border-bottom-color: var(--fill-color);\n",
              "    animation:\n",
              "      spin 1s steps(1) infinite;\n",
              "  }\n",
              "\n",
              "  @keyframes spin {\n",
              "    0% {\n",
              "      border-color: transparent;\n",
              "      border-bottom-color: var(--fill-color);\n",
              "      border-left-color: var(--fill-color);\n",
              "    }\n",
              "    20% {\n",
              "      border-color: transparent;\n",
              "      border-left-color: var(--fill-color);\n",
              "      border-top-color: var(--fill-color);\n",
              "    }\n",
              "    30% {\n",
              "      border-color: transparent;\n",
              "      border-left-color: var(--fill-color);\n",
              "      border-top-color: var(--fill-color);\n",
              "      border-right-color: var(--fill-color);\n",
              "    }\n",
              "    40% {\n",
              "      border-color: transparent;\n",
              "      border-right-color: var(--fill-color);\n",
              "      border-top-color: var(--fill-color);\n",
              "    }\n",
              "    60% {\n",
              "      border-color: transparent;\n",
              "      border-right-color: var(--fill-color);\n",
              "    }\n",
              "    80% {\n",
              "      border-color: transparent;\n",
              "      border-right-color: var(--fill-color);\n",
              "      border-bottom-color: var(--fill-color);\n",
              "    }\n",
              "    90% {\n",
              "      border-color: transparent;\n",
              "      border-bottom-color: var(--fill-color);\n",
              "    }\n",
              "  }\n",
              "</style>\n",
              "\n",
              "  <script>\n",
              "    async function quickchart(key) {\n",
              "      const quickchartButtonEl =\n",
              "        document.querySelector('#' + key + ' button');\n",
              "      quickchartButtonEl.disabled = true;  // To prevent multiple clicks.\n",
              "      quickchartButtonEl.classList.add('colab-df-spinner');\n",
              "      try {\n",
              "        const charts = await google.colab.kernel.invokeFunction(\n",
              "            'suggestCharts', [key], {});\n",
              "      } catch (error) {\n",
              "        console.error('Error during call to suggestCharts:', error);\n",
              "      }\n",
              "      quickchartButtonEl.classList.remove('colab-df-spinner');\n",
              "      quickchartButtonEl.classList.add('colab-df-quickchart-complete');\n",
              "    }\n",
              "    (() => {\n",
              "      let quickchartButtonEl =\n",
              "        document.querySelector('#df-92c921cb-84d1-42e6-9466-cbabd71edf16 button');\n",
              "      quickchartButtonEl.style.display =\n",
              "        google.colab.kernel.accessAllowed ? 'block' : 'none';\n",
              "    })();\n",
              "  </script>\n",
              "</div>\n",
              "    </div>\n",
              "  </div>\n"
            ]
          },
          "metadata": {},
          "execution_count": 81
        }
      ]
    },
    {
      "cell_type": "markdown",
      "metadata": {
        "id": "HxD7BLttGE0k"
      },
      "source": [
        "**Ide (Unsupervised Learning):**\n",
        "- Clustering KMeans"
      ]
    },
    {
      "cell_type": "code",
      "source": [
        "def tune_kfold_cv(model, X, y):\n",
        "    # n_splits makin besar -> SKOR MAKIN BAGUS (awas overfit)\n",
        "    kf = KFold(n_splits=5, random_state=42, shuffle=True)\n",
        "    scores = []\n",
        "    for train_idx, test_idx in kf.split(X, y):\n",
        "        X_train, X_val = X.iloc[train_idx], X.iloc[test_idx]\n",
        "        y_train, y_val = y.iloc[train_idx], y.iloc[test_idx]\n",
        "\n",
        "        model.fit(X_train, y_train)\n",
        "        predictions = model.predict(X_val)\n",
        "\n",
        "        mae_score = f1_score(y_val, predictions)\n",
        "        print(f'F1-Score: {mae_score:.3f}')\n",
        "        scores.append(mae_score)\n",
        "    return scores"
      ],
      "metadata": {
        "id": "ULBT__X7jRS3"
      },
      "execution_count": null,
      "outputs": []
    },
    {
      "cell_type": "code",
      "source": [
        "def objective(trial, data=X_train, target=y_train):\n",
        "    # Define the hyperparameter search space using trial suggestions\n",
        "    params = {\n",
        "        'iterations': trial.suggest_int('iterations', 100, 1000),\n",
        "        'learning_rate': trial.suggest_float('learning_rate', 0.01, 0.3),\n",
        "        'random_strength': trial.suggest_int('random_strength', 1, 10),\n",
        "        'bagging_temperature': trial.suggest_float('bagging_temperature', 1, 10),\n",
        "        'max_bin': trial.suggest_int('max_bin', 4, 255),\n",
        "        'grow_policy': trial.suggest_categorical('grow_policy', ['SymmetricTree', 'Depthwise', 'Lossguide']),\n",
        "        'min_data_in_leaf': trial.suggest_int('min_data_in_leaf', 1, 20),\n",
        "        'max_depth': trial.suggest_int('max_depth', 3, 10),\n",
        "        'l2_leaf_reg': trial.suggest_float('l2_leaf_reg', 1e-8, 100),\n",
        "        'one_hot_max_size': trial.suggest_int('one_hot_max_size', 0, 20),\n",
        "        # 'auto_class_weights': trial.suggest_categorical('auto_class_weights', [None, 'Balanced'])\n",
        "        }\n",
        "\n",
        "\n",
        "    model = cb.CatBoostClassifier(**params,verbose=0, class_weights={0: 0.45, 1: 0.55})\n",
        "\n",
        "    scores = tune_kfold_cv(model, X_train, y_train)\n",
        "    return np.sum(scores) / 5"
      ],
      "metadata": {
        "id": "0dY0maUGi2Tk"
      },
      "execution_count": null,
      "outputs": []
    },
    {
      "cell_type": "code",
      "source": [
        "study = optuna.create_study(direction='maximize')\n",
        "study.optimize(objective, n_trials=100)\n",
        "print('Number of finished trials:', len(study.trials))\n",
        "print('Best trial for time spend:', study.best_trial.params)"
      ],
      "metadata": {
        "colab": {
          "base_uri": "https://localhost:8080/"
        },
        "id": "VXcqOJFkjlPo",
        "outputId": "2789fca5-5230-4884-add9-842101eb1829"
      },
      "execution_count": null,
      "outputs": [
        {
          "output_type": "stream",
          "name": "stderr",
          "text": [
            "[I 2023-11-07 02:27:47,770] A new study created in memory with name: no-name-bc02e687-692a-448a-ab3f-3121de006033\n"
          ]
        },
        {
          "output_type": "stream",
          "name": "stdout",
          "text": [
            "F1-Score: 0.566\n",
            "F1-Score: 0.552\n",
            "F1-Score: 0.539\n",
            "F1-Score: 0.531\n"
          ]
        },
        {
          "output_type": "stream",
          "name": "stderr",
          "text": [
            "[I 2023-11-07 02:27:56,088] Trial 0 finished with value: 0.5500879459683622 and parameters: {'iterations': 853, 'learning_rate': 0.14624606111207294, 'random_strength': 4, 'bagging_temperature': 1.111089262317729, 'max_bin': 27, 'grow_policy': 'SymmetricTree', 'min_data_in_leaf': 16, 'max_depth': 4, 'l2_leaf_reg': 97.4797868465586, 'one_hot_max_size': 14}. Best is trial 0 with value: 0.5500879459683622.\n"
          ]
        },
        {
          "output_type": "stream",
          "name": "stdout",
          "text": [
            "F1-Score: 0.563\n",
            "F1-Score: 0.539\n",
            "F1-Score: 0.532\n",
            "F1-Score: 0.541\n",
            "F1-Score: 0.519\n"
          ]
        },
        {
          "output_type": "stream",
          "name": "stderr",
          "text": [
            "[I 2023-11-07 02:28:08,547] Trial 1 finished with value: 0.5341563308146322 and parameters: {'iterations': 808, 'learning_rate': 0.23953637884063067, 'random_strength': 7, 'bagging_temperature': 1.4923618555786438, 'max_bin': 193, 'grow_policy': 'SymmetricTree', 'min_data_in_leaf': 6, 'max_depth': 6, 'l2_leaf_reg': 21.660703275941184, 'one_hot_max_size': 9}. Best is trial 0 with value: 0.5500879459683622.\n"
          ]
        },
        {
          "output_type": "stream",
          "name": "stdout",
          "text": [
            "F1-Score: 0.540\n",
            "F1-Score: 0.577\n",
            "F1-Score: 0.594\n",
            "F1-Score: 0.583\n",
            "F1-Score: 0.565\n"
          ]
        },
        {
          "output_type": "stream",
          "name": "stderr",
          "text": [
            "[I 2023-11-07 02:28:14,655] Trial 2 finished with value: 0.5758545109405302 and parameters: {'iterations': 508, 'learning_rate': 0.12188399979819411, 'random_strength': 4, 'bagging_temperature': 8.703419011190787, 'max_bin': 202, 'grow_policy': 'SymmetricTree', 'min_data_in_leaf': 16, 'max_depth': 3, 'l2_leaf_reg': 53.78313155911524, 'one_hot_max_size': 12}. Best is trial 2 with value: 0.5758545109405302.\n"
          ]
        },
        {
          "output_type": "stream",
          "name": "stdout",
          "text": [
            "F1-Score: 0.560\n",
            "F1-Score: 0.557\n",
            "F1-Score: 0.548\n",
            "F1-Score: 0.556\n",
            "F1-Score: 0.504\n"
          ]
        },
        {
          "output_type": "stream",
          "name": "stderr",
          "text": [
            "[I 2023-11-07 02:28:26,202] Trial 3 finished with value: 0.5417006073597139 and parameters: {'iterations': 588, 'learning_rate': 0.14481757761753078, 'random_strength': 8, 'bagging_temperature': 5.900348156958333, 'max_bin': 12, 'grow_policy': 'Depthwise', 'min_data_in_leaf': 4, 'max_depth': 5, 'l2_leaf_reg': 80.87272436297124, 'one_hot_max_size': 11}. Best is trial 2 with value: 0.5758545109405302.\n"
          ]
        },
        {
          "output_type": "stream",
          "name": "stdout",
          "text": [
            "F1-Score: 0.543\n",
            "F1-Score: 0.536\n",
            "F1-Score: 0.536\n",
            "F1-Score: 0.530\n",
            "F1-Score: 0.536\n"
          ]
        },
        {
          "output_type": "stream",
          "name": "stderr",
          "text": [
            "[I 2023-11-07 02:29:08,304] Trial 4 finished with value: 0.5332128852880478 and parameters: {'iterations': 909, 'learning_rate': 0.10949346356326402, 'random_strength': 1, 'bagging_temperature': 9.234704633371067, 'max_bin': 194, 'grow_policy': 'Depthwise', 'min_data_in_leaf': 19, 'max_depth': 10, 'l2_leaf_reg': 15.815640755632426, 'one_hot_max_size': 14}. Best is trial 2 with value: 0.5758545109405302.\n"
          ]
        },
        {
          "output_type": "stream",
          "name": "stdout",
          "text": [
            "F1-Score: 0.529\n",
            "F1-Score: 0.526\n",
            "F1-Score: 0.556\n",
            "F1-Score: 0.532\n",
            "F1-Score: 0.558\n"
          ]
        },
        {
          "output_type": "stream",
          "name": "stderr",
          "text": [
            "[I 2023-11-07 02:29:14,802] Trial 5 finished with value: 0.5477665044704039 and parameters: {'iterations': 283, 'learning_rate': 0.177284814754316, 'random_strength': 6, 'bagging_temperature': 3.2170864463130364, 'max_bin': 117, 'grow_policy': 'Depthwise', 'min_data_in_leaf': 12, 'max_depth': 5, 'l2_leaf_reg': 18.24436601425294, 'one_hot_max_size': 9}. Best is trial 2 with value: 0.5758545109405302.\n"
          ]
        },
        {
          "output_type": "stream",
          "name": "stdout",
          "text": [
            "F1-Score: 0.568\n",
            "F1-Score: 0.554\n",
            "F1-Score: 0.548\n",
            "F1-Score: 0.540\n",
            "F1-Score: 0.571\n"
          ]
        },
        {
          "output_type": "stream",
          "name": "stderr",
          "text": [
            "[I 2023-11-07 02:29:29,336] Trial 6 finished with value: 0.5518572041770653 and parameters: {'iterations': 700, 'learning_rate': 0.21914985965759362, 'random_strength': 6, 'bagging_temperature': 1.7440188064708337, 'max_bin': 173, 'grow_policy': 'Lossguide', 'min_data_in_leaf': 3, 'max_depth': 4, 'l2_leaf_reg': 47.9425892125959, 'one_hot_max_size': 17}. Best is trial 2 with value: 0.5758545109405302.\n"
          ]
        },
        {
          "output_type": "stream",
          "name": "stdout",
          "text": [
            "F1-Score: 0.545\n",
            "F1-Score: 0.566\n",
            "F1-Score: 0.554\n",
            "F1-Score: 0.576\n",
            "F1-Score: 0.550\n"
          ]
        },
        {
          "output_type": "stream",
          "name": "stderr",
          "text": [
            "[I 2023-11-07 02:29:35,561] Trial 7 finished with value: 0.5616652962076838 and parameters: {'iterations': 183, 'learning_rate': 0.08958927598685434, 'random_strength': 3, 'bagging_temperature': 6.388736051318518, 'max_bin': 50, 'grow_policy': 'Depthwise', 'min_data_in_leaf': 9, 'max_depth': 8, 'l2_leaf_reg': 87.71689799729153, 'one_hot_max_size': 19}. Best is trial 2 with value: 0.5758545109405302.\n"
          ]
        },
        {
          "output_type": "stream",
          "name": "stdout",
          "text": [
            "F1-Score: 0.562\n",
            "F1-Score: 0.560\n",
            "F1-Score: 0.559\n",
            "F1-Score: 0.530\n",
            "F1-Score: 0.526\n"
          ]
        },
        {
          "output_type": "stream",
          "name": "stderr",
          "text": [
            "[I 2023-11-07 02:29:49,459] Trial 8 finished with value: 0.5422327137870121 and parameters: {'iterations': 519, 'learning_rate': 0.14824260739663175, 'random_strength': 2, 'bagging_temperature': 1.629274355295426, 'max_bin': 37, 'grow_policy': 'Lossguide', 'min_data_in_leaf': 5, 'max_depth': 5, 'l2_leaf_reg': 86.51617817997337, 'one_hot_max_size': 15}. Best is trial 2 with value: 0.5758545109405302.\n"
          ]
        },
        {
          "output_type": "stream",
          "name": "stdout",
          "text": [
            "F1-Score: 0.536\n",
            "F1-Score: 0.507\n",
            "F1-Score: 0.515\n",
            "F1-Score: 0.509\n",
            "F1-Score: 0.488\n"
          ]
        },
        {
          "output_type": "stream",
          "name": "stderr",
          "text": [
            "[I 2023-11-07 02:30:03,328] Trial 9 finished with value: 0.5112927962212025 and parameters: {'iterations': 898, 'learning_rate': 0.24278333174165848, 'random_strength': 1, 'bagging_temperature': 9.352977947927164, 'max_bin': 70, 'grow_policy': 'Depthwise', 'min_data_in_leaf': 20, 'max_depth': 4, 'l2_leaf_reg': 1.4952923507563225, 'one_hot_max_size': 15}. Best is trial 2 with value: 0.5758545109405302.\n"
          ]
        },
        {
          "output_type": "stream",
          "name": "stdout",
          "text": [
            "F1-Score: 0.537\n",
            "F1-Score: 0.580\n",
            "F1-Score: 0.597\n",
            "F1-Score: 0.593\n",
            "F1-Score: 0.566\n"
          ]
        },
        {
          "output_type": "stream",
          "name": "stderr",
          "text": [
            "[I 2023-11-07 02:30:07,343] Trial 10 finished with value: 0.5842608184990848 and parameters: {'iterations': 396, 'learning_rate': 0.05670119950012055, 'random_strength': 10, 'bagging_temperature': 7.674091073526723, 'max_bin': 252, 'grow_policy': 'SymmetricTree', 'min_data_in_leaf': 14, 'max_depth': 3, 'l2_leaf_reg': 61.55599882631988, 'one_hot_max_size': 1}. Best is trial 10 with value: 0.5842608184990848.\n"
          ]
        },
        {
          "output_type": "stream",
          "name": "stdout",
          "text": [
            "F1-Score: 0.586\n",
            "F1-Score: 0.578\n",
            "F1-Score: 0.622\n",
            "F1-Score: 0.574\n",
            "F1-Score: 0.570\n"
          ]
        },
        {
          "output_type": "stream",
          "name": "stderr",
          "text": [
            "[I 2023-11-07 02:30:11,483] Trial 11 finished with value: 0.586537315849426 and parameters: {'iterations': 412, 'learning_rate': 0.02426969874883364, 'random_strength': 10, 'bagging_temperature': 7.699857073066735, 'max_bin': 249, 'grow_policy': 'SymmetricTree', 'min_data_in_leaf': 14, 'max_depth': 3, 'l2_leaf_reg': 59.53535149881826, 'one_hot_max_size': 1}. Best is trial 11 with value: 0.586537315849426.\n"
          ]
        },
        {
          "output_type": "stream",
          "name": "stdout",
          "text": [
            "F1-Score: 0.588\n",
            "F1-Score: 0.558\n",
            "F1-Score: 0.616\n",
            "F1-Score: 0.584\n",
            "F1-Score: 0.581\n"
          ]
        },
        {
          "output_type": "stream",
          "name": "stderr",
          "text": [
            "[I 2023-11-07 02:30:16,505] Trial 12 finished with value: 0.5816564892217988 and parameters: {'iterations': 389, 'learning_rate': 0.01628803024470555, 'random_strength': 10, 'bagging_temperature': 7.506681114639813, 'max_bin': 255, 'grow_policy': 'SymmetricTree', 'min_data_in_leaf': 12, 'max_depth': 3, 'l2_leaf_reg': 65.18359314645251, 'one_hot_max_size': 0}. Best is trial 11 with value: 0.586537315849426.\n"
          ]
        },
        {
          "output_type": "stream",
          "name": "stdout",
          "text": [
            "F1-Score: 0.568\n",
            "F1-Score: 0.566\n",
            "F1-Score: 0.628\n",
            "F1-Score: 0.577\n",
            "F1-Score: 0.567\n"
          ]
        },
        {
          "output_type": "stream",
          "name": "stderr",
          "text": [
            "[I 2023-11-07 02:30:23,875] Trial 13 finished with value: 0.5843744615271061 and parameters: {'iterations': 367, 'learning_rate': 0.01542364026857708, 'random_strength': 10, 'bagging_temperature': 7.412803140771919, 'max_bin': 252, 'grow_policy': 'SymmetricTree', 'min_data_in_leaf': 15, 'max_depth': 8, 'l2_leaf_reg': 66.98731898281794, 'one_hot_max_size': 0}. Best is trial 11 with value: 0.586537315849426.\n"
          ]
        },
        {
          "output_type": "stream",
          "name": "stdout",
          "text": [
            "F1-Score: 0.584\n",
            "F1-Score: 0.522\n",
            "F1-Score: 0.588\n",
            "F1-Score: 0.554\n",
            "F1-Score: 0.539\n"
          ]
        },
        {
          "output_type": "stream",
          "name": "stderr",
          "text": [
            "[I 2023-11-07 02:30:27,087] Trial 14 finished with value: 0.5570376760730887 and parameters: {'iterations': 110, 'learning_rate': 0.014933335383432101, 'random_strength': 9, 'bagging_temperature': 4.679888128070974, 'max_bin': 233, 'grow_policy': 'SymmetricTree', 'min_data_in_leaf': 9, 'max_depth': 8, 'l2_leaf_reg': 41.61895659563133, 'one_hot_max_size': 4}. Best is trial 11 with value: 0.586537315849426.\n"
          ]
        },
        {
          "output_type": "stream",
          "name": "stdout",
          "text": [
            "F1-Score: 0.582\n",
            "F1-Score: 0.562\n",
            "F1-Score: 0.579\n",
            "F1-Score: 0.579\n",
            "F1-Score: 0.569\n"
          ]
        },
        {
          "output_type": "stream",
          "name": "stderr",
          "text": [
            "[I 2023-11-07 02:30:33,453] Trial 15 finished with value: 0.5703060603873769 and parameters: {'iterations': 338, 'learning_rate': 0.058612242474866356, 'random_strength': 8, 'bagging_temperature': 7.474594255129638, 'max_bin': 149, 'grow_policy': 'SymmetricTree', 'min_data_in_leaf': 17, 'max_depth': 8, 'l2_leaf_reg': 69.91658273050145, 'one_hot_max_size': 5}. Best is trial 11 with value: 0.586537315849426.\n"
          ]
        },
        {
          "output_type": "stream",
          "name": "stdout",
          "text": [
            "F1-Score: 0.562\n",
            "F1-Score: 0.573\n",
            "F1-Score: 0.577\n",
            "F1-Score: 0.576\n",
            "F1-Score: 0.564\n"
          ]
        },
        {
          "output_type": "stream",
          "name": "stderr",
          "text": [
            "[I 2023-11-07 02:30:41,423] Trial 16 finished with value: 0.5745383857092954 and parameters: {'iterations': 232, 'learning_rate': 0.05359790167529868, 'random_strength': 9, 'bagging_temperature': 9.733448725948536, 'max_bin': 104, 'grow_policy': 'Lossguide', 'min_data_in_leaf': 14, 'max_depth': 10, 'l2_leaf_reg': 72.48504284719795, 'one_hot_max_size': 4}. Best is trial 11 with value: 0.586537315849426.\n"
          ]
        },
        {
          "output_type": "stream",
          "name": "stdout",
          "text": [
            "F1-Score: 0.582\n",
            "F1-Score: 0.514\n",
            "F1-Score: 0.533\n",
            "F1-Score: 0.552\n",
            "F1-Score: 0.541\n"
          ]
        },
        {
          "output_type": "stream",
          "name": "stderr",
          "text": [
            "[I 2023-11-07 02:30:53,502] Trial 17 finished with value: 0.5369016881893768 and parameters: {'iterations': 616, 'learning_rate': 0.28887303149982624, 'random_strength': 10, 'bagging_temperature': 5.133126482906949, 'max_bin': 222, 'grow_policy': 'SymmetricTree', 'min_data_in_leaf': 1, 'max_depth': 7, 'l2_leaf_reg': 39.400127744579336, 'one_hot_max_size': 2}. Best is trial 11 with value: 0.586537315849426.\n"
          ]
        },
        {
          "output_type": "stream",
          "name": "stdout",
          "text": [
            "F1-Score: 0.544\n",
            "F1-Score: 0.565\n",
            "F1-Score: 0.625\n",
            "F1-Score: 0.581\n",
            "F1-Score: 0.562\n"
          ]
        },
        {
          "output_type": "stream",
          "name": "stderr",
          "text": [
            "[I 2023-11-07 02:31:03,804] Trial 18 finished with value: 0.5812624115569631 and parameters: {'iterations': 458, 'learning_rate': 0.01764197840922074, 'random_strength': 8, 'bagging_temperature': 8.329391528615965, 'max_bin': 149, 'grow_policy': 'SymmetricTree', 'min_data_in_leaf': 10, 'max_depth': 9, 'l2_leaf_reg': 53.01036730094235, 'one_hot_max_size': 7}. Best is trial 11 with value: 0.586537315849426.\n"
          ]
        },
        {
          "output_type": "stream",
          "name": "stdout",
          "text": [
            "F1-Score: 0.572\n",
            "F1-Score: 0.568\n",
            "F1-Score: 0.568\n",
            "F1-Score: 0.564\n",
            "F1-Score: 0.555\n"
          ]
        },
        {
          "output_type": "stream",
          "name": "stderr",
          "text": [
            "[I 2023-11-07 02:31:17,241] Trial 19 finished with value: 0.5660116261123361 and parameters: {'iterations': 700, 'learning_rate': 0.0751556197598656, 'random_strength': 9, 'bagging_temperature': 6.716857311584678, 'max_bin': 223, 'grow_policy': 'SymmetricTree', 'min_data_in_leaf': 18, 'max_depth': 7, 'l2_leaf_reg': 75.90847696193724, 'one_hot_max_size': 2}. Best is trial 11 with value: 0.586537315849426.\n"
          ]
        },
        {
          "output_type": "stream",
          "name": "stdout",
          "text": [
            "F1-Score: 0.574\n",
            "F1-Score: 0.577\n",
            "F1-Score: 0.591\n",
            "F1-Score: 0.584\n",
            "F1-Score: 0.555\n"
          ]
        },
        {
          "output_type": "stream",
          "name": "stderr",
          "text": [
            "[I 2023-11-07 02:31:27,946] Trial 20 finished with value: 0.5769039298810851 and parameters: {'iterations': 308, 'learning_rate': 0.04078748887322073, 'random_strength': 7, 'bagging_temperature': 9.948606490963517, 'max_bin': 164, 'grow_policy': 'Lossguide', 'min_data_in_leaf': 14, 'max_depth': 9, 'l2_leaf_reg': 63.90809667977959, 'one_hot_max_size': 7}. Best is trial 11 with value: 0.586537315849426.\n"
          ]
        },
        {
          "output_type": "stream",
          "name": "stdout",
          "text": [
            "F1-Score: 0.577\n",
            "F1-Score: 0.566\n",
            "F1-Score: 0.601\n",
            "F1-Score: 0.596\n",
            "F1-Score: 0.578\n"
          ]
        },
        {
          "output_type": "stream",
          "name": "stderr",
          "text": [
            "[I 2023-11-07 02:31:32,226] Trial 21 finished with value: 0.5848991424449198 and parameters: {'iterations': 422, 'learning_rate': 0.04496623692899729, 'random_strength': 10, 'bagging_temperature': 7.805594957466845, 'max_bin': 254, 'grow_policy': 'SymmetricTree', 'min_data_in_leaf': 14, 'max_depth': 3, 'l2_leaf_reg': 60.64349794946827, 'one_hot_max_size': 0}. Best is trial 11 with value: 0.586537315849426.\n"
          ]
        },
        {
          "output_type": "stream",
          "name": "stdout",
          "text": [
            "F1-Score: 0.584\n",
            "F1-Score: 0.578\n",
            "F1-Score: 0.603\n",
            "F1-Score: 0.590\n",
            "F1-Score: 0.558\n"
          ]
        },
        {
          "output_type": "stream",
          "name": "stderr",
          "text": [
            "[I 2023-11-07 02:31:39,252] Trial 22 finished with value: 0.5795491959378656 and parameters: {'iterations': 420, 'learning_rate': 0.031147531441553633, 'random_strength': 10, 'bagging_temperature': 8.28432850229964, 'max_bin': 238, 'grow_policy': 'SymmetricTree', 'min_data_in_leaf': 12, 'max_depth': 6, 'l2_leaf_reg': 55.32025666572265, 'one_hot_max_size': 0}. Best is trial 11 with value: 0.586537315849426.\n"
          ]
        },
        {
          "output_type": "stream",
          "name": "stdout",
          "text": [
            "F1-Score: 0.569\n",
            "F1-Score: 0.569\n",
            "F1-Score: 0.616\n",
            "F1-Score: 0.568\n",
            "F1-Score: 0.584\n"
          ]
        },
        {
          "output_type": "stream",
          "name": "stderr",
          "text": [
            "[I 2023-11-07 02:31:44,814] Trial 23 finished with value: 0.5823523633932901 and parameters: {'iterations': 500, 'learning_rate': 0.01031757381192831, 'random_strength': 9, 'bagging_temperature': 6.741832321201101, 'max_bin': 213, 'grow_policy': 'SymmetricTree', 'min_data_in_leaf': 15, 'max_depth': 4, 'l2_leaf_reg': 61.06044046219443, 'one_hot_max_size': 3}. Best is trial 11 with value: 0.586537315849426.\n"
          ]
        },
        {
          "output_type": "stream",
          "name": "stdout",
          "text": [
            "F1-Score: 0.575\n",
            "F1-Score: 0.584\n",
            "F1-Score: 0.607\n",
            "F1-Score: 0.594\n",
            "F1-Score: 0.571\n"
          ]
        },
        {
          "output_type": "stream",
          "name": "stderr",
          "text": [
            "[I 2023-11-07 02:31:49,138] Trial 24 finished with value: 0.5888734308484962 and parameters: {'iterations': 345, 'learning_rate': 0.04011655991955251, 'random_strength': 10, 'bagging_temperature': 7.915220967914433, 'max_bin': 251, 'grow_policy': 'SymmetricTree', 'min_data_in_leaf': 11, 'max_depth': 3, 'l2_leaf_reg': 69.81655670004822, 'one_hot_max_size': 0}. Best is trial 24 with value: 0.5888734308484962.\n"
          ]
        },
        {
          "output_type": "stream",
          "name": "stdout",
          "text": [
            "F1-Score: 0.589\n",
            "F1-Score: 0.578\n",
            "F1-Score: 0.593\n",
            "F1-Score: 0.580\n",
            "F1-Score: 0.563\n"
          ]
        },
        {
          "output_type": "stream",
          "name": "stderr",
          "text": [
            "[I 2023-11-07 02:31:59,014] Trial 25 finished with value: 0.5763226908501874 and parameters: {'iterations': 995, 'learning_rate': 0.07760915507378738, 'random_strength': 7, 'bagging_temperature': 8.778311924416883, 'max_bin': 185, 'grow_policy': 'SymmetricTree', 'min_data_in_leaf': 8, 'max_depth': 3, 'l2_leaf_reg': 78.9657108240267, 'one_hot_max_size': 6}. Best is trial 24 with value: 0.5888734308484962.\n"
          ]
        },
        {
          "output_type": "stream",
          "name": "stdout",
          "text": [
            "F1-Score: 0.568\n",
            "F1-Score: 0.567\n",
            "F1-Score: 0.617\n",
            "F1-Score: 0.592\n",
            "F1-Score: 0.569\n"
          ]
        },
        {
          "output_type": "stream",
          "name": "stderr",
          "text": [
            "[I 2023-11-07 02:32:02,766] Trial 26 finished with value: 0.5861831878366162 and parameters: {'iterations': 247, 'learning_rate': 0.04839560916309184, 'random_strength': 8, 'bagging_temperature': 8.177610634753021, 'max_bin': 235, 'grow_policy': 'SymmetricTree', 'min_data_in_leaf': 11, 'max_depth': 3, 'l2_leaf_reg': 72.12377596864215, 'one_hot_max_size': 2}. Best is trial 24 with value: 0.5888734308484962.\n"
          ]
        },
        {
          "output_type": "stream",
          "name": "stdout",
          "text": [
            "F1-Score: 0.585\n",
            "F1-Score: 0.576\n",
            "F1-Score: 0.603\n",
            "F1-Score: 0.588\n",
            "F1-Score: 0.568\n"
          ]
        },
        {
          "output_type": "stream",
          "name": "stderr",
          "text": [
            "[I 2023-11-07 02:32:05,018] Trial 27 finished with value: 0.5847380463191323 and parameters: {'iterations': 184, 'learning_rate': 0.09364765792161946, 'random_strength': 8, 'bagging_temperature': 8.92200740089046, 'max_bin': 213, 'grow_policy': 'SymmetricTree', 'min_data_in_leaf': 11, 'max_depth': 4, 'l2_leaf_reg': 71.3623768602945, 'one_hot_max_size': 2}. Best is trial 24 with value: 0.5888734308484962.\n"
          ]
        },
        {
          "output_type": "stream",
          "name": "stdout",
          "text": [
            "F1-Score: 0.587\n",
            "F1-Score: 0.578\n",
            "F1-Score: 0.625\n",
            "F1-Score: 0.592\n",
            "F1-Score: 0.558\n"
          ]
        },
        {
          "output_type": "stream",
          "name": "stderr",
          "text": [
            "[I 2023-11-07 02:32:08,057] Trial 28 finished with value: 0.5853301020630356 and parameters: {'iterations': 104, 'learning_rate': 0.06912392197457014, 'random_strength': 9, 'bagging_temperature': 8.023405289149142, 'max_bin': 233, 'grow_policy': 'Lossguide', 'min_data_in_leaf': 7, 'max_depth': 5, 'l2_leaf_reg': 82.49330698040862, 'one_hot_max_size': 3}. Best is trial 24 with value: 0.5888734308484962.\n"
          ]
        },
        {
          "output_type": "stream",
          "name": "stdout",
          "text": [
            "F1-Score: 0.574\n",
            "F1-Score: 0.592\n",
            "F1-Score: 0.617\n",
            "F1-Score: 0.580\n",
            "F1-Score: 0.580\n"
          ]
        },
        {
          "output_type": "stream",
          "name": "stderr",
          "text": [
            "[I 2023-11-07 02:32:11,047] Trial 29 finished with value: 0.5914240654558663 and parameters: {'iterations': 277, 'learning_rate': 0.03616295333302266, 'random_strength': 5, 'bagging_temperature': 6.956865268560728, 'max_bin': 237, 'grow_policy': 'SymmetricTree', 'min_data_in_leaf': 10, 'max_depth': 3, 'l2_leaf_reg': 99.94296515254919, 'one_hot_max_size': 5}. Best is trial 29 with value: 0.5914240654558663.\n"
          ]
        },
        {
          "output_type": "stream",
          "name": "stdout",
          "text": [
            "F1-Score: 0.588\n",
            "F1-Score: 0.581\n",
            "F1-Score: 0.621\n",
            "F1-Score: 0.589\n",
            "F1-Score: 0.575\n"
          ]
        },
        {
          "output_type": "stream",
          "name": "stderr",
          "text": [
            "[I 2023-11-07 02:32:14,334] Trial 30 finished with value: 0.5877039304248592 and parameters: {'iterations': 193, 'learning_rate': 0.039066468259768714, 'random_strength': 4, 'bagging_temperature': 7.217926858770014, 'max_bin': 78, 'grow_policy': 'SymmetricTree', 'min_data_in_leaf': 8, 'max_depth': 4, 'l2_leaf_reg': 99.93488492170576, 'one_hot_max_size': 5}. Best is trial 29 with value: 0.5914240654558663.\n"
          ]
        },
        {
          "output_type": "stream",
          "name": "stdout",
          "text": [
            "F1-Score: 0.573\n",
            "F1-Score: 0.580\n",
            "F1-Score: 0.612\n",
            "F1-Score: 0.588\n",
            "F1-Score: 0.570\n"
          ]
        },
        {
          "output_type": "stream",
          "name": "stderr",
          "text": [
            "[I 2023-11-07 02:32:16,451] Trial 31 finished with value: 0.5851054581892201 and parameters: {'iterations': 182, 'learning_rate': 0.02998688458983361, 'random_strength': 4, 'bagging_temperature': 6.896665019611234, 'max_bin': 68, 'grow_policy': 'SymmetricTree', 'min_data_in_leaf': 8, 'max_depth': 4, 'l2_leaf_reg': 98.5840631283691, 'one_hot_max_size': 6}. Best is trial 29 with value: 0.5914240654558663.\n"
          ]
        },
        {
          "output_type": "stream",
          "name": "stdout",
          "text": [
            "F1-Score: 0.575\n",
            "F1-Score: 0.587\n",
            "F1-Score: 0.619\n",
            "F1-Score: 0.591\n",
            "F1-Score: 0.578\n"
          ]
        },
        {
          "output_type": "stream",
          "name": "stderr",
          "text": [
            "[I 2023-11-07 02:32:19,397] Trial 32 finished with value: 0.5913064802111049 and parameters: {'iterations': 266, 'learning_rate': 0.035706496450660596, 'random_strength': 5, 'bagging_temperature': 7.082104142658453, 'max_bin': 95, 'grow_policy': 'SymmetricTree', 'min_data_in_leaf': 7, 'max_depth': 4, 'l2_leaf_reg': 92.53215149787911, 'one_hot_max_size': 8}. Best is trial 29 with value: 0.5914240654558663.\n"
          ]
        },
        {
          "output_type": "stream",
          "name": "stdout",
          "text": [
            "F1-Score: 0.581\n",
            "F1-Score: 0.584\n",
            "F1-Score: 0.628\n",
            "F1-Score: 0.591\n",
            "F1-Score: 0.564\n"
          ]
        },
        {
          "output_type": "stream",
          "name": "stderr",
          "text": [
            "[I 2023-11-07 02:32:22,310] Trial 33 finished with value: 0.588213987020913 and parameters: {'iterations': 257, 'learning_rate': 0.040574579951345224, 'random_strength': 5, 'bagging_temperature': 6.056839964780789, 'max_bin': 91, 'grow_policy': 'SymmetricTree', 'min_data_in_leaf': 6, 'max_depth': 4, 'l2_leaf_reg': 92.65586317750325, 'one_hot_max_size': 9}. Best is trial 29 with value: 0.5914240654558663.\n"
          ]
        },
        {
          "output_type": "stream",
          "name": "stdout",
          "text": [
            "F1-Score: 0.573\n",
            "F1-Score: 0.569\n",
            "F1-Score: 0.597\n",
            "F1-Score: 0.585\n",
            "F1-Score: 0.558\n"
          ]
        },
        {
          "output_type": "stream",
          "name": "stderr",
          "text": [
            "[I 2023-11-07 02:32:26,908] Trial 34 finished with value: 0.5753829690075207 and parameters: {'iterations': 293, 'learning_rate': 0.06319643528657447, 'random_strength': 5, 'bagging_temperature': 5.957427716118771, 'max_bin': 96, 'grow_policy': 'SymmetricTree', 'min_data_in_leaf': 6, 'max_depth': 5, 'l2_leaf_reg': 94.06716798386041, 'one_hot_max_size': 9}. Best is trial 29 with value: 0.5914240654558663.\n"
          ]
        },
        {
          "output_type": "stream",
          "name": "stdout",
          "text": [
            "F1-Score: 0.567\n",
            "F1-Score: 0.571\n",
            "F1-Score: 0.592\n",
            "F1-Score: 0.572\n",
            "F1-Score: 0.570\n"
          ]
        },
        {
          "output_type": "stream",
          "name": "stderr",
          "text": [
            "[I 2023-11-07 02:32:30,440] Trial 35 finished with value: 0.5743695722984874 and parameters: {'iterations': 258, 'learning_rate': 0.08889699265935212, 'random_strength': 5, 'bagging_temperature': 6.070399224277183, 'max_bin': 130, 'grow_policy': 'SymmetricTree', 'min_data_in_leaf': 6, 'max_depth': 6, 'l2_leaf_reg': 92.65873207663918, 'one_hot_max_size': 11}. Best is trial 29 with value: 0.5914240654558663.\n"
          ]
        },
        {
          "output_type": "stream",
          "name": "stdout",
          "text": [
            "F1-Score: 0.566\n",
            "F1-Score: 0.577\n",
            "F1-Score: 0.588\n",
            "F1-Score: 0.569\n",
            "F1-Score: 0.558\n"
          ]
        },
        {
          "output_type": "stream",
          "name": "stderr",
          "text": [
            "[I 2023-11-07 02:32:34,123] Trial 36 finished with value: 0.5710216004769324 and parameters: {'iterations': 307, 'learning_rate': 0.11318933050228548, 'random_strength': 5, 'bagging_temperature': 5.521111731464622, 'max_bin': 89, 'grow_policy': 'SymmetricTree', 'min_data_in_leaf': 4, 'max_depth': 5, 'l2_leaf_reg': 92.02513515705402, 'one_hot_max_size': 12}. Best is trial 29 with value: 0.5914240654558663.\n"
          ]
        },
        {
          "output_type": "stream",
          "name": "stdout",
          "text": [
            "F1-Score: 0.564\n",
            "F1-Score: 0.579\n",
            "F1-Score: 0.605\n",
            "F1-Score: 0.594\n",
            "F1-Score: 0.572\n"
          ]
        },
        {
          "output_type": "stream",
          "name": "stderr",
          "text": [
            "[I 2023-11-07 02:32:40,871] Trial 37 finished with value: 0.5869207603541083 and parameters: {'iterations': 348, 'learning_rate': 0.038127558451839585, 'random_strength': 6, 'bagging_temperature': 6.8544883895183375, 'max_bin': 119, 'grow_policy': 'Depthwise', 'min_data_in_leaf': 2, 'max_depth': 4, 'l2_leaf_reg': 87.47842619070582, 'one_hot_max_size': 8}. Best is trial 29 with value: 0.5914240654558663.\n"
          ]
        },
        {
          "output_type": "stream",
          "name": "stdout",
          "text": [
            "F1-Score: 0.585\n",
            "F1-Score: 0.573\n",
            "F1-Score: 0.592\n",
            "F1-Score: 0.580\n",
            "F1-Score: 0.551\n"
          ]
        },
        {
          "output_type": "stream",
          "name": "stderr",
          "text": [
            "[I 2023-11-07 02:32:42,324] Trial 38 finished with value: 0.5759935678925927 and parameters: {'iterations': 134, 'learning_rate': 0.1253171398803922, 'random_strength': 3, 'bagging_temperature': 6.230488302301596, 'max_bin': 7, 'grow_policy': 'SymmetricTree', 'min_data_in_leaf': 5, 'max_depth': 3, 'l2_leaf_reg': 96.08944223014785, 'one_hot_max_size': 12}. Best is trial 29 with value: 0.5914240654558663.\n"
          ]
        },
        {
          "output_type": "stream",
          "name": "stdout",
          "text": [
            "F1-Score: 0.584\n",
            "F1-Score: 0.572\n",
            "F1-Score: 0.600\n",
            "F1-Score: 0.581\n",
            "F1-Score: 0.558\n"
          ]
        },
        {
          "output_type": "stream",
          "name": "stderr",
          "text": [
            "[I 2023-11-07 02:32:45,612] Trial 39 finished with value: 0.5772918788959059 and parameters: {'iterations': 217, 'learning_rate': 0.06702039705572681, 'random_strength': 3, 'bagging_temperature': 7.113633595840174, 'max_bin': 27, 'grow_policy': 'Depthwise', 'min_data_in_leaf': 10, 'max_depth': 4, 'l2_leaf_reg': 81.03852991908418, 'one_hot_max_size': 10}. Best is trial 29 with value: 0.5914240654558663.\n"
          ]
        },
        {
          "output_type": "stream",
          "name": "stdout",
          "text": [
            "F1-Score: 0.576\n",
            "F1-Score: 0.580\n",
            "F1-Score: 0.586\n",
            "F1-Score: 0.582\n",
            "F1-Score: 0.562\n"
          ]
        },
        {
          "output_type": "stream",
          "name": "stderr",
          "text": [
            "[I 2023-11-07 02:32:57,536] Trial 40 finished with value: 0.5760982124844755 and parameters: {'iterations': 465, 'learning_rate': 0.03445787683728012, 'random_strength': 6, 'bagging_temperature': 6.4193671692801875, 'max_bin': 48, 'grow_policy': 'Lossguide', 'min_data_in_leaf': 7, 'max_depth': 5, 'l2_leaf_reg': 90.0814567690333, 'one_hot_max_size': 7}. Best is trial 29 with value: 0.5914240654558663.\n"
          ]
        },
        {
          "output_type": "stream",
          "name": "stdout",
          "text": [
            "F1-Score: 0.570\n",
            "F1-Score: 0.572\n",
            "F1-Score: 0.604\n",
            "F1-Score: 0.586\n",
            "F1-Score: 0.568\n"
          ]
        },
        {
          "output_type": "stream",
          "name": "stderr",
          "text": [
            "[I 2023-11-07 02:32:59,402] Trial 41 finished with value: 0.5823997540393203 and parameters: {'iterations': 163, 'learning_rate': 0.04370294506967155, 'random_strength': 4, 'bagging_temperature': 7.136547609606834, 'max_bin': 77, 'grow_policy': 'SymmetricTree', 'min_data_in_leaf': 9, 'max_depth': 4, 'l2_leaf_reg': 98.88741411742511, 'one_hot_max_size': 8}. Best is trial 29 with value: 0.5914240654558663.\n"
          ]
        },
        {
          "output_type": "stream",
          "name": "stdout",
          "text": [
            "F1-Score: 0.582\n",
            "F1-Score: 0.586\n",
            "F1-Score: 0.615\n",
            "F1-Score: 0.579\n",
            "F1-Score: 0.576\n"
          ]
        },
        {
          "output_type": "stream",
          "name": "stderr",
          "text": [
            "[I 2023-11-07 02:33:02,852] Trial 42 finished with value: 0.585951392457293 and parameters: {'iterations': 212, 'learning_rate': 0.030644597968922997, 'random_strength': 4, 'bagging_temperature': 6.441995301989371, 'max_bin': 84, 'grow_policy': 'SymmetricTree', 'min_data_in_leaf': 8, 'max_depth': 4, 'l2_leaf_reg': 98.90061763246614, 'one_hot_max_size': 5}. Best is trial 29 with value: 0.5914240654558663.\n"
          ]
        },
        {
          "output_type": "stream",
          "name": "stdout",
          "text": [
            "F1-Score: 0.574\n",
            "F1-Score: 0.584\n",
            "F1-Score: 0.609\n",
            "F1-Score: 0.585\n",
            "F1-Score: 0.575\n"
          ]
        },
        {
          "output_type": "stream",
          "name": "stderr",
          "text": [
            "[I 2023-11-07 02:33:05,635] Trial 43 finished with value: 0.5886574806094711 and parameters: {'iterations': 270, 'learning_rate': 0.05616608490741078, 'random_strength': 5, 'bagging_temperature': 7.211079206235438, 'max_bin': 110, 'grow_policy': 'SymmetricTree', 'min_data_in_leaf': 7, 'max_depth': 3, 'l2_leaf_reg': 83.52117789610902, 'one_hot_max_size': 10}. Best is trial 29 with value: 0.5914240654558663.\n"
          ]
        },
        {
          "output_type": "stream",
          "name": "stdout",
          "text": [
            "F1-Score: 0.591\n",
            "F1-Score: 0.576\n",
            "F1-Score: 0.603\n",
            "F1-Score: 0.577\n",
            "F1-Score: 0.576\n"
          ]
        },
        {
          "output_type": "stream",
          "name": "stderr",
          "text": [
            "[I 2023-11-07 02:33:08,467] Trial 44 finished with value: 0.5840359428144201 and parameters: {'iterations': 274, 'learning_rate': 0.054266175785598475, 'random_strength': 5, 'bagging_temperature': 8.389983787416597, 'max_bin': 110, 'grow_policy': 'SymmetricTree', 'min_data_in_leaf': 4, 'max_depth': 3, 'l2_leaf_reg': 85.01928327908449, 'one_hot_max_size': 10}. Best is trial 29 with value: 0.5914240654558663.\n"
          ]
        },
        {
          "output_type": "stream",
          "name": "stdout",
          "text": [
            "F1-Score: 0.588\n",
            "F1-Score: 0.568\n",
            "F1-Score: 0.597\n",
            "F1-Score: 0.576\n",
            "F1-Score: 0.581\n"
          ]
        },
        {
          "output_type": "stream",
          "name": "stderr",
          "text": [
            "[I 2023-11-07 02:33:11,775] Trial 45 finished with value: 0.5822291070081034 and parameters: {'iterations': 335, 'learning_rate': 0.08532874060427834, 'random_strength': 6, 'bagging_temperature': 5.606779590589305, 'max_bin': 131, 'grow_policy': 'SymmetricTree', 'min_data_in_leaf': 7, 'max_depth': 3, 'l2_leaf_reg': 89.4273722125489, 'one_hot_max_size': 13}. Best is trial 29 with value: 0.5914240654558663.\n"
          ]
        },
        {
          "output_type": "stream",
          "name": "stdout",
          "text": [
            "F1-Score: 0.589\n",
            "F1-Score: 0.538\n",
            "F1-Score: 0.580\n",
            "F1-Score: 0.560\n",
            "F1-Score: 0.554\n"
          ]
        },
        {
          "output_type": "stream",
          "name": "stderr",
          "text": [
            "[I 2023-11-07 02:33:15,001] Trial 46 finished with value: 0.560620271291669 and parameters: {'iterations': 152, 'learning_rate': 0.024620704608851747, 'random_strength': 7, 'bagging_temperature': 7.689460639267035, 'max_bin': 60, 'grow_policy': 'Depthwise', 'min_data_in_leaf': 10, 'max_depth': 3, 'l2_leaf_reg': 83.47278821403003, 'one_hot_max_size': 9}. Best is trial 29 with value: 0.5914240654558663.\n"
          ]
        },
        {
          "output_type": "stream",
          "name": "stdout",
          "text": [
            "F1-Score: 0.571\n",
            "F1-Score: 0.575\n",
            "F1-Score: 0.599\n",
            "F1-Score: 0.586\n",
            "F1-Score: 0.572\n"
          ]
        },
        {
          "output_type": "stream",
          "name": "stderr",
          "text": [
            "[I 2023-11-07 02:33:17,588] Trial 47 finished with value: 0.5851788615921494 and parameters: {'iterations': 251, 'learning_rate': 0.062011716042102635, 'random_strength': 5, 'bagging_temperature': 7.28277566247158, 'max_bin': 146, 'grow_policy': 'SymmetricTree', 'min_data_in_leaf': 5, 'max_depth': 3, 'l2_leaf_reg': 94.17015228949086, 'one_hot_max_size': 11}. Best is trial 29 with value: 0.5914240654558663.\n"
          ]
        },
        {
          "output_type": "stream",
          "name": "stdout",
          "text": [
            "F1-Score: 0.594\n",
            "F1-Score: 0.575\n",
            "F1-Score: 0.605\n",
            "F1-Score: 0.587\n",
            "F1-Score: 0.569\n"
          ]
        },
        {
          "output_type": "stream",
          "name": "stderr",
          "text": [
            "[I 2023-11-07 02:33:21,096] Trial 48 finished with value: 0.5875623842096342 and parameters: {'iterations': 355, 'learning_rate': 0.05201472624723117, 'random_strength': 2, 'bagging_temperature': 8.011279502966733, 'max_bin': 98, 'grow_policy': 'SymmetricTree', 'min_data_in_leaf': 12, 'max_depth': 3, 'l2_leaf_reg': 86.81978020858176, 'one_hot_max_size': 8}. Best is trial 29 with value: 0.5914240654558663.\n"
          ]
        },
        {
          "output_type": "stream",
          "name": "stdout",
          "text": [
            "F1-Score: 0.601\n",
            "F1-Score: 0.583\n",
            "F1-Score: 0.586\n",
            "F1-Score: 0.575\n",
            "F1-Score: 0.557\n"
          ]
        },
        {
          "output_type": "stream",
          "name": "stderr",
          "text": [
            "[I 2023-11-07 02:33:24,723] Trial 49 finished with value: 0.5765636966736981 and parameters: {'iterations': 321, 'learning_rate': 0.09923691840222909, 'random_strength': 5, 'bagging_temperature': 6.5310200305480475, 'max_bin': 114, 'grow_policy': 'SymmetricTree', 'min_data_in_leaf': 6, 'max_depth': 4, 'l2_leaf_reg': 79.26750851249162, 'one_hot_max_size': 14}. Best is trial 29 with value: 0.5914240654558663.\n"
          ]
        },
        {
          "output_type": "stream",
          "name": "stdout",
          "text": [
            "F1-Score: 0.581\n",
            "F1-Score: 0.563\n",
            "F1-Score: 0.620\n",
            "F1-Score: 0.582\n",
            "F1-Score: 0.569\n"
          ]
        },
        {
          "output_type": "stream",
          "name": "stderr",
          "text": [
            "[I 2023-11-07 02:33:34,643] Trial 50 finished with value: 0.5826129581228467 and parameters: {'iterations': 377, 'learning_rate': 0.011195462665555, 'random_strength': 4, 'bagging_temperature': 5.787245534927616, 'max_bin': 199, 'grow_policy': 'Depthwise', 'min_data_in_leaf': 3, 'max_depth': 5, 'l2_leaf_reg': 92.30006122652604, 'one_hot_max_size': 17}. Best is trial 29 with value: 0.5914240654558663.\n"
          ]
        },
        {
          "output_type": "stream",
          "name": "stdout",
          "text": [
            "F1-Score: 0.580\n",
            "F1-Score: 0.563\n",
            "F1-Score: 0.614\n",
            "F1-Score: 0.589\n",
            "F1-Score: 0.568\n"
          ]
        },
        {
          "output_type": "stream",
          "name": "stderr",
          "text": [
            "[I 2023-11-07 02:33:38,351] Trial 51 finished with value: 0.5831240930744186 and parameters: {'iterations': 292, 'learning_rate': 0.03868887672692117, 'random_strength': 4, 'bagging_temperature': 7.288508807499785, 'max_bin': 83, 'grow_policy': 'SymmetricTree', 'min_data_in_leaf': 9, 'max_depth': 4, 'l2_leaf_reg': 95.79095585079705, 'one_hot_max_size': 6}. Best is trial 29 with value: 0.5914240654558663.\n"
          ]
        },
        {
          "output_type": "stream",
          "name": "stdout",
          "text": [
            "F1-Score: 0.581\n",
            "F1-Score: 0.583\n",
            "F1-Score: 0.619\n",
            "F1-Score: 0.583\n",
            "F1-Score: 0.560\n"
          ]
        },
        {
          "output_type": "stream",
          "name": "stderr",
          "text": [
            "[I 2023-11-07 02:33:40,967] Trial 52 finished with value: 0.5879971171092606 and parameters: {'iterations': 205, 'learning_rate': 0.0780285379250125, 'random_strength': 6, 'bagging_temperature': 7.009828567265975, 'max_bin': 60, 'grow_policy': 'SymmetricTree', 'min_data_in_leaf': 8, 'max_depth': 3, 'l2_leaf_reg': 99.83940831382378, 'one_hot_max_size': 5}. Best is trial 29 with value: 0.5914240654558663.\n"
          ]
        },
        {
          "output_type": "stream",
          "name": "stdout",
          "text": [
            "F1-Score: 0.595\n",
            "F1-Score: 0.576\n",
            "F1-Score: 0.604\n",
            "F1-Score: 0.589\n",
            "F1-Score: 0.574\n"
          ]
        },
        {
          "output_type": "stream",
          "name": "stderr",
          "text": [
            "[I 2023-11-07 02:33:43,235] Trial 53 finished with value: 0.5854838803134144 and parameters: {'iterations': 225, 'learning_rate': 0.07563254944713482, 'random_strength': 6, 'bagging_temperature': 6.911396493005478, 'max_bin': 54, 'grow_policy': 'SymmetricTree', 'min_data_in_leaf': 7, 'max_depth': 3, 'l2_leaf_reg': 89.40752957776594, 'one_hot_max_size': 4}. Best is trial 29 with value: 0.5914240654558663.\n"
          ]
        },
        {
          "output_type": "stream",
          "name": "stdout",
          "text": [
            "F1-Score: 0.585\n",
            "F1-Score: 0.566\n",
            "F1-Score: 0.613\n",
            "F1-Score: 0.577\n",
            "F1-Score: 0.578\n"
          ]
        },
        {
          "output_type": "stream",
          "name": "stderr",
          "text": [
            "[I 2023-11-07 02:33:45,838] Trial 54 finished with value: 0.5804669635855604 and parameters: {'iterations': 263, 'learning_rate': 0.025660701575456475, 'random_strength': 6, 'bagging_temperature': 7.721273300424832, 'max_bin': 67, 'grow_policy': 'SymmetricTree', 'min_data_in_leaf': 11, 'max_depth': 3, 'l2_leaf_reg': 84.99155456788247, 'one_hot_max_size': 9}. Best is trial 29 with value: 0.5914240654558663.\n"
          ]
        },
        {
          "output_type": "stream",
          "name": "stdout",
          "text": [
            "F1-Score: 0.568\n",
            "F1-Score: 0.569\n",
            "F1-Score: 0.597\n",
            "F1-Score: 0.585\n",
            "F1-Score: 0.566\n"
          ]
        },
        {
          "output_type": "stream",
          "name": "stderr",
          "text": [
            "[I 2023-11-07 02:33:54,051] Trial 55 finished with value: 0.5816666751943339 and parameters: {'iterations': 615, 'learning_rate': 0.05305472540146283, 'random_strength': 7, 'bagging_temperature': 6.207539804913008, 'max_bin': 122, 'grow_policy': 'SymmetricTree', 'min_data_in_leaf': 13, 'max_depth': 3, 'l2_leaf_reg': 95.55450886004535, 'one_hot_max_size': 10}. Best is trial 29 with value: 0.5914240654558663.\n"
          ]
        },
        {
          "output_type": "stream",
          "name": "stdout",
          "text": [
            "F1-Score: 0.591\n",
            "F1-Score: 0.573\n",
            "F1-Score: 0.567\n",
            "F1-Score: 0.558\n",
            "F1-Score: 0.545\n"
          ]
        },
        {
          "output_type": "stream",
          "name": "stderr",
          "text": [
            "[I 2023-11-07 02:34:06,509] Trial 56 finished with value: 0.56051192798921 and parameters: {'iterations': 793, 'learning_rate': 0.06571483010459181, 'random_strength': 3, 'bagging_temperature': 6.634256190058424, 'max_bin': 41, 'grow_policy': 'Lossguide', 'min_data_in_leaf': 9, 'max_depth': 3, 'l2_leaf_reg': 90.24248310863187, 'one_hot_max_size': 7}. Best is trial 29 with value: 0.5914240654558663.\n"
          ]
        },
        {
          "output_type": "stream",
          "name": "stdout",
          "text": [
            "F1-Score: 0.559\n",
            "F1-Score: 0.537\n",
            "F1-Score: 0.579\n",
            "F1-Score: 0.553\n",
            "F1-Score: 0.541\n"
          ]
        },
        {
          "output_type": "stream",
          "name": "stderr",
          "text": [
            "[I 2023-11-07 02:34:08,069] Trial 57 finished with value: 0.5540293222821593 and parameters: {'iterations': 124, 'learning_rate': 0.01969226272276029, 'random_strength': 5, 'bagging_temperature': 5.2379576315987855, 'max_bin': 140, 'grow_policy': 'SymmetricTree', 'min_data_in_leaf': 10, 'max_depth': 4, 'l2_leaf_reg': 74.57864610055023, 'one_hot_max_size': 20}. Best is trial 29 with value: 0.5914240654558663.\n"
          ]
        },
        {
          "output_type": "stream",
          "name": "stdout",
          "text": [
            "F1-Score: 0.559\n",
            "F1-Score: 0.569\n",
            "F1-Score: 0.605\n",
            "F1-Score: 0.587\n",
            "F1-Score: 0.568\n"
          ]
        },
        {
          "output_type": "stream",
          "name": "stderr",
          "text": [
            "[I 2023-11-07 02:34:12,936] Trial 58 finished with value: 0.583881033607182 and parameters: {'iterations': 453, 'learning_rate': 0.04758368851225708, 'random_strength': 6, 'bagging_temperature': 7.453943222932132, 'max_bin': 168, 'grow_policy': 'SymmetricTree', 'min_data_in_leaf': 6, 'max_depth': 3, 'l2_leaf_reg': 99.99086350253745, 'one_hot_max_size': 11}. Best is trial 29 with value: 0.5914240654558663.\n"
          ]
        },
        {
          "output_type": "stream",
          "name": "stdout",
          "text": [
            "F1-Score: 0.590\n",
            "F1-Score: 0.576\n",
            "F1-Score: 0.591\n",
            "F1-Score: 0.599\n",
            "F1-Score: 0.570\n"
          ]
        },
        {
          "output_type": "stream",
          "name": "stderr",
          "text": [
            "[I 2023-11-07 02:34:15,735] Trial 59 finished with value: 0.5840499163647991 and parameters: {'iterations': 159, 'learning_rate': 0.08257384469682044, 'random_strength': 2, 'bagging_temperature': 7.855126182031047, 'max_bin': 93, 'grow_policy': 'SymmetricTree', 'min_data_in_leaf': 5, 'max_depth': 3, 'l2_leaf_reg': 77.12532273235749, 'one_hot_max_size': 1}. Best is trial 29 with value: 0.5914240654558663.\n"
          ]
        },
        {
          "output_type": "stream",
          "name": "stdout",
          "text": [
            "F1-Score: 0.585\n",
            "F1-Score: 0.578\n",
            "F1-Score: 0.601\n",
            "F1-Score: 0.556\n",
            "F1-Score: 0.550\n"
          ]
        },
        {
          "output_type": "stream",
          "name": "stderr",
          "text": [
            "[I 2023-11-07 02:34:22,029] Trial 60 finished with value: 0.5676444736703065 and parameters: {'iterations': 558, 'learning_rate': 0.07350519057096405, 'random_strength': 5, 'bagging_temperature': 8.446250814665142, 'max_bin': 104, 'grow_policy': 'SymmetricTree', 'min_data_in_leaf': 13, 'max_depth': 5, 'l2_leaf_reg': 84.0156383116821, 'one_hot_max_size': 3}. Best is trial 29 with value: 0.5914240654558663.\n"
          ]
        },
        {
          "output_type": "stream",
          "name": "stdout",
          "text": [
            "F1-Score: 0.553\n",
            "F1-Score: 0.585\n",
            "F1-Score: 0.614\n",
            "F1-Score: 0.589\n",
            "F1-Score: 0.579\n"
          ]
        },
        {
          "output_type": "stream",
          "name": "stderr",
          "text": [
            "[I 2023-11-07 02:34:24,192] Trial 61 finished with value: 0.5903350764642461 and parameters: {'iterations': 191, 'learning_rate': 0.03844421536692437, 'random_strength': 4, 'bagging_temperature': 7.109933754737805, 'max_bin': 72, 'grow_policy': 'SymmetricTree', 'min_data_in_leaf': 8, 'max_depth': 4, 'l2_leaf_reg': 96.72431454885343, 'one_hot_max_size': 5}. Best is trial 29 with value: 0.5914240654558663.\n"
          ]
        },
        {
          "output_type": "stream",
          "name": "stdout",
          "text": [
            "F1-Score: 0.584\n",
            "F1-Score: 0.588\n",
            "F1-Score: 0.615\n",
            "F1-Score: 0.587\n",
            "F1-Score: 0.568\n"
          ]
        },
        {
          "output_type": "stream",
          "name": "stderr",
          "text": [
            "[I 2023-11-07 02:34:27,739] Trial 62 finished with value: 0.5894734763502033 and parameters: {'iterations': 216, 'learning_rate': 0.05884186571237589, 'random_strength': 4, 'bagging_temperature': 6.9751991551179335, 'max_bin': 105, 'grow_policy': 'SymmetricTree', 'min_data_in_leaf': 8, 'max_depth': 4, 'l2_leaf_reg': 94.2964257776198, 'one_hot_max_size': 6}. Best is trial 29 with value: 0.5914240654558663.\n"
          ]
        },
        {
          "output_type": "stream",
          "name": "stdout",
          "text": [
            "F1-Score: 0.590\n",
            "F1-Score: 0.583\n",
            "F1-Score: 0.619\n",
            "F1-Score: 0.580\n",
            "F1-Score: 0.575\n"
          ]
        },
        {
          "output_type": "stream",
          "name": "stderr",
          "text": [
            "[I 2023-11-07 02:34:30,340] Trial 63 finished with value: 0.5882592126526871 and parameters: {'iterations': 235, 'learning_rate': 0.02405838052531991, 'random_strength': 3, 'bagging_temperature': 6.578404008715862, 'max_bin': 111, 'grow_policy': 'SymmetricTree', 'min_data_in_leaf': 9, 'max_depth': 4, 'l2_leaf_reg': 95.63582252827204, 'one_hot_max_size': 8}. Best is trial 29 with value: 0.5914240654558663.\n"
          ]
        },
        {
          "output_type": "stream",
          "name": "stdout",
          "text": [
            "F1-Score: 0.585\n",
            "F1-Score: 0.581\n",
            "F1-Score: 0.612\n",
            "F1-Score: 0.585\n",
            "F1-Score: 0.569\n"
          ]
        },
        {
          "output_type": "stream",
          "name": "stderr",
          "text": [
            "[I 2023-11-07 02:34:34,549] Trial 64 finished with value: 0.5843458228569298 and parameters: {'iterations': 287, 'learning_rate': 0.022256079013449035, 'random_strength': 3, 'bagging_temperature': 7.465796947258611, 'max_bin': 245, 'grow_policy': 'SymmetricTree', 'min_data_in_leaf': 9, 'max_depth': 6, 'l2_leaf_reg': 95.93886537833009, 'one_hot_max_size': 6}. Best is trial 29 with value: 0.5914240654558663.\n"
          ]
        },
        {
          "output_type": "stream",
          "name": "stdout",
          "text": [
            "F1-Score: 0.574\n",
            "F1-Score: 0.581\n",
            "F1-Score: 0.605\n",
            "F1-Score: 0.592\n",
            "F1-Score: 0.560\n"
          ]
        },
        {
          "output_type": "stream",
          "name": "stderr",
          "text": [
            "[I 2023-11-07 02:34:37,146] Trial 65 finished with value: 0.5835657815664245 and parameters: {'iterations': 232, 'learning_rate': 0.058129401515131476, 'random_strength': 3, 'bagging_temperature': 6.611893896856621, 'max_bin': 107, 'grow_policy': 'SymmetricTree', 'min_data_in_leaf': 11, 'max_depth': 4, 'l2_leaf_reg': 87.91746052601479, 'one_hot_max_size': 8}. Best is trial 29 with value: 0.5914240654558663.\n"
          ]
        },
        {
          "output_type": "stream",
          "name": "stdout",
          "text": [
            "F1-Score: 0.580\n",
            "F1-Score: 0.566\n",
            "F1-Score: 0.613\n",
            "F1-Score: 0.598\n",
            "F1-Score: 0.567\n"
          ]
        },
        {
          "output_type": "stream",
          "name": "stderr",
          "text": [
            "[I 2023-11-07 02:34:42,921] Trial 66 finished with value: 0.5843866649014913 and parameters: {'iterations': 179, 'learning_rate': 0.03215196367230174, 'random_strength': 4, 'bagging_temperature': 7.041847614256223, 'max_bin': 126, 'grow_policy': 'Lossguide', 'min_data_in_leaf': 10, 'max_depth': 5, 'l2_leaf_reg': 96.04473478377871, 'one_hot_max_size': 4}. Best is trial 29 with value: 0.5914240654558663.\n"
          ]
        },
        {
          "output_type": "stream",
          "name": "stdout",
          "text": [
            "F1-Score: 0.578\n",
            "F1-Score: 0.545\n",
            "F1-Score: 0.602\n",
            "F1-Score: 0.571\n",
            "F1-Score: 0.571\n"
          ]
        },
        {
          "output_type": "stream",
          "name": "stderr",
          "text": [
            "[I 2023-11-07 02:34:46,353] Trial 67 finished with value: 0.5726327276239725 and parameters: {'iterations': 320, 'learning_rate': 0.01027132032986841, 'random_strength': 3, 'bagging_temperature': 7.458919127667389, 'max_bin': 100, 'grow_policy': 'SymmetricTree', 'min_data_in_leaf': 8, 'max_depth': 4, 'l2_leaf_reg': 82.17460337869863, 'one_hot_max_size': 7}. Best is trial 29 with value: 0.5914240654558663.\n"
          ]
        },
        {
          "output_type": "stream",
          "name": "stdout",
          "text": [
            "F1-Score: 0.574\n",
            "F1-Score: 0.575\n",
            "F1-Score: 0.600\n",
            "F1-Score: 0.578\n",
            "F1-Score: 0.570\n"
          ]
        },
        {
          "output_type": "stream",
          "name": "stderr",
          "text": [
            "[I 2023-11-07 02:34:52,298] Trial 68 finished with value: 0.5817158750573121 and parameters: {'iterations': 400, 'learning_rate': 0.04452893605101301, 'random_strength': 2, 'bagging_temperature': 7.999935137137523, 'max_bin': 180, 'grow_policy': 'SymmetricTree', 'min_data_in_leaf': 7, 'max_depth': 5, 'l2_leaf_reg': 91.448090009679, 'one_hot_max_size': 5}. Best is trial 29 with value: 0.5914240654558663.\n"
          ]
        },
        {
          "output_type": "stream",
          "name": "stdout",
          "text": [
            "F1-Score: 0.586\n",
            "F1-Score: 0.543\n",
            "F1-Score: 0.605\n",
            "F1-Score: 0.552\n",
            "F1-Score: 0.561\n"
          ]
        },
        {
          "output_type": "stream",
          "name": "stderr",
          "text": [
            "[I 2023-11-07 02:34:54,141] Trial 69 finished with value: 0.5663813084778645 and parameters: {'iterations': 143, 'learning_rate': 0.021936215901780118, 'random_strength': 4, 'bagging_temperature': 6.787520158730181, 'max_bin': 222, 'grow_policy': 'SymmetricTree', 'min_data_in_leaf': 9, 'max_depth': 4, 'l2_leaf_reg': 86.77813757849555, 'one_hot_max_size': 6}. Best is trial 29 with value: 0.5914240654558663.\n"
          ]
        },
        {
          "output_type": "stream",
          "name": "stdout",
          "text": [
            "F1-Score: 0.571\n",
            "F1-Score: 0.572\n",
            "F1-Score: 0.613\n",
            "F1-Score: 0.582\n",
            "F1-Score: 0.576\n"
          ]
        },
        {
          "output_type": "stream",
          "name": "stderr",
          "text": [
            "[I 2023-11-07 02:34:55,435] Trial 70 finished with value: 0.5857420492187402 and parameters: {'iterations': 102, 'learning_rate': 0.06031404747240993, 'random_strength': 4, 'bagging_temperature': 6.352185920456144, 'max_bin': 157, 'grow_policy': 'SymmetricTree', 'min_data_in_leaf': 13, 'max_depth': 4, 'l2_leaf_reg': 78.42150904830602, 'one_hot_max_size': 3}. Best is trial 29 with value: 0.5914240654558663.\n"
          ]
        },
        {
          "output_type": "stream",
          "name": "stdout",
          "text": [
            "F1-Score: 0.585\n",
            "F1-Score: 0.585\n",
            "F1-Score: 0.618\n",
            "F1-Score: 0.596\n",
            "F1-Score: 0.575\n"
          ]
        },
        {
          "output_type": "stream",
          "name": "stderr",
          "text": [
            "[I 2023-11-07 02:34:58,124] Trial 71 finished with value: 0.5920976826688358 and parameters: {'iterations': 248, 'learning_rate': 0.03690782449116514, 'random_strength': 5, 'bagging_temperature': 6.055059023394158, 'max_bin': 87, 'grow_policy': 'SymmetricTree', 'min_data_in_leaf': 6, 'max_depth': 4, 'l2_leaf_reg': 93.20888317568532, 'one_hot_max_size': 9}. Best is trial 71 with value: 0.5920976826688358.\n"
          ]
        },
        {
          "output_type": "stream",
          "name": "stdout",
          "text": [
            "F1-Score: 0.587\n",
            "F1-Score: 0.582\n",
            "F1-Score: 0.619\n",
            "F1-Score: 0.595\n",
            "F1-Score: 0.566\n"
          ]
        },
        {
          "output_type": "stream",
          "name": "stderr",
          "text": [
            "[I 2023-11-07 02:35:00,565] Trial 72 finished with value: 0.5890947438562135 and parameters: {'iterations': 228, 'learning_rate': 0.04888792228685382, 'random_strength': 5, 'bagging_temperature': 6.655336551876483, 'max_bin': 72, 'grow_policy': 'SymmetricTree', 'min_data_in_leaf': 7, 'max_depth': 4, 'l2_leaf_reg': 94.58355524187046, 'one_hot_max_size': 8}. Best is trial 71 with value: 0.5920976826688358.\n"
          ]
        },
        {
          "output_type": "stream",
          "name": "stdout",
          "text": [
            "F1-Score: 0.584\n",
            "F1-Score: 0.578\n",
            "F1-Score: 0.612\n",
            "F1-Score: 0.585\n",
            "F1-Score: 0.569\n"
          ]
        },
        {
          "output_type": "stream",
          "name": "stderr",
          "text": [
            "[I 2023-11-07 02:35:04,592] Trial 73 finished with value: 0.585112847501062 and parameters: {'iterations': 274, 'learning_rate': 0.04856189985265236, 'random_strength': 5, 'bagging_temperature': 7.142980595780919, 'max_bin': 80, 'grow_policy': 'SymmetricTree', 'min_data_in_leaf': 7, 'max_depth': 4, 'l2_leaf_reg': 91.73989795116606, 'one_hot_max_size': 10}. Best is trial 71 with value: 0.5920976826688358.\n"
          ]
        },
        {
          "output_type": "stream",
          "name": "stdout",
          "text": [
            "F1-Score: 0.582\n",
            "F1-Score: 0.586\n",
            "F1-Score: 0.621\n",
            "F1-Score: 0.580\n",
            "F1-Score: 0.574\n"
          ]
        },
        {
          "output_type": "stream",
          "name": "stderr",
          "text": [
            "[I 2023-11-07 02:35:06,692] Trial 74 finished with value: 0.5878126937341006 and parameters: {'iterations': 172, 'learning_rate': 0.035239217801486415, 'random_strength': 5, 'bagging_temperature': 7.581388751865501, 'max_bin': 75, 'grow_policy': 'SymmetricTree', 'min_data_in_leaf': 8, 'max_depth': 5, 'l2_leaf_reg': 93.48378604927314, 'one_hot_max_size': 7}. Best is trial 71 with value: 0.5920976826688358.\n"
          ]
        },
        {
          "output_type": "stream",
          "name": "stdout",
          "text": [
            "F1-Score: 0.578\n",
            "F1-Score: 0.578\n",
            "F1-Score: 0.612\n",
            "F1-Score: 0.590\n",
            "F1-Score: 0.570\n"
          ]
        },
        {
          "output_type": "stream",
          "name": "stderr",
          "text": [
            "[I 2023-11-07 02:35:08,818] Trial 75 finished with value: 0.5879149005260036 and parameters: {'iterations': 203, 'learning_rate': 0.045659161462468324, 'random_strength': 4, 'bagging_temperature': 6.808711506135031, 'max_bin': 68, 'grow_policy': 'SymmetricTree', 'min_data_in_leaf': 7, 'max_depth': 3, 'l2_leaf_reg': 88.8613645659198, 'one_hot_max_size': 8}. Best is trial 71 with value: 0.5920976826688358.\n"
          ]
        },
        {
          "output_type": "stream",
          "name": "stdout",
          "text": [
            "F1-Score: 0.590\n",
            "F1-Score: 0.562\n",
            "F1-Score: 0.586\n",
            "F1-Score: 0.575\n",
            "F1-Score: 0.568\n"
          ]
        },
        {
          "output_type": "stream",
          "name": "stderr",
          "text": [
            "[I 2023-11-07 02:35:12,777] Trial 76 finished with value: 0.5704703054495581 and parameters: {'iterations': 313, 'learning_rate': 0.06997836600533057, 'random_strength': 5, 'bagging_temperature': 6.216335705323198, 'max_bin': 84, 'grow_policy': 'SymmetricTree', 'min_data_in_leaf': 6, 'max_depth': 6, 'l2_leaf_reg': 97.38793235418362, 'one_hot_max_size': 13}. Best is trial 71 with value: 0.5920976826688358.\n"
          ]
        },
        {
          "output_type": "stream",
          "name": "stdout",
          "text": [
            "F1-Score: 0.562\n",
            "F1-Score: 0.580\n",
            "F1-Score: 0.602\n",
            "F1-Score: 0.590\n",
            "F1-Score: 0.578\n"
          ]
        },
        {
          "output_type": "stream",
          "name": "stderr",
          "text": [
            "[I 2023-11-07 02:35:20,315] Trial 77 finished with value: 0.5881278382711141 and parameters: {'iterations': 372, 'learning_rate': 0.032525026635204304, 'random_strength': 5, 'bagging_temperature': 5.798958576133433, 'max_bin': 244, 'grow_policy': 'Depthwise', 'min_data_in_leaf': 4, 'max_depth': 4, 'l2_leaf_reg': 86.78457241051862, 'one_hot_max_size': 4}. Best is trial 71 with value: 0.5920976826688358.\n"
          ]
        },
        {
          "output_type": "stream",
          "name": "stdout",
          "text": [
            "F1-Score: 0.591\n",
            "F1-Score: 0.564\n",
            "F1-Score: 0.607\n",
            "F1-Score: 0.585\n",
            "F1-Score: 0.560\n"
          ]
        },
        {
          "output_type": "stream",
          "name": "stderr",
          "text": [
            "[I 2023-11-07 02:35:22,705] Trial 78 finished with value: 0.5834742159535525 and parameters: {'iterations': 243, 'learning_rate': 0.05249589557929071, 'random_strength': 4, 'bagging_temperature': 6.9695235068765164, 'max_bin': 25, 'grow_policy': 'SymmetricTree', 'min_data_in_leaf': 5, 'max_depth': 3, 'l2_leaf_reg': 81.67147849364359, 'one_hot_max_size': 9}. Best is trial 71 with value: 0.5920976826688358.\n"
          ]
        },
        {
          "output_type": "stream",
          "name": "stdout",
          "text": [
            "F1-Score: 0.601\n",
            "F1-Score: 0.582\n",
            "F1-Score: 0.612\n",
            "F1-Score: 0.598\n",
            "F1-Score: 0.566\n"
          ]
        },
        {
          "output_type": "stream",
          "name": "stderr",
          "text": [
            "[I 2023-11-07 02:35:27,449] Trial 79 finished with value: 0.5906419382734253 and parameters: {'iterations': 194, 'learning_rate': 0.06016510784324255, 'random_strength': 6, 'bagging_temperature': 7.240241275326147, 'max_bin': 90, 'grow_policy': 'Lossguide', 'min_data_in_leaf': 8, 'max_depth': 4, 'l2_leaf_reg': 96.96983889827821, 'one_hot_max_size': 11}. Best is trial 71 with value: 0.5920976826688358.\n"
          ]
        },
        {
          "output_type": "stream",
          "name": "stdout",
          "text": [
            "F1-Score: 0.596\n",
            "F1-Score: 0.560\n",
            "F1-Score: 0.598\n",
            "F1-Score: 0.568\n",
            "F1-Score: 0.564\n"
          ]
        },
        {
          "output_type": "stream",
          "name": "stderr",
          "text": [
            "[I 2023-11-07 02:35:33,088] Trial 80 finished with value: 0.5732996785038694 and parameters: {'iterations': 196, 'learning_rate': 0.017296676699990465, 'random_strength': 6, 'bagging_temperature': 7.697119973869762, 'max_bin': 73, 'grow_policy': 'Lossguide', 'min_data_in_leaf': 8, 'max_depth': 7, 'l2_leaf_reg': 97.30217107244714, 'one_hot_max_size': 13}. Best is trial 71 with value: 0.5920976826688358.\n"
          ]
        },
        {
          "output_type": "stream",
          "name": "stdout",
          "text": [
            "F1-Score: 0.576\n",
            "F1-Score: 0.579\n",
            "F1-Score: 0.615\n",
            "F1-Score: 0.600\n",
            "F1-Score: 0.561\n"
          ]
        },
        {
          "output_type": "stream",
          "name": "stderr",
          "text": [
            "[I 2023-11-07 02:35:38,377] Trial 81 finished with value: 0.5878778840766092 and parameters: {'iterations': 271, 'learning_rate': 0.061506098777731874, 'random_strength': 5, 'bagging_temperature': 7.258964293322823, 'max_bin': 90, 'grow_policy': 'Lossguide', 'min_data_in_leaf': 7, 'max_depth': 4, 'l2_leaf_reg': 93.38784968455745, 'one_hot_max_size': 11}. Best is trial 71 with value: 0.5920976826688358.\n"
          ]
        },
        {
          "output_type": "stream",
          "name": "stdout",
          "text": [
            "F1-Score: 0.585\n",
            "F1-Score: 0.576\n",
            "F1-Score: 0.616\n",
            "F1-Score: 0.591\n",
            "F1-Score: 0.584\n"
          ]
        },
        {
          "output_type": "stream",
          "name": "stderr",
          "text": [
            "[I 2023-11-07 02:35:43,502] Trial 82 finished with value: 0.5906565605402846 and parameters: {'iterations': 219, 'learning_rate': 0.04192206800952575, 'random_strength': 5, 'bagging_temperature': 6.7551169822362995, 'max_bin': 103, 'grow_policy': 'Lossguide', 'min_data_in_leaf': 6, 'max_depth': 4, 'l2_leaf_reg': 89.91850837924372, 'one_hot_max_size': 10}. Best is trial 71 with value: 0.5920976826688358.\n"
          ]
        },
        {
          "output_type": "stream",
          "name": "stdout",
          "text": [
            "F1-Score: 0.586\n",
            "F1-Score: 0.579\n",
            "F1-Score: 0.607\n",
            "F1-Score: 0.601\n",
            "F1-Score: 0.577\n"
          ]
        },
        {
          "output_type": "stream",
          "name": "stderr",
          "text": [
            "[I 2023-11-07 02:35:48,900] Trial 83 finished with value: 0.5903625594641329 and parameters: {'iterations': 222, 'learning_rate': 0.03930889952747772, 'random_strength': 4, 'bagging_temperature': 6.4182976955679, 'max_bin': 101, 'grow_policy': 'Lossguide', 'min_data_in_leaf': 6, 'max_depth': 5, 'l2_leaf_reg': 90.80459195625818, 'one_hot_max_size': 12}. Best is trial 71 with value: 0.5920976826688358.\n"
          ]
        },
        {
          "output_type": "stream",
          "name": "stdout",
          "text": [
            "F1-Score: 0.589\n",
            "F1-Score: 0.590\n",
            "F1-Score: 0.608\n",
            "F1-Score: 0.585\n",
            "F1-Score: 0.566\n"
          ]
        },
        {
          "output_type": "stream",
          "name": "stderr",
          "text": [
            "[I 2023-11-07 02:35:52,691] Trial 84 finished with value: 0.5873214659972508 and parameters: {'iterations': 128, 'learning_rate': 0.03971276368826038, 'random_strength': 4, 'bagging_temperature': 6.007790690589198, 'max_bin': 100, 'grow_policy': 'Lossguide', 'min_data_in_leaf': 6, 'max_depth': 4, 'l2_leaf_reg': 90.01030856024931, 'one_hot_max_size': 10}. Best is trial 71 with value: 0.5920976826688358.\n"
          ]
        },
        {
          "output_type": "stream",
          "name": "stdout",
          "text": [
            "F1-Score: 0.589\n",
            "F1-Score: 0.566\n",
            "F1-Score: 0.614\n",
            "F1-Score: 0.591\n",
            "F1-Score: 0.556\n"
          ]
        },
        {
          "output_type": "stream",
          "name": "stderr",
          "text": [
            "[I 2023-11-07 02:35:57,936] Trial 85 finished with value: 0.5824740405519084 and parameters: {'iterations': 222, 'learning_rate': 0.027201013445879756, 'random_strength': 6, 'bagging_temperature': 6.346391208948283, 'max_bin': 62, 'grow_policy': 'Lossguide', 'min_data_in_leaf': 5, 'max_depth': 5, 'l2_leaf_reg': 97.11726245024553, 'one_hot_max_size': 12}. Best is trial 71 with value: 0.5920976826688358.\n"
          ]
        },
        {
          "output_type": "stream",
          "name": "stdout",
          "text": [
            "F1-Score: 0.585\n",
            "F1-Score: 0.565\n",
            "F1-Score: 0.595\n",
            "F1-Score: 0.581\n",
            "F1-Score: 0.554\n"
          ]
        },
        {
          "output_type": "stream",
          "name": "stderr",
          "text": [
            "[I 2023-11-07 02:36:01,908] Trial 86 finished with value: 0.5737414330780639 and parameters: {'iterations': 163, 'learning_rate': 0.06775118773631336, 'random_strength': 4, 'bagging_temperature': 6.638397445777404, 'max_bin': 87, 'grow_policy': 'Lossguide', 'min_data_in_leaf': 6, 'max_depth': 5, 'l2_leaf_reg': 93.85007101495084, 'one_hot_max_size': 6}. Best is trial 71 with value: 0.5920976826688358.\n"
          ]
        },
        {
          "output_type": "stream",
          "name": "stdout",
          "text": [
            "F1-Score: 0.573\n",
            "F1-Score: 0.575\n",
            "F1-Score: 0.620\n",
            "F1-Score: 0.583\n",
            "F1-Score: 0.576\n"
          ]
        },
        {
          "output_type": "stream",
          "name": "stderr",
          "text": [
            "[I 2023-11-07 02:36:08,053] Trial 87 finished with value: 0.5866374046274249 and parameters: {'iterations': 194, 'learning_rate': 0.035190642475041216, 'random_strength': 5, 'bagging_temperature': 6.462101983164098, 'max_bin': 135, 'grow_policy': 'Lossguide', 'min_data_in_leaf': 8, 'max_depth': 5, 'l2_leaf_reg': 97.75596378229997, 'one_hot_max_size': 15}. Best is trial 71 with value: 0.5920976826688358.\n"
          ]
        },
        {
          "output_type": "stream",
          "name": "stdout",
          "text": [
            "F1-Score: 0.579\n",
            "F1-Score: 0.572\n",
            "F1-Score: 0.617\n",
            "F1-Score: 0.597\n",
            "F1-Score: 0.573\n"
          ]
        },
        {
          "output_type": "stream",
          "name": "stderr",
          "text": [
            "[I 2023-11-07 02:36:13,757] Trial 88 finished with value: 0.5893760746941465 and parameters: {'iterations': 296, 'learning_rate': 0.028661451046740165, 'random_strength': 5, 'bagging_temperature': 6.773381109548096, 'max_bin': 116, 'grow_policy': 'Lossguide', 'min_data_in_leaf': 3, 'max_depth': 4, 'l2_leaf_reg': 91.16604371316404, 'one_hot_max_size': 11}. Best is trial 71 with value: 0.5920976826688358.\n"
          ]
        },
        {
          "output_type": "stream",
          "name": "stdout",
          "text": [
            "F1-Score: 0.587\n",
            "F1-Score: 0.564\n",
            "F1-Score: 0.610\n",
            "F1-Score: 0.584\n",
            "F1-Score: 0.572\n"
          ]
        },
        {
          "output_type": "stream",
          "name": "stderr",
          "text": [
            "[I 2023-11-07 02:36:19,815] Trial 89 finished with value: 0.581720988280283 and parameters: {'iterations': 253, 'learning_rate': 0.015945939800903797, 'random_strength': 6, 'bagging_temperature': 6.841676683557313, 'max_bin': 117, 'grow_policy': 'Lossguide', 'min_data_in_leaf': 1, 'max_depth': 4, 'l2_leaf_reg': 91.23140086008473, 'one_hot_max_size': 11}. Best is trial 71 with value: 0.5920976826688358.\n"
          ]
        },
        {
          "output_type": "stream",
          "name": "stdout",
          "text": [
            "F1-Score: 0.578\n",
            "F1-Score: 0.586\n",
            "F1-Score: 0.596\n",
            "F1-Score: 0.571\n",
            "F1-Score: 0.562\n"
          ]
        },
        {
          "output_type": "stream",
          "name": "stderr",
          "text": [
            "[I 2023-11-07 02:36:28,184] Trial 90 finished with value: 0.5815544844290534 and parameters: {'iterations': 294, 'learning_rate': 0.04205219576122758, 'random_strength': 4, 'bagging_temperature': 6.118143753094538, 'max_bin': 121, 'grow_policy': 'Lossguide', 'min_data_in_leaf': 3, 'max_depth': 5, 'l2_leaf_reg': 86.25219561827441, 'one_hot_max_size': 12}. Best is trial 71 with value: 0.5920976826688358.\n"
          ]
        },
        {
          "output_type": "stream",
          "name": "stdout",
          "text": [
            "F1-Score: 0.593\n",
            "F1-Score: 0.574\n",
            "F1-Score: 0.619\n",
            "F1-Score: 0.588\n",
            "F1-Score: 0.554\n"
          ]
        },
        {
          "output_type": "stream",
          "name": "stderr",
          "text": [
            "[I 2023-11-07 02:36:32,493] Trial 91 finished with value: 0.584382528940556 and parameters: {'iterations': 223, 'learning_rate': 0.049681451049730554, 'random_strength': 5, 'bagging_temperature': 7.009958031850072, 'max_bin': 97, 'grow_policy': 'Lossguide', 'min_data_in_leaf': 4, 'max_depth': 4, 'l2_leaf_reg': 94.29547500370292, 'one_hot_max_size': 9}. Best is trial 71 with value: 0.5920976826688358.\n"
          ]
        },
        {
          "output_type": "stream",
          "name": "stdout",
          "text": [
            "F1-Score: 0.588\n",
            "F1-Score: 0.573\n",
            "F1-Score: 0.619\n",
            "F1-Score: 0.588\n",
            "F1-Score: 0.579\n"
          ]
        },
        {
          "output_type": "stream",
          "name": "stderr",
          "text": [
            "[I 2023-11-07 02:36:36,096] Trial 92 finished with value: 0.5879372148434562 and parameters: {'iterations': 179, 'learning_rate': 0.029184146545758117, 'random_strength': 5, 'bagging_temperature': 6.712367902644135, 'max_bin': 105, 'grow_policy': 'Lossguide', 'min_data_in_leaf': 3, 'max_depth': 4, 'l2_leaf_reg': 90.987098639525, 'one_hot_max_size': 7}. Best is trial 71 with value: 0.5920976826688358.\n"
          ]
        },
        {
          "output_type": "stream",
          "name": "stdout",
          "text": [
            "F1-Score: 0.580\n",
            "F1-Score: 0.592\n",
            "F1-Score: 0.599\n",
            "F1-Score: 0.591\n",
            "F1-Score: 0.568\n"
          ]
        },
        {
          "output_type": "stream",
          "name": "stderr",
          "text": [
            "[I 2023-11-07 02:36:41,363] Trial 93 finished with value: 0.588557912602867 and parameters: {'iterations': 209, 'learning_rate': 0.05959276900109435, 'random_strength': 4, 'bagging_temperature': 7.276911093564418, 'max_bin': 91, 'grow_policy': 'Lossguide', 'min_data_in_leaf': 2, 'max_depth': 4, 'l2_leaf_reg': 97.81301247423607, 'one_hot_max_size': 12}. Best is trial 71 with value: 0.5920976826688358.\n"
          ]
        },
        {
          "output_type": "stream",
          "name": "stdout",
          "text": [
            "F1-Score: 0.592\n",
            "F1-Score: 0.575\n",
            "F1-Score: 0.609\n",
            "F1-Score: 0.593\n",
            "F1-Score: 0.577\n"
          ]
        },
        {
          "output_type": "stream",
          "name": "stderr",
          "text": [
            "[I 2023-11-07 02:36:45,875] Trial 94 finished with value: 0.5877187403965982 and parameters: {'iterations': 240, 'learning_rate': 0.03594083589279521, 'random_strength': 5, 'bagging_temperature': 6.3237210348597594, 'max_bin': 79, 'grow_policy': 'Lossguide', 'min_data_in_leaf': 20, 'max_depth': 4, 'l2_leaf_reg': 88.8689928396868, 'one_hot_max_size': 11}. Best is trial 71 with value: 0.5920976826688358.\n"
          ]
        },
        {
          "output_type": "stream",
          "name": "stdout",
          "text": [
            "F1-Score: 0.584\n",
            "F1-Score: 0.575\n",
            "F1-Score: 0.597\n",
            "F1-Score: 0.591\n",
            "F1-Score: 0.578\n"
          ]
        },
        {
          "output_type": "stream",
          "name": "stderr",
          "text": [
            "[I 2023-11-07 02:36:52,776] Trial 95 finished with value: 0.5840764562259062 and parameters: {'iterations': 298, 'learning_rate': 0.0440934218919107, 'random_strength': 6, 'bagging_temperature': 5.914367228213683, 'max_bin': 114, 'grow_policy': 'Lossguide', 'min_data_in_leaf': 8, 'max_depth': 4, 'l2_leaf_reg': 99.66175629068563, 'one_hot_max_size': 10}. Best is trial 71 with value: 0.5920976826688358.\n"
          ]
        },
        {
          "output_type": "stream",
          "name": "stdout",
          "text": [
            "F1-Score: 0.580\n",
            "F1-Score: 0.574\n",
            "F1-Score: 0.602\n",
            "F1-Score: 0.577\n",
            "F1-Score: 0.557\n"
          ]
        },
        {
          "output_type": "stream",
          "name": "stderr",
          "text": [
            "[I 2023-11-07 02:36:56,332] Trial 96 finished with value: 0.5765052467097694 and parameters: {'iterations': 146, 'learning_rate': 0.027363279941518874, 'random_strength': 7, 'bagging_temperature': 6.525584010376843, 'max_bin': 55, 'grow_policy': 'Lossguide', 'min_data_in_leaf': 5, 'max_depth': 5, 'l2_leaf_reg': 93.94832443556709, 'one_hot_max_size': 9}. Best is trial 71 with value: 0.5920976826688358.\n"
          ]
        },
        {
          "output_type": "stream",
          "name": "stdout",
          "text": [
            "F1-Score: 0.573\n",
            "F1-Score: 0.560\n",
            "F1-Score: 0.571\n",
            "F1-Score: 0.573\n",
            "F1-Score: 0.555\n"
          ]
        },
        {
          "output_type": "stream",
          "name": "stderr",
          "text": [
            "[I 2023-11-07 02:37:07,839] Trial 97 finished with value: 0.5671967448847974 and parameters: {'iterations': 341, 'learning_rate': 0.050623709164260663, 'random_strength': 5, 'bagging_temperature': 6.944410141927191, 'max_bin': 102, 'grow_policy': 'Lossguide', 'min_data_in_leaf': 6, 'max_depth': 10, 'l2_leaf_reg': 84.98583608520997, 'one_hot_max_size': 13}. Best is trial 71 with value: 0.5920976826688358.\n"
          ]
        },
        {
          "output_type": "stream",
          "name": "stdout",
          "text": [
            "F1-Score: 0.577\n",
            "F1-Score: 0.577\n",
            "F1-Score: 0.601\n",
            "F1-Score: 0.590\n",
            "F1-Score: 0.580\n"
          ]
        },
        {
          "output_type": "stream",
          "name": "stderr",
          "text": [
            "[I 2023-11-07 02:37:12,826] Trial 98 finished with value: 0.5870826047108493 and parameters: {'iterations': 253, 'learning_rate': 0.055307416364442, 'random_strength': 4, 'bagging_temperature': 7.588878374174271, 'max_bin': 95, 'grow_policy': 'Lossguide', 'min_data_in_leaf': 7, 'max_depth': 4, 'l2_leaf_reg': 88.41592270052574, 'one_hot_max_size': 14}. Best is trial 71 with value: 0.5920976826688358.\n"
          ]
        },
        {
          "output_type": "stream",
          "name": "stdout",
          "text": [
            "F1-Score: 0.587\n",
            "F1-Score: 0.574\n",
            "F1-Score: 0.620\n",
            "F1-Score: 0.586\n",
            "F1-Score: 0.565\n"
          ]
        },
        {
          "output_type": "stream",
          "name": "stderr",
          "text": [
            "[I 2023-11-07 02:37:17,464] Trial 99 finished with value: 0.5835220532622428 and parameters: {'iterations': 209, 'learning_rate': 0.0396522912301738, 'random_strength': 6, 'bagging_temperature': 6.727928874488144, 'max_bin': 123, 'grow_policy': 'Depthwise', 'min_data_in_leaf': 5, 'max_depth': 4, 'l2_leaf_reg': 95.51487324592036, 'one_hot_max_size': 5}. Best is trial 71 with value: 0.5920976826688358.\n"
          ]
        },
        {
          "output_type": "stream",
          "name": "stdout",
          "text": [
            "F1-Score: 0.573\n",
            "Number of finished trials: 100\n",
            "Best trial for time spend: {'iterations': 248, 'learning_rate': 0.03690782449116514, 'random_strength': 5, 'bagging_temperature': 6.055059023394158, 'max_bin': 87, 'grow_policy': 'SymmetricTree', 'min_data_in_leaf': 6, 'max_depth': 4, 'l2_leaf_reg': 93.20888317568532, 'one_hot_max_size': 9}\n"
          ]
        }
      ]
    },
    {
      "cell_type": "code",
      "source": [
        "  # {'iterations': 155, 'depth': 5, 'learning_rate': 0.07209297165801104, 'l2_leaf_reg': 70.34317099027419, 'bagging_temperature': 0.13843614307728835}\n",
        "  # {'iterations': 513, 'learning_rate': 0.02667564654663807, 'random_strength': 1, 'bagging_temperature': 1.1762981067497575, 'max_bin': 21, 'grow_policy': 'SymmetricTree', 'min_data_in_leaf': 11, 'max_depth': 3, 'l2_leaf_reg': 4.709401984486615, 'one_hot_max_size': 4, 'auto_class_weights': None}\n",
        "  # Best trial for time spend: {'iterations': 205, 'learning_rate': 0.07231664731529798, 'random_strength': 8, 'bagging_temperature': 7.797561481342484, 'max_bin': 115, 'grow_policy': 'Depthwise', 'min_data_in_leaf': 3, 'max_depth': 3, 'l2_leaf_reg': 86.34289981194225, 'one_hot_max_size': 6}\n",
        "  # {'iterations': 272, 'learning_rate': 0.04964259271084489, 'random_strength': 7, 'bagging_temperature': 4.014026991836339, 'max_bin': 196, 'grow_policy': 'SymmetricTree', 'min_data_in_leaf': 13, 'max_depth': 9, 'l2_leaf_reg': 83.18671383674516, 'one_hot_max_size': 13, 'auto_class_weights': 'Balanced'}"
      ],
      "metadata": {
        "id": "FCIB6gzBmrTV"
      },
      "execution_count": null,
      "outputs": []
    },
    {
      "cell_type": "markdown",
      "source": [
        "\n",
        "# **Temporary**\n"
      ],
      "metadata": {
        "id": "I_F22srY51U6"
      }
    },
    {
      "cell_type": "code",
      "source": [
        "# for i in range(1, X_test.shape[1] + 1):\n",
        "#     # Select the top k features based on importance\n",
        "#     k = i\n",
        "#     selected_features = feature_importance.head(k)['Feature'].tolist()\n",
        "#     X_selected = X_train[selected_features]\n",
        "#     score = kfold_cv(model, X_selected, y_train)\n",
        "\n",
        "#     print(f\"Accuracy: {score} --> Selected features: {selected_features}\")"
      ],
      "metadata": {
        "id": "8SYA2y8456yM"
      },
      "execution_count": null,
      "outputs": []
    },
    {
      "cell_type": "code",
      "source": [
        "# # Find all subset\n",
        "# from itertools import combinations\n",
        "\n",
        "# def find_subsets(input_list):\n",
        "#     subsets = []\n",
        "#     for i in range(len(input_list) + 1):\n",
        "#         for combo in combinations(input_list, i):\n",
        "#             subsets.append(list(combo))\n",
        "#     return subsets\n",
        "\n",
        "# # Example usage:\n",
        "# all_subsets = find_subsets(X_train.columns)\n",
        "\n",
        "# model = LogisticRegression(random_state=42)\n",
        "# best_score = 0\n",
        "# best_feature = []\n",
        "# for selected_features in all_subsets[1:]:\n",
        "#     X_selected = X_train[selected_features]\n",
        "#     score = kfold_cv(model, X_selected, y_train)\n",
        "#     if (score > best_score):\n",
        "#       best_score = score\n",
        "#       best_feature = selected_features\n",
        "#     print(f\"Accuracy: {score} --> Selected features: {selected_features}\")"
      ],
      "metadata": {
        "id": "PbSUMV5Hl45m"
      },
      "execution_count": null,
      "outputs": []
    },
    {
      "cell_type": "code",
      "source": [
        "# print(best_score)\n",
        "# print(best_feature)"
      ],
      "metadata": {
        "colab": {
          "base_uri": "https://localhost:8080/"
        },
        "id": "OGLXXJnTy2iY",
        "outputId": "a09979f9-280d-42fd-9945-9d1bd58fff6f"
      },
      "execution_count": null,
      "outputs": [
        {
          "output_type": "stream",
          "name": "stdout",
          "text": [
            "0.8002621412803531\n",
            "['Tenure Months', 'Device Class', 'Use MyApp', 'Latitude', 'Location_Bandung', 'Payment Method_Credit', 'Payment Method_Debit', 'Payment Method_Digital Wallet']\n"
          ]
        }
      ]
    },
    {
      "cell_type": "markdown",
      "source": [
        "Export Model\n"
      ],
      "metadata": {
        "id": "RBwXlS7NL1uK"
      }
    },
    {
      "cell_type": "code",
      "source": [
        "!pip install joblib"
      ],
      "metadata": {
        "colab": {
          "base_uri": "https://localhost:8080/"
        },
        "id": "uuIzTt9mL376",
        "outputId": "2ee94d8a-7367-496f-ef76-7fb90ea93b52"
      },
      "execution_count": null,
      "outputs": [
        {
          "output_type": "stream",
          "name": "stdout",
          "text": [
            "Requirement already satisfied: joblib in /usr/local/lib/python3.10/dist-packages (1.3.2)\n"
          ]
        }
      ]
    },
    {
      "cell_type": "code",
      "source": [
        "import joblib\n",
        "export_model = cb.CatBoostClassifier(random_state=42, **catboost_param, class_weights={0: 0.45, 1: 0.55}, verbose=0)\n",
        "export_model.fit(X,y)\n",
        "joblib.dump(export_model, 'model.pkl')"
      ],
      "metadata": {
        "colab": {
          "base_uri": "https://localhost:8080/"
        },
        "id": "XyqZmT0mL3Jn",
        "outputId": "33218e52-5c2a-4676-ac1b-8a5a181a7d17"
      },
      "execution_count": null,
      "outputs": [
        {
          "output_type": "execute_result",
          "data": {
            "text/plain": [
              "['model.pkl']"
            ]
          },
          "metadata": {},
          "execution_count": 64
        }
      ]
    }
  ],
  "metadata": {
    "colab": {
      "provenance": []
    },
    "kernelspec": {
      "display_name": "Python 3",
      "name": "python3"
    },
    "language_info": {
      "name": "python"
    }
  },
  "nbformat": 4,
  "nbformat_minor": 0
}